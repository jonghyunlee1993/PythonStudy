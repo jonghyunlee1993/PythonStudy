{
 "cells": [
  {
   "cell_type": "code",
   "execution_count": 7,
   "metadata": {},
   "outputs": [
    {
     "name": "stdout",
     "output_type": "stream",
     "text": [
      "dlroW olleH"
     ]
    }
   ],
   "source": [
    "msg = \"Hello World\"\n",
    "length = len(msg)\n",
    "index = -1\n",
    "for i in range(length):\n",
    "    print(msg[index],end='')\n",
    "    index -= 1\n",
    "    pass\n"
   ]
  },
  {
   "cell_type": "code",
   "execution_count": 12,
   "metadata": {},
   "outputs": [
    {
     "name": "stdout",
     "output_type": "stream",
     "text": [
      "['A', 'B']\n"
     ]
    }
   ],
   "source": [
    "# A~Z까지 문자를 리스트에 할당하시오\n",
    "letter_list = ['A','B']\n",
    "print(letter_list)"
   ]
  },
  {
   "cell_type": "code",
   "execution_count": 14,
   "metadata": {},
   "outputs": [
    {
     "data": {
      "text/plain": [
       "65"
      ]
     },
     "execution_count": 14,
     "metadata": {},
     "output_type": "execute_result"
    }
   ],
   "source": [
    "ord('A')"
   ]
  },
  {
   "cell_type": "code",
   "execution_count": 15,
   "metadata": {},
   "outputs": [
    {
     "data": {
      "text/plain": [
       "'A'"
      ]
     },
     "execution_count": 15,
     "metadata": {},
     "output_type": "execute_result"
    }
   ],
   "source": [
    "chr(65)"
   ]
  },
  {
   "cell_type": "code",
   "execution_count": 18,
   "metadata": {},
   "outputs": [
    {
     "name": "stdout",
     "output_type": "stream",
     "text": [
      "['a', 'b', 'c', 'd', 'e', 'f', 'g', 'h', 'i', 'j', 'k', 'l', 'm', 'n', 'o', 'p', 'q', 'r', 's', 't', 'u', 'v', 'w', 'x', 'y', 'z']\n"
     ]
    }
   ],
   "source": [
    "letter_list = []\n",
    "for i in range(97,97+26):\n",
    "    letter_list.append(chr(i))\n",
    "    pass\n",
    "\n",
    "print(letter_list)"
   ]
  },
  {
   "cell_type": "code",
   "execution_count": 17,
   "metadata": {},
   "outputs": [
    {
     "data": {
      "text/plain": [
       "97"
      ]
     },
     "execution_count": 17,
     "metadata": {},
     "output_type": "execute_result"
    }
   ],
   "source": [
    "#a~z\n",
    "ord('a')"
   ]
  },
  {
   "cell_type": "code",
   "execution_count": 19,
   "metadata": {},
   "outputs": [
    {
     "name": "stdout",
     "output_type": "stream",
     "text": [
      "True\n"
     ]
    }
   ],
   "source": [
    "if -1:\n",
    "    print(\"True\")\n",
    "else :\n",
    "    print(\"False\")"
   ]
  },
  {
   "cell_type": "code",
   "execution_count": 20,
   "metadata": {},
   "outputs": [],
   "source": [
    "numbers = [i for i in range(10)]"
   ]
  },
  {
   "cell_type": "code",
   "execution_count": 21,
   "metadata": {},
   "outputs": [
    {
     "data": {
      "text/plain": [
       "[0, 1, 2, 3, 4, 5, 6, 7, 8, 9]"
      ]
     },
     "execution_count": 21,
     "metadata": {},
     "output_type": "execute_result"
    }
   ],
   "source": [
    "numbers"
   ]
  },
  {
   "cell_type": "code",
   "execution_count": 23,
   "metadata": {},
   "outputs": [],
   "source": [
    "import random as rnd"
   ]
  },
  {
   "cell_type": "code",
   "execution_count": 32,
   "metadata": {},
   "outputs": [],
   "source": [
    "numbers = [ rnd.randrange(1,101) for i in range(10)]"
   ]
  },
  {
   "cell_type": "code",
   "execution_count": 33,
   "metadata": {},
   "outputs": [
    {
     "data": {
      "text/plain": [
       "[96, 40, 86, 9, 12, 72, 21, 3, 1, 14]"
      ]
     },
     "execution_count": 33,
     "metadata": {},
     "output_type": "execute_result"
    }
   ],
   "source": [
    "numbers"
   ]
  },
  {
   "cell_type": "code",
   "execution_count": 37,
   "metadata": {},
   "outputs": [],
   "source": [
    "numbers.sort(reverse=True)"
   ]
  },
  {
   "cell_type": "code",
   "execution_count": 38,
   "metadata": {},
   "outputs": [
    {
     "data": {
      "text/plain": [
       "[96, 86, 72, 40, 21, 14, 12, 9, 3, 1]"
      ]
     },
     "execution_count": 38,
     "metadata": {},
     "output_type": "execute_result"
    }
   ],
   "source": [
    "numbers"
   ]
  },
  {
   "cell_type": "code",
   "execution_count": 39,
   "metadata": {},
   "outputs": [],
   "source": [
    "a = [ rnd.randrange(1,101) for i in range(10)]"
   ]
  },
  {
   "cell_type": "code",
   "execution_count": 40,
   "metadata": {},
   "outputs": [
    {
     "data": {
      "text/plain": [
       "[69, 2, 9, 98, 88, 17, 2, 25, 25, 51]"
      ]
     },
     "execution_count": 40,
     "metadata": {},
     "output_type": "execute_result"
    }
   ],
   "source": [
    "a"
   ]
  },
  {
   "cell_type": "code",
   "execution_count": 41,
   "metadata": {},
   "outputs": [
    {
     "name": "stdout",
     "output_type": "stream",
     "text": [
      "[98, 88, 69, 51, 25, 25, 17, 9, 2, 2]\n"
     ]
    }
   ],
   "source": [
    "result = sorted(a,reverse=True)\n",
    "print(result)"
   ]
  },
  {
   "cell_type": "code",
   "execution_count": 29,
   "metadata": {},
   "outputs": [
    {
     "data": {
      "text/plain": [
       "[72, 89, 91, 57, 12, 85, 44, 59, 17, 87]"
      ]
     },
     "execution_count": 29,
     "metadata": {},
     "output_type": "execute_result"
    }
   ],
   "source": [
    "numbers"
   ]
  },
  {
   "cell_type": "code",
   "execution_count": 31,
   "metadata": {},
   "outputs": [
    {
     "data": {
      "text/plain": [
       "12"
      ]
     },
     "execution_count": 31,
     "metadata": {},
     "output_type": "execute_result"
    }
   ],
   "source": [
    "result[0]"
   ]
  },
  {
   "cell_type": "code",
   "execution_count": 62,
   "metadata": {},
   "outputs": [],
   "source": [
    "file = open('./data/Abc1115.csv','r')\n",
    "lines = file.readlines()\n",
    "file.close()"
   ]
  },
  {
   "cell_type": "code",
   "execution_count": 51,
   "metadata": {},
   "outputs": [],
   "source": [
    "line = lines[0]"
   ]
  },
  {
   "cell_type": "code",
   "execution_count": 54,
   "metadata": {},
   "outputs": [
    {
     "data": {
      "text/plain": [
       "'990001,addx,17,29,16,49,43,154,C,A,C'"
      ]
     },
     "execution_count": 54,
     "metadata": {},
     "output_type": "execute_result"
    }
   ],
   "source": [
    "line[:-2]"
   ]
  },
  {
   "cell_type": "code",
   "execution_count": 63,
   "metadata": {},
   "outputs": [],
   "source": [
    "for i in range(len(lines)):\n",
    "    lines[i] = lines[i][:-2]\n",
    "    pass\n"
   ]
  },
  {
   "cell_type": "code",
   "execution_count": 64,
   "metadata": {},
   "outputs": [
    {
     "data": {
      "text/plain": [
       "['990001,addx,17,29,16,49,43,154,C,A,C',\n",
       " '990002,stch,30,9,48,25,81,193,C,A,A',\n",
       " '990003,gali,93,60,6,84,36,279,A,C,A',\n",
       " '990004,miat,73,22,48,24,72,239,B,C,C',\n",
       " '990005,oran,33,38,59,58,28,216,C,B,A',\n",
       " '990006,sj24,27,65,54,77,33,256,B,A,A',\n",
       " '990007,kor2,33,85,98,60,66,342,A,B,A',\n",
       " '990008,vsky,41,5,99,14,67,226,C,A,C',\n",
       " '990009,kimd,74,4,1,33,53,165,B,C,A',\n",
       " '990010,blue,55,84,50,89,37,315,A,B,A']"
      ]
     },
     "execution_count": 64,
     "metadata": {},
     "output_type": "execute_result"
    }
   ],
   "source": [
    "lines[0:10]"
   ]
  },
  {
   "cell_type": "code",
   "execution_count": 65,
   "metadata": {},
   "outputs": [
    {
     "data": {
      "text/plain": [
       "['990001', 'addx', '17', '29', '16', '49', '43', '154', 'C', 'A', 'C']"
      ]
     },
     "execution_count": 65,
     "metadata": {},
     "output_type": "execute_result"
    }
   ],
   "source": [
    "temp = lines[0].split(\",\")\n",
    "temp"
   ]
  },
  {
   "cell_type": "code",
   "execution_count": 90,
   "metadata": {},
   "outputs": [],
   "source": [
    "students = []\n",
    "for line in lines:\n",
    "    temp = line.split(\",\")\n",
    "    students.append(temp.copy())\n",
    "    pass\n"
   ]
  },
  {
   "cell_type": "code",
   "execution_count": 103,
   "metadata": {},
   "outputs": [
    {
     "data": {
      "text/plain": [
       "[['990001', 'addx', 17, 29, 16, 49, 43, 154, 'C', 'A', 'C'],\n",
       " ['990002', 'stch', 30, 9, 48, 25, 81, 193, 'C', 'A', 'A'],\n",
       " ['990003', 'gali', 93, 60, 6, 84, 36, 279, 'A', 'C', 'A'],\n",
       " ['990004', 'miat', 73, 22, 48, 24, 72, 239, 'B', 'C', 'C'],\n",
       " ['990005', 'oran', 33, 38, 59, 58, 28, 216, 'C', 'B', 'A']]"
      ]
     },
     "execution_count": 103,
     "metadata": {},
     "output_type": "execute_result"
    }
   ],
   "source": [
    "for student in students:\n",
    "    for i in range(2,8):\n",
    "        student[i] = int(student[i])\n",
    "        pass\n",
    "    pass\n",
    "\n",
    "students[:5]"
   ]
  },
  {
   "cell_type": "code",
   "execution_count": 104,
   "metadata": {},
   "outputs": [],
   "source": [
    "ans2 = 123\n",
    "ans_file = open('./data/ans2.txt','w')\n",
    "ans_file.write(\"{}\\n\".format(ans2))\n",
    "ans_file.close()"
   ]
  },
  {
   "cell_type": "code",
   "execution_count": 105,
   "metadata": {},
   "outputs": [],
   "source": [
    "quiz_2 = []\n",
    "for student in students:\n",
    "    if student[10]=='B':\n",
    "        temp = student[2]+student[3]\n",
    "        student.append(temp)\n",
    "        quiz_2.append(student)\n",
    "        pass\n",
    "    pass\n"
   ]
  },
  {
   "cell_type": "code",
   "execution_count": 106,
   "metadata": {},
   "outputs": [
    {
     "data": {
      "text/plain": [
       "300"
      ]
     },
     "execution_count": 106,
     "metadata": {},
     "output_type": "execute_result"
    }
   ],
   "source": [
    "len(quiz_2)"
   ]
  },
  {
   "cell_type": "code",
   "execution_count": 108,
   "metadata": {},
   "outputs": [
    {
     "data": {
      "text/plain": [
       "[['990021', 'equi', 13, 95, 56, 93, 88, 345, 'B', 'C', 'B', 108],\n",
       " ['990023', 'tess', 86, 71, 87, 6, 15, 265, 'B', 'C', 'B', 157]]"
      ]
     },
     "execution_count": 108,
     "metadata": {},
     "output_type": "execute_result"
    }
   ],
   "source": [
    "quiz_2[0:2]"
   ]
  },
  {
   "cell_type": "code",
   "execution_count": 114,
   "metadata": {},
   "outputs": [
    {
     "name": "stdout",
     "output_type": "stream",
     "text": [
      "192\n"
     ]
    }
   ],
   "source": [
    "max = 0\n",
    "for student in quiz_2:\n",
    "    if max < student[11]:\n",
    "        max = student[11]\n",
    "        pass\n",
    "    pass\n",
    "\n",
    "print(max)\n",
    "ans_file = open('./data/ans2.txt','w')\n",
    "ans_file.write(\"{}\\n\".format(max))\n",
    "ans_file.close()"
   ]
  },
  {
   "cell_type": "code",
   "execution_count": 111,
   "metadata": {},
   "outputs": [
    {
     "name": "stdout",
     "output_type": "stream",
     "text": [
      "99754\n"
     ]
    }
   ],
   "source": [
    "sum = 0\n",
    "for student in students:\n",
    "    temp = student[3] + student[4]\n",
    "    if temp >= 120:\n",
    "        point = 0\n",
    "        if student[8]=='A':\n",
    "            point = 5\n",
    "        elif student[8]=='B':\n",
    "            point = 15\n",
    "        else:\n",
    "            point = 20\n",
    "            pass\n",
    "        sum = sum + (point+student[7])\n",
    "        pass\n",
    "    pass\n",
    "\n",
    "print(sum)"
   ]
  },
  {
   "cell_type": "code",
   "execution_count": 115,
   "metadata": {},
   "outputs": [],
   "source": [
    "ans_file = open('./data/ans2.txt','a')\n",
    "ans_file.write(\"{}\\n\".format(sum))\n",
    "ans_file.close()"
   ]
  },
  {
   "cell_type": "code",
   "execution_count": 125,
   "metadata": {},
   "outputs": [
    {
     "name": "stdout",
     "output_type": "stream",
     "text": [
      "[[1, 2], [3, 4]]\n",
      "[[1, 2], [3, 4]]\n",
      "[[1, 2], [3, 4]]\n"
     ]
    }
   ],
   "source": [
    "a = [[1,2],[3,4]]\n",
    "b = a\n",
    "c = []\n",
    "c.append(a[0].copy())\n",
    "c.append(a[1].copy())\n",
    "print(a)\n",
    "print(b)\n",
    "print(c)"
   ]
  },
  {
   "cell_type": "code",
   "execution_count": 119,
   "metadata": {},
   "outputs": [
    {
     "data": {
      "text/plain": [
       "[[10, 2], [3, 4]]"
      ]
     },
     "execution_count": 119,
     "metadata": {},
     "output_type": "execute_result"
    }
   ],
   "source": [
    "b[0][0] = 10\n",
    "b"
   ]
  },
  {
   "cell_type": "code",
   "execution_count": 120,
   "metadata": {},
   "outputs": [
    {
     "data": {
      "text/plain": [
       "[[10, 2], [3, 4]]"
      ]
     },
     "execution_count": 120,
     "metadata": {},
     "output_type": "execute_result"
    }
   ],
   "source": [
    "a"
   ]
  },
  {
   "cell_type": "code",
   "execution_count": 123,
   "metadata": {},
   "outputs": [
    {
     "name": "stdout",
     "output_type": "stream",
     "text": [
      "2417230377800\n",
      "2417230377800\n",
      "2417228839432\n"
     ]
    }
   ],
   "source": [
    "print(id(a[0]))\n",
    "print(id(b[0]))\n",
    "print(id(c[0]))"
   ]
  },
  {
   "cell_type": "code",
   "execution_count": 126,
   "metadata": {},
   "outputs": [
    {
     "data": {
      "text/plain": [
       "[[100, 2], [3, 4]]"
      ]
     },
     "execution_count": 126,
     "metadata": {},
     "output_type": "execute_result"
    }
   ],
   "source": [
    "c[0][0]=100\n",
    "c"
   ]
  },
  {
   "cell_type": "code",
   "execution_count": 127,
   "metadata": {},
   "outputs": [
    {
     "data": {
      "text/plain": [
       "[[1, 2], [3, 4]]"
      ]
     },
     "execution_count": 127,
     "metadata": {},
     "output_type": "execute_result"
    }
   ],
   "source": [
    "a"
   ]
  },
  {
   "cell_type": "code",
   "execution_count": 128,
   "metadata": {},
   "outputs": [
    {
     "data": {
      "text/plain": [
       "1000"
      ]
     },
     "execution_count": 128,
     "metadata": {},
     "output_type": "execute_result"
    }
   ],
   "source": [
    "len(students)"
   ]
  },
  {
   "cell_type": "code",
   "execution_count": 129,
   "metadata": {},
   "outputs": [
    {
     "data": {
      "text/plain": [
       "[['990001', 'addx', 17, 29, 16, 49, 43, 154, 'C', 'A', 'C'],\n",
       " ['990002', 'stch', 30, 9, 48, 25, 81, 193, 'C', 'A', 'A'],\n",
       " ['990003', 'gali', 93, 60, 6, 84, 36, 279, 'A', 'C', 'A'],\n",
       " ['990004', 'miat', 73, 22, 48, 24, 72, 239, 'B', 'C', 'C'],\n",
       " ['990005', 'oran', 33, 38, 59, 58, 28, 216, 'C', 'B', 'A'],\n",
       " ['990006', 'sj24', 27, 65, 54, 77, 33, 256, 'B', 'A', 'A'],\n",
       " ['990007', 'kor2', 33, 85, 98, 60, 66, 342, 'A', 'B', 'A'],\n",
       " ['990008', 'vsky', 41, 5, 99, 14, 67, 226, 'C', 'A', 'C'],\n",
       " ['990009', 'kimd', 74, 4, 1, 33, 53, 165, 'B', 'C', 'A'],\n",
       " ['990010', 'blue', 55, 84, 50, 89, 37, 315, 'A', 'B', 'A']]"
      ]
     },
     "execution_count": 129,
     "metadata": {},
     "output_type": "execute_result"
    }
   ],
   "source": [
    "students[0:10]"
   ]
  },
  {
   "cell_type": "code",
   "execution_count": 132,
   "metadata": {},
   "outputs": [
    {
     "data": {
      "text/plain": [
       "[['990364', 'ywjs', 88, 81, 100, 84, 81, 434, 'B', 'C', 'A'],\n",
       " ['990051', 'soor', 94, 98, 85, 64, 75, 416, 'A', 'B', 'A'],\n",
       " ['990422', 'itkz', 93, 97, 74, 69, 80, 413, 'C', 'B', 'B', 190],\n",
       " ['990039', 'huff', 52, 99, 97, 87, 72, 407, 'A', 'C', 'A'],\n",
       " ['990659', 'pete', 100, 98, 77, 44, 85, 404, 'B', 'C', 'C'],\n",
       " ['990753', 'firs', 82, 58, 93, 86, 83, 402, 'A', 'C', 'B', 140],\n",
       " ['990865', 'hysu', 54, 96, 96, 55, 95, 396, 'C', 'A', 'A'],\n",
       " ['990710', 'kleo', 85, 87, 49, 76, 98, 395, 'B', 'C', 'B', 172],\n",
       " ['990440', 'gino', 59, 67, 91, 81, 95, 393, 'A', 'B', 'A'],\n",
       " ['990622', 'happ', 63, 80, 82, 78, 90, 393, 'C', 'A', 'C']]"
      ]
     },
     "execution_count": 132,
     "metadata": {},
     "output_type": "execute_result"
    }
   ],
   "source": [
    "a = sorted(students,key=lambda x : (-x[7],x[1]))\n",
    "a[0:10]"
   ]
  },
  {
   "cell_type": "code",
   "execution_count": 137,
   "metadata": {},
   "outputs": [
    {
     "data": {
      "text/plain": [
       "'990622'"
      ]
     },
     "execution_count": 137,
     "metadata": {},
     "output_type": "execute_result"
    }
   ],
   "source": [
    "answer = a[9]\n",
    "answer[0]\n",
    "a[9][0]"
   ]
  },
  {
   "cell_type": "code",
   "execution_count": null,
   "metadata": {},
   "outputs": [],
   "source": []
  }
 ],
 "metadata": {
  "kernelspec": {
   "display_name": "Python 3",
   "language": "python",
   "name": "python3"
  },
  "language_info": {
   "codemirror_mode": {
    "name": "ipython",
    "version": 3
   },
   "file_extension": ".py",
   "mimetype": "text/x-python",
   "name": "python",
   "nbconvert_exporter": "python",
   "pygments_lexer": "ipython3",
   "version": "3.7.4"
  }
 },
 "nbformat": 4,
 "nbformat_minor": 2
}

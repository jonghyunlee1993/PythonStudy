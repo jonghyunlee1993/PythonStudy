{
 "cells": [
  {
   "cell_type": "code",
   "execution_count": 1,
   "metadata": {},
   "outputs": [
    {
     "name": "stdout",
     "output_type": "stream",
     "text": [
      "Downloading data from https://storage.googleapis.com/tensorflow/tf-keras-datasets/imdb.npz\n",
      "17465344/17464789 [==============================] - 2s 0us/step\n"
     ]
    }
   ],
   "source": [
    "import tensorflow as tf\n",
    "from tensorflow import keras\n",
    "import numpy as np\n",
    "\n",
    "imdb = keras.datasets.imdb\n",
    "\n",
    "(train_data, train_labels), (test_data, test_labels) = imdb.load_data(num_words=10000)"
   ]
  },
  {
   "cell_type": "code",
   "execution_count": 2,
   "metadata": {},
   "outputs": [
    {
     "name": "stdout",
     "output_type": "stream",
     "text": [
      "훈련 샘플: 25000, 레이블: 25000\n",
      "[1, 14, 22, 16, 43, 530, 973, 1622, 1385, 65, 458, 4468, 66, 3941, 4, 173, 36, 256, 5, 25, 100, 43, 838, 112, 50, 670, 2, 9, 35, 480, 284, 5, 150, 4, 172, 112, 167, 2, 336, 385, 39, 4, 172, 4536, 1111, 17, 546, 38, 13, 447, 4, 192, 50, 16, 6, 147, 2025, 19, 14, 22, 4, 1920, 4613, 469, 4, 22, 71, 87, 12, 16, 43, 530, 38, 76, 15, 13, 1247, 4, 22, 17, 515, 17, 12, 16, 626, 18, 2, 5, 62, 386, 12, 8, 316, 8, 106, 5, 4, 2223, 5244, 16, 480, 66, 3785, 33, 4, 130, 12, 16, 38, 619, 5, 25, 124, 51, 36, 135, 48, 25, 1415, 33, 6, 22, 12, 215, 28, 77, 52, 5, 14, 407, 16, 82, 2, 8, 4, 107, 117, 5952, 15, 256, 4, 2, 7, 3766, 5, 723, 36, 71, 43, 530, 476, 26, 400, 317, 46, 7, 4, 2, 1029, 13, 104, 88, 4, 381, 15, 297, 98, 32, 2071, 56, 26, 141, 6, 194, 7486, 18, 4, 226, 22, 21, 134, 476, 26, 480, 5, 144, 30, 5535, 18, 51, 36, 28, 224, 92, 25, 104, 4, 226, 65, 16, 38, 1334, 88, 12, 16, 283, 5, 16, 4472, 113, 103, 32, 15, 16, 5345, 19, 178, 32]\n"
     ]
    },
    {
     "data": {
      "text/plain": [
       "(218, 189)"
      ]
     },
     "execution_count": 2,
     "metadata": {},
     "output_type": "execute_result"
    }
   ],
   "source": [
    "print(\"훈련 샘플: {}, 레이블: {}\".format(len(train_data), len(train_labels)))\n",
    "print(train_data[0])\n",
    "len(train_data[0]), len(train_data[1])"
   ]
  },
  {
   "cell_type": "code",
   "execution_count": 3,
   "metadata": {},
   "outputs": [
    {
     "name": "stdout",
     "output_type": "stream",
     "text": [
      "Downloading data from https://storage.googleapis.com/tensorflow/tf-keras-datasets/imdb_word_index.json\n",
      "1646592/1641221 [==============================] - 1s 0us/step\n"
     ]
    }
   ],
   "source": [
    "# 단어와 정수 인덱스를 매핑한 딕셔너리\n",
    "word_index = imdb.get_word_index()\n",
    "\n",
    "# 처음 몇 개 인덱스는 사전에 정의되어 있습니다\n",
    "word_index = {k:(v+3) for k,v in word_index.items()}\n",
    "word_index[\"<PAD>\"] = 0\n",
    "word_index[\"<START>\"] = 1\n",
    "word_index[\"<UNK>\"] = 2  # unknown\n",
    "word_index[\"<UNUSED>\"] = 3\n",
    "\n",
    "reverse_word_index = dict([(value, key) for (key, value) in word_index.items()])\n",
    "\n",
    "def decode_review(text):\n",
    "    return ' '.join([reverse_word_index.get(i, '?') for i in text])"
   ]
  },
  {
   "cell_type": "code",
   "execution_count": 9,
   "metadata": {},
   "outputs": [
    {
     "data": {
      "text/plain": [
       "\"<START> this film was just brilliant casting location scenery story direction everyone's really suited the part they played and you could just imagine being there robert <UNK> is an amazing actor and now the same being director <UNK> father came from the same scottish island as myself so i loved the fact there was a real connection with this film the witty remarks throughout the film were great it was just brilliant so much that i bought the film as soon as it was released for <UNK> and would recommend it to everyone to watch and the fly fishing was amazing really cried at the end it was so sad and you know what they say if you cry at a film it must have been good and this definitely was also <UNK> to the two little boy's that played the <UNK> of norman and paul they were just brilliant children are often left out of the <UNK> list i think because the stars that play them all grown up are such a big profile for the whole film but these children are amazing and should be praised for what they have done don't you think the whole story was so lovely because it was true and was someone's life after all that was shared with us all\""
      ]
     },
     "execution_count": 9,
     "metadata": {},
     "output_type": "execute_result"
    }
   ],
   "source": [
    "decode_review(train_data[0])"
   ]
  },
  {
   "cell_type": "code",
   "execution_count": 19,
   "metadata": {},
   "outputs": [],
   "source": [
    "# zero padding\n",
    "train_data = keras.preprocessing.sequence.pad_sequences(train_data,\n",
    "                                                        value=word_index[\"<PAD>\"],\n",
    "                                                        padding='post',\n",
    "                                                        maxlen=256)\n",
    "\n",
    "test_data = keras.preprocessing.sequence.pad_sequences(test_data,\n",
    "                                                       value=word_index[\"<PAD>\"],\n",
    "                                                       padding='post',\n",
    "                                                       maxlen=256)"
   ]
  },
  {
   "cell_type": "code",
   "execution_count": 20,
   "metadata": {},
   "outputs": [
    {
     "data": {
      "text/plain": [
       "(256, 256)"
      ]
     },
     "execution_count": 20,
     "metadata": {},
     "output_type": "execute_result"
    }
   ],
   "source": [
    "len(train_data[0]), len(train_data[1])"
   ]
  },
  {
   "cell_type": "code",
   "execution_count": 21,
   "metadata": {},
   "outputs": [
    {
     "name": "stdout",
     "output_type": "stream",
     "text": [
      "Model: \"sequential\"\n",
      "_________________________________________________________________\n",
      "Layer (type)                 Output Shape              Param #   \n",
      "=================================================================\n",
      "embedding (Embedding)        (None, None, 16)          160000    \n",
      "_________________________________________________________________\n",
      "global_average_pooling1d (Gl (None, 16)                0         \n",
      "_________________________________________________________________\n",
      "dense (Dense)                (None, 16)                272       \n",
      "_________________________________________________________________\n",
      "dense_1 (Dense)              (None, 1)                 17        \n",
      "=================================================================\n",
      "Total params: 160,289\n",
      "Trainable params: 160,289\n",
      "Non-trainable params: 0\n",
      "_________________________________________________________________\n"
     ]
    }
   ],
   "source": [
    "# 입력 크기는 영화 리뷰 데이터셋에 적용된 어휘 사전의 크기입니다(10,000개의 단어)\n",
    "vocab_size = 10000\n",
    "\n",
    "model = keras.Sequential()\n",
    "model.add(keras.layers.Embedding(vocab_size, 16, input_shape=(None,)))\n",
    "model.add(keras.layers.GlobalAveragePooling1D())\n",
    "model.add(keras.layers.Dense(16, activation='relu'))\n",
    "model.add(keras.layers.Dense(1, activation='sigmoid'))\n",
    "\n",
    "model.summary()"
   ]
  },
  {
   "cell_type": "code",
   "execution_count": 22,
   "metadata": {},
   "outputs": [],
   "source": [
    "model.compile(optimizer='adam',\n",
    "              loss='binary_crossentropy',\n",
    "              metrics=['accuracy'])"
   ]
  },
  {
   "cell_type": "code",
   "execution_count": 23,
   "metadata": {},
   "outputs": [],
   "source": [
    "x_val = train_data[:10000]\n",
    "partial_x_train = train_data[10000:]\n",
    "\n",
    "y_val = train_labels[:10000]\n",
    "partial_y_train = train_labels[10000:]"
   ]
  },
  {
   "cell_type": "code",
   "execution_count": 24,
   "metadata": {},
   "outputs": [
    {
     "name": "stdout",
     "output_type": "stream",
     "text": [
      "Train on 15000 samples, validate on 10000 samples\n",
      "Epoch 1/40\n",
      "15000/15000 [==============================] - 2s 104us/sample - loss: 0.6920 - accuracy: 0.5564 - val_loss: 0.6902 - val_accuracy: 0.6279\n",
      "Epoch 2/40\n",
      "15000/15000 [==============================] - 1s 35us/sample - loss: 0.6868 - accuracy: 0.6795 - val_loss: 0.6829 - val_accuracy: 0.7411\n",
      "Epoch 3/40\n",
      "15000/15000 [==============================] - 1s 43us/sample - loss: 0.6752 - accuracy: 0.7651 - val_loss: 0.6684 - val_accuracy: 0.7470\n",
      "Epoch 4/40\n",
      "15000/15000 [==============================] - 1s 39us/sample - loss: 0.6548 - accuracy: 0.7718 - val_loss: 0.6449 - val_accuracy: 0.7651\n",
      "Epoch 5/40\n",
      "15000/15000 [==============================] - 1s 37us/sample - loss: 0.6236 - accuracy: 0.7877 - val_loss: 0.6113 - val_accuracy: 0.7788\n",
      "Epoch 6/40\n",
      "15000/15000 [==============================] - 1s 46us/sample - loss: 0.5828 - accuracy: 0.8040 - val_loss: 0.5706 - val_accuracy: 0.7959\n",
      "Epoch 7/40\n",
      "15000/15000 [==============================] - 1s 42us/sample - loss: 0.5351 - accuracy: 0.8259 - val_loss: 0.5259 - val_accuracy: 0.8131\n",
      "Epoch 8/40\n",
      "15000/15000 [==============================] - 1s 40us/sample - loss: 0.4858 - accuracy: 0.8419 - val_loss: 0.4825 - val_accuracy: 0.8308\n",
      "Epoch 9/40\n",
      "15000/15000 [==============================] - 1s 39us/sample - loss: 0.4394 - accuracy: 0.8581 - val_loss: 0.4441 - val_accuracy: 0.8414\n",
      "Epoch 10/40\n",
      "15000/15000 [==============================] - 1s 49us/sample - loss: 0.3994 - accuracy: 0.8695 - val_loss: 0.4121 - val_accuracy: 0.8501\n",
      "Epoch 11/40\n",
      "15000/15000 [==============================] - 1s 43us/sample - loss: 0.3647 - accuracy: 0.8787 - val_loss: 0.3865 - val_accuracy: 0.8582\n",
      "Epoch 12/40\n",
      "15000/15000 [==============================] - 1s 44us/sample - loss: 0.3361 - accuracy: 0.8899 - val_loss: 0.3648 - val_accuracy: 0.8643\n",
      "Epoch 13/40\n",
      "15000/15000 [==============================] - 1s 43us/sample - loss: 0.3122 - accuracy: 0.8946 - val_loss: 0.3485 - val_accuracy: 0.8677\n",
      "Epoch 14/40\n",
      "15000/15000 [==============================] - 1s 50us/sample - loss: 0.2918 - accuracy: 0.9002 - val_loss: 0.3357 - val_accuracy: 0.8718\n",
      "Epoch 15/40\n",
      "15000/15000 [==============================] - 1s 42us/sample - loss: 0.2745 - accuracy: 0.9054 - val_loss: 0.3252 - val_accuracy: 0.8730\n",
      "Epoch 16/40\n",
      "15000/15000 [==============================] - 1s 44us/sample - loss: 0.2589 - accuracy: 0.9107 - val_loss: 0.3164 - val_accuracy: 0.8773\n",
      "Epoch 17/40\n",
      "15000/15000 [==============================] - 1s 41us/sample - loss: 0.2452 - accuracy: 0.9152 - val_loss: 0.3091 - val_accuracy: 0.8785\n",
      "Epoch 18/40\n",
      "15000/15000 [==============================] - 1s 40us/sample - loss: 0.2327 - accuracy: 0.9194 - val_loss: 0.3034 - val_accuracy: 0.8803\n",
      "Epoch 19/40\n",
      "15000/15000 [==============================] - 1s 45us/sample - loss: 0.2207 - accuracy: 0.9238 - val_loss: 0.2988 - val_accuracy: 0.8807\n",
      "Epoch 20/40\n",
      "15000/15000 [==============================] - 1s 45us/sample - loss: 0.2106 - accuracy: 0.9277 - val_loss: 0.2952 - val_accuracy: 0.8813\n",
      "Epoch 21/40\n",
      "15000/15000 [==============================] - 1s 66us/sample - loss: 0.2007 - accuracy: 0.9311 - val_loss: 0.2922 - val_accuracy: 0.8833\n",
      "Epoch 22/40\n",
      "15000/15000 [==============================] - 1s 51us/sample - loss: 0.1918 - accuracy: 0.9343 - val_loss: 0.2901 - val_accuracy: 0.8827\n",
      "Epoch 23/40\n",
      "15000/15000 [==============================] - 1s 52us/sample - loss: 0.1834 - accuracy: 0.9389 - val_loss: 0.2879 - val_accuracy: 0.8837\n",
      "Epoch 24/40\n",
      "15000/15000 [==============================] - 1s 36us/sample - loss: 0.1757 - accuracy: 0.9434 - val_loss: 0.2870 - val_accuracy: 0.8842\n",
      "Epoch 25/40\n",
      "15000/15000 [==============================] - 1s 45us/sample - loss: 0.1681 - accuracy: 0.9463 - val_loss: 0.2858 - val_accuracy: 0.8852\n",
      "Epoch 26/40\n",
      "15000/15000 [==============================] - 1s 58us/sample - loss: 0.1615 - accuracy: 0.9484 - val_loss: 0.2856 - val_accuracy: 0.8861\n",
      "Epoch 27/40\n",
      "15000/15000 [==============================] - 1s 37us/sample - loss: 0.1545 - accuracy: 0.9521 - val_loss: 0.2864 - val_accuracy: 0.8853\n",
      "Epoch 28/40\n",
      "15000/15000 [==============================] - 1s 53us/sample - loss: 0.1483 - accuracy: 0.9549 - val_loss: 0.2864 - val_accuracy: 0.8863\n",
      "Epoch 29/40\n",
      "15000/15000 [==============================] - 1s 67us/sample - loss: 0.1424 - accuracy: 0.9567 - val_loss: 0.2880 - val_accuracy: 0.8856\n",
      "Epoch 30/40\n",
      "15000/15000 [==============================] - 1s 44us/sample - loss: 0.1368 - accuracy: 0.9585 - val_loss: 0.2890 - val_accuracy: 0.8864\n",
      "Epoch 31/40\n",
      "15000/15000 [==============================] - 1s 47us/sample - loss: 0.1313 - accuracy: 0.9605 - val_loss: 0.2893 - val_accuracy: 0.8867\n",
      "Epoch 32/40\n",
      "15000/15000 [==============================] - 1s 44us/sample - loss: 0.1261 - accuracy: 0.9634 - val_loss: 0.2917 - val_accuracy: 0.8853\n",
      "Epoch 33/40\n",
      "15000/15000 [==============================] - 1s 55us/sample - loss: 0.1209 - accuracy: 0.9656 - val_loss: 0.2938 - val_accuracy: 0.8854\n",
      "Epoch 34/40\n",
      "15000/15000 [==============================] - 1s 49us/sample - loss: 0.1166 - accuracy: 0.9665 - val_loss: 0.2954 - val_accuracy: 0.8855\n",
      "Epoch 35/40\n",
      "15000/15000 [==============================] - 0s 32us/sample - loss: 0.1119 - accuracy: 0.9685 - val_loss: 0.2975 - val_accuracy: 0.8851\n",
      "Epoch 36/40\n",
      "15000/15000 [==============================] - 1s 63us/sample - loss: 0.1074 - accuracy: 0.9691 - val_loss: 0.3022 - val_accuracy: 0.8836\n",
      "Epoch 37/40\n",
      "15000/15000 [==============================] - 1s 51us/sample - loss: 0.1038 - accuracy: 0.9710 - val_loss: 0.3031 - val_accuracy: 0.8847\n",
      "Epoch 38/40\n",
      "15000/15000 [==============================] - 0s 33us/sample - loss: 0.0997 - accuracy: 0.9729 - val_loss: 0.3059 - val_accuracy: 0.8843\n",
      "Epoch 39/40\n",
      "15000/15000 [==============================] - 0s 30us/sample - loss: 0.0957 - accuracy: 0.9743 - val_loss: 0.3099 - val_accuracy: 0.8823\n",
      "Epoch 40/40\n",
      "15000/15000 [==============================] - 0s 29us/sample - loss: 0.0920 - accuracy: 0.9761 - val_loss: 0.3119 - val_accuracy: 0.8837\n"
     ]
    }
   ],
   "source": [
    "history = model.fit(partial_x_train,\n",
    "                    partial_y_train,\n",
    "                    epochs=40,\n",
    "                    batch_size=512,\n",
    "                    validation_data=(x_val, y_val),\n",
    "                    verbose=1)"
   ]
  },
  {
   "cell_type": "code",
   "execution_count": 25,
   "metadata": {},
   "outputs": [
    {
     "name": "stdout",
     "output_type": "stream",
     "text": [
      "25000/1 - 1s - loss: 0.3325 - accuracy: 0.8730\n",
      "[0.33260121968269346, 0.873]\n"
     ]
    }
   ],
   "source": [
    "results = model.evaluate(test_data,  test_labels, verbose=2)\n",
    "\n",
    "print(results)"
   ]
  },
  {
   "cell_type": "code",
   "execution_count": 26,
   "metadata": {},
   "outputs": [
    {
     "data": {
      "text/plain": [
       "dict_keys(['loss', 'accuracy', 'val_loss', 'val_accuracy'])"
      ]
     },
     "execution_count": 26,
     "metadata": {},
     "output_type": "execute_result"
    }
   ],
   "source": [
    "history_dict = history.history\n",
    "history_dict.keys()"
   ]
  },
  {
   "cell_type": "code",
   "execution_count": 28,
   "metadata": {},
   "outputs": [
    {
     "data": {
      "image/png": "[encoded data removed]",
      "text/plain": [
       "<Figure size 432x288 with 1 Axes>"
      ]
     },
     "metadata": {
      "needs_background": "light"
     },
     "output_type": "display_data"
    }
   ],
   "source": [
    "import matplotlib.pyplot as plt\n",
    "%matplotlib inline \n",
    "\n",
    "acc = history_dict['accuracy']\n",
    "val_acc = history_dict['val_accuracy']\n",
    "loss = history_dict['loss']\n",
    "val_loss = history_dict['val_loss']\n",
    "\n",
    "epochs = range(1, len(acc) + 1)\n",
    "\n",
    "# \"bo\"는 \"파란색 점\"입니다\n",
    "plt.plot(epochs, loss, 'bo', label='Training loss')\n",
    "# b는 \"파란 실선\"입니다\n",
    "plt.plot(epochs, val_loss, 'b', label='Validation loss')\n",
    "plt.title('Training and validation loss')\n",
    "plt.xlabel('Epochs')\n",
    "plt.ylabel('Loss')\n",
    "plt.legend()\n",
    "\n",
    "plt.show()"
   ]
  },
  {
   "cell_type": "code",
   "execution_count": 29,
   "metadata": {},
   "outputs": [
    {
     "data": {
      "image/png": "[encoded data removed]",
      "text/plain": [
       "<Figure size 432x288 with 1 Axes>"
      ]
     },
     "metadata": {
      "needs_background": "light"
     },
     "output_type": "display_data"
    }
   ],
   "source": [
    "plt.clf()   # 그림을 초기화합니다\n",
    "\n",
    "plt.plot(epochs, acc, 'bo', label='Training acc')\n",
    "plt.plot(epochs, val_acc, 'b', label='Validation acc')\n",
    "plt.title('Training and validation accuracy')\n",
    "plt.xlabel('Epochs')\n",
    "plt.ylabel('Accuracy')\n",
    "plt.legend()\n",
    "\n",
    "plt.show()"
   ]
  },
  {
   "cell_type": "code",
   "execution_count": null,
   "metadata": {},
   "outputs": [],
   "source": []
  }
 ],
 "metadata": {
  "kernelspec": {
   "display_name": "Python 3",
   "language": "python",
   "name": "python3"
  },
  "language_info": {
   "codemirror_mode": {
    "name": "ipython",
    "version": 3
   },
   "file_extension": ".py",
   "mimetype": "text/x-python",
   "name": "python",
   "nbconvert_exporter": "python",
   "pygments_lexer": "ipython3",
   "version": "3.7.1"
  }
 },
 "nbformat": 4,
 "nbformat_minor": 2
}

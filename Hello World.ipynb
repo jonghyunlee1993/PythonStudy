{
 "cells": [
  {
   "cell_type": "code",
   "execution_count": 1,
   "metadata": {},
   "outputs": [
    {
     "name": "stdout",
     "output_type": "stream",
     "text": [
      "Hello World!\n"
     ]
    }
   ],
   "source": [
    "print(\"Hello World!\")"
   ]
  },
  {
   "cell_type": "code",
   "execution_count": 3,
   "metadata": {},
   "outputs": [
    {
     "data": {
      "text/plain": [
       "45"
      ]
     },
     "execution_count": 3,
     "metadata": {},
     "output_type": "execute_result"
    }
   ],
   "source": [
    "my_number = 123456789\n",
    "\n",
    "split_number = str(my_number)\n",
    "\n",
    "res = 0\n",
    "\n",
    "for num in split_number:\n",
    "    res += int(num)\n",
    "\n",
    "res"
   ]
  },
  {
   "cell_type": "code",
   "execution_count": 39,
   "metadata": {},
   "outputs": [
    {
     "name": "stdout",
     "output_type": "stream",
     "text": [
      "21\n"
     ]
    }
   ],
   "source": [
    "my_number = 123456\n",
    "\n",
    "a = my_number % 10 \n",
    "b = my_number % 10**2 // 10\n",
    "c = my_number % 10**3 // 10**2\n",
    "d = my_number % 10**4 // 10**3\n",
    "e = my_number % 10**5 // 10**4\n",
    "f = my_number % 10**6 // 10**5\n",
    "\n",
    "res = a + b + c + d + e + f\n",
    "print(res)"
   ]
  },
  {
   "cell_type": "code",
   "execution_count": 42,
   "metadata": {},
   "outputs": [],
   "source": [
    "def number_counter(my_number):\n",
    "    length = len(str(my_number))\n",
    "    \n",
    "    res = 0\n",
    "    \n",
    "    for i in range(length):\n",
    "        temp = my_number % 10**(i+1) // 10**(i)\n",
    "        res += temp\n",
    "    \n",
    "    return(res)"
   ]
  },
  {
   "cell_type": "code",
   "execution_count": 43,
   "metadata": {},
   "outputs": [
    {
     "name": "stdout",
     "output_type": "stream",
     "text": [
      "21\n"
     ]
    }
   ],
   "source": [
    "res = number_counter(my_number)\n",
    "print(res)"
   ]
  },
  {
   "cell_type": "code",
   "execution_count": 44,
   "metadata": {},
   "outputs": [
    {
     "name": "stdout",
     "output_type": "stream",
     "text": [
      "55\n"
     ]
    }
   ],
   "source": [
    "# 1부터 10까지 합을 구하시오\n",
    "\n",
    "res = 0\n",
    "\n",
    "for i in range(10):\n",
    "    res += (i+1)\n",
    "    \n",
    "print(res)"
   ]
  }
 ],
 "metadata": {
  "kernelspec": {
   "display_name": "Python 3",
   "language": "python",
   "name": "python3"
  },
  "language_info": {
   "codemirror_mode": {
    "name": "ipython",
    "version": 3
   },
   "file_extension": ".py",
   "mimetype": "text/x-python",
   "name": "python",
   "nbconvert_exporter": "python",
   "pygments_lexer": "ipython3",
   "version": "3.7.4"
  }
 },
 "nbformat": 4,
 "nbformat_minor": 2
}

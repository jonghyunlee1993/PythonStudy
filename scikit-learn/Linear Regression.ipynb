{
 "cells": [
  {
   "cell_type": "markdown",
   "metadata": {},
   "source": [
    "# Linear Regression"
   ]
  },
  {
   "cell_type": "code",
   "execution_count": 2,
   "metadata": {},
   "outputs": [
    {
     "name": "stdout",
     "output_type": "stream",
     "text": [
      "train score:  0.66\n",
      "test score:  0.69\n"
     ]
    }
   ],
   "source": [
    "import mglearn\n",
    "from sklearn.linear_model import LinearRegression\n",
    "from sklearn.model_selection import train_test_split\n",
    "\n",
    "x, y = mglearn.datasets.make_wave(n_samples = 60)\n",
    "x_train, x_test, y_train, y_test = train_test_split(x, y, random_state = 0)\n",
    "\n",
    "lr = LinearRegression().fit(x_train, y_train)\n",
    "\n",
    "print(f\"train score: {lr.score(x_train, y_train): 0.2f}\")\n",
    "print(f\"test score: {lr.score(x_test, y_test): 0.2f}\")"
   ]
  },
  {
   "cell_type": "code",
   "execution_count": 4,
   "metadata": {},
   "outputs": [
    {
     "name": "stdout",
     "output_type": "stream",
     "text": [
      "train score:  0.95\n",
      "test score:  0.61\n"
     ]
    }
   ],
   "source": [
    "# boston datasets\n",
    "x, y = mglearn.datasets.load_extended_boston()\n",
    "\n",
    "x_train, x_test, y_train, y_test = train_test_split(x, y, random_state = 0)\n",
    "lr = LinearRegression().fit(x_train, y_train)\n",
    "\n",
    "print(f\"train score: {lr.score(x_train, y_train): 0.2f}\")\n",
    "print(f\"test score: {lr.score(x_test, y_test): 0.2f}\")"
   ]
  },
  {
   "cell_type": "markdown",
   "metadata": {},
   "source": [
    "# Ridge"
   ]
  },
  {
   "cell_type": "code",
   "execution_count": 9,
   "metadata": {},
   "outputs": [
    {
     "name": "stdout",
     "output_type": "stream",
     "text": [
      "train Acc:  0.89\n",
      "test Acc:  0.75\n"
     ]
    }
   ],
   "source": [
    "# rigid regression\n",
    "from sklearn.linear_model import Ridge\n",
    "ridge = Ridge().fit(x_train, y_train)\n",
    "print(f\"train Acc: {ridge.score(x_train, y_train): 0.2f}\")\n",
    "print(f\"test Acc: {ridge.score(x_test, y_test): 0.2f}\")"
   ]
  },
  {
   "cell_type": "code",
   "execution_count": 12,
   "metadata": {},
   "outputs": [
    {
     "name": "stdout",
     "output_type": "stream",
     "text": [
      "train Acc:  0.93\n",
      "test Acc:  0.77\n"
     ]
    }
   ],
   "source": [
    "# alpha가 클수록 제약을 적게 주기 때문에 linear regreesion 결과와 동일해짐\n",
    "ridge10 = Ridge(alpha = 10).fit(x_train, y_train)\n",
    "\n",
    "print(f\"train Acc: {ridge.score(x_train, y_train): 0.2f}\")\n",
    "print(f\"test Acc: {ridge.score(x_test, y_test): 0.2f}\")"
   ]
  },
  {
   "cell_type": "code",
   "execution_count": 13,
   "metadata": {},
   "outputs": [
    {
     "name": "stdout",
     "output_type": "stream",
     "text": [
      "train Acc:  0.93\n",
      "test Acc:  0.77\n"
     ]
    }
   ],
   "source": [
    "# alpha가 클수록 제약을 적게 주기 때문에 linear regreesion 결과와 동일해짐\n",
    "ridge01 = Ridge(alpha = 0.1).fit(x_train, y_train)\n",
    "\n",
    "print(f\"train Acc: {ridge.score(x_train, y_train): 0.2f}\")\n",
    "print(f\"test Acc: {ridge.score(x_test, y_test): 0.2f}\")"
   ]
  },
  {
   "cell_type": "code",
   "execution_count": 16,
   "metadata": {},
   "outputs": [
    {
     "data": {
      "text/plain": [
       "<matplotlib.legend.Legend at 0x1c26369eb8>"
      ]
     },
     "execution_count": 16,
     "metadata": {},
     "output_type": "execute_result"
    },
    {
     "data": {
      "image/png": "[encoded data removed]",
      "text/plain": [
       "<Figure size 432x288 with 1 Axes>"
      ]
     },
     "metadata": {
      "needs_background": "light"
     },
     "output_type": "display_data"
    }
   ],
   "source": [
    "import matplotlib.pyplot as plt\n",
    "\n",
    "plt.plot(ridge10.coef_, \"^\", label = \"Ridge alpha: 10\")\n",
    "plt.plot(ridge.coef_, \"s\", label = \"Ridge alpha: 1\")\n",
    "plt.plot(ridge01.coef_, \"v\", label = \"Ridge alpha: 0.1\")\n",
    "plt.plot(lr.coef_, 'o', label = \"Linear Regression\")\n",
    "\n",
    "plt.xlabel(\"coef list\")\n",
    "plt.ylabel(\"coef size\")\n",
    "\n",
    "xlims = plt.xlim()\n",
    "plt.hlines(0, xlims[0], xlims[1])\n",
    "plt.xlim(xlims)\n",
    "plt.ylim(-25, 25)\n",
    "plt.legend()"
   ]
  },
  {
   "cell_type": "markdown",
   "metadata": {},
   "source": [
    "# Lasso"
   ]
  },
  {
   "cell_type": "code",
   "execution_count": 19,
   "metadata": {},
   "outputs": [
    {
     "name": "stdout",
     "output_type": "stream",
     "text": [
      "train acc:  0.29\n",
      "test acc:  0.21\n",
      "number of features: 4\n"
     ]
    }
   ],
   "source": [
    "from sklearn.linear_model import Lasso\n",
    "import numpy as np\n",
    "\n",
    "lasso = Lasso().fit(x_train, y_train)\n",
    "\n",
    "print(f\"train acc: {lasso.score(x_train, y_train): 0.2f}\")\n",
    "print(f\"test acc: {lasso.score(x_test, y_test): 0.2f}\")\n",
    "print(f\"number of features: {np.sum(lasso.coef_ != 0)}\")"
   ]
  },
  {
   "cell_type": "code",
   "execution_count": 21,
   "metadata": {},
   "outputs": [
    {
     "name": "stdout",
     "output_type": "stream",
     "text": [
      "train acc:  0.90\n",
      "test acc:  0.77\n",
      "number of features: 33\n"
     ]
    }
   ],
   "source": [
    "lasso001 = Lasso(alpha = 0.01, max_iter = 100000).fit(x_train, y_train)\n",
    "\n",
    "print(f\"train acc: {lasso001.score(x_train, y_train): 0.2f}\")\n",
    "print(f\"test acc: {lasso001.score(x_test, y_test): 0.2f}\")\n",
    "print(f\"number of features: {np.sum(lasso001.coef_ != 0)}\")"
   ]
  },
  {
   "cell_type": "code",
   "execution_count": 22,
   "metadata": {},
   "outputs": [
    {
     "name": "stdout",
     "output_type": "stream",
     "text": [
      "train acc:  0.95\n",
      "test acc:  0.64\n",
      "number of features: 96\n"
     ]
    }
   ],
   "source": [
    "# alpha 계수가 커질수록 Linear Regression 결과와 유사\n",
    "lasso00001 = Lasso(alpha = 0.0001, max_iter = 100000).fit(x_train, y_train)\n",
    "\n",
    "print(f\"train acc: {lasso00001.score(x_train, y_train): 0.2f}\")\n",
    "print(f\"test acc: {lasso00001.score(x_test, y_test): 0.2f}\")\n",
    "print(f\"number of features: {np.sum(lasso00001.coef_ != 0)}\")"
   ]
  },
  {
   "cell_type": "markdown",
   "metadata": {},
   "source": [
    "## Ridge and Lasso\n",
    "\n",
    "- 일반적으로 Ridge를 선호하지만 변수가 많은 경우, Lasso를 통해서 변수를 줄이기도 함.\n",
    "- 설명하기 쉬운 것은 Lasso\n",
    "- ElasticNet은 이 두 가지를 동시에 고려하는 방식으로 최적 파라미터를 조정해야 함.\n",
    "- L1 regularization: Lasso / L2 regularization: Ridge"
   ]
  },
  {
   "cell_type": "code",
   "execution_count": null,
   "metadata": {},
   "outputs": [],
   "source": []
  }
 ],
 "metadata": {
  "kernelspec": {
   "display_name": "Python 3",
   "language": "python",
   "name": "python3"
  },
  "language_info": {
   "codemirror_mode": {
    "name": "ipython",
    "version": 3
   },
   "file_extension": ".py",
   "mimetype": "text/x-python",
   "name": "python",
   "nbconvert_exporter": "python",
   "pygments_lexer": "ipython3",
   "version": "3.7.1"
  }
 },
 "nbformat": 4,
 "nbformat_minor": 2
}

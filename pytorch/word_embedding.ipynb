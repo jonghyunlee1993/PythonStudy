{
 "cells": [
  {
   "cell_type": "code",
   "execution_count": 1,
   "id": "b3364283",
   "metadata": {
    "scrolled": true
   },
   "outputs": [
    {
     "name": "stdout",
     "output_type": "stream",
     "text": [
      "train data: 25000\n"
     ]
    }
   ],
   "source": [
    "import torch\n",
    "from torch import nn\n",
    "\n",
    "import torchtext\n",
    "from torchtext import data, datasets, vocab\n",
    "\n",
    "TEXT  = data.Field(sequential=True, batch_first=True, lower=True)\n",
    "LABEL = data.Field(sequential=False, batch_first=True)\n",
    "\n",
    "train_data, test_data = datasets.IMDB.splits(TEXT, LABEL)\n",
    "\n",
    "print(f\"train data: {len(train_data)}\")"
   ]
  },
  {
   "cell_type": "code",
   "execution_count": 2,
   "id": "dbdc55fd",
   "metadata": {
    "scrolled": true
   },
   "outputs": [],
   "source": [
    "TEXT.build_vocab(train_data, vectors=vocab.GloVe(name='6B', dim=300), max_size=10000, min_freq=10)\n",
    "LABEL.build_vocab(train_data)"
   ]
  },
  {
   "cell_type": "code",
   "execution_count": 10,
   "id": "980fb565",
   "metadata": {},
   "outputs": [
    {
     "data": {
      "text/plain": [
       "torch.Size([1, 300])"
      ]
     },
     "execution_count": 10,
     "metadata": {},
     "output_type": "execute_result"
    }
   ],
   "source": [
    "embedding_layer = nn.Embedding.from_pretrained(TEXT.vocab.vectors, freeze=True)\n",
    "\n",
    "embedding_layer(torch.LongTensor([10])).shape"
   ]
  },
  {
   "cell_type": "code",
   "execution_count": 5,
   "id": "389d88d3",
   "metadata": {},
   "outputs": [],
   "source": [
    "from torchtext.data import Iterator\n",
    "\n",
    "batch_size = 1\n",
    "train_loader = Iterator(dataset=train_data, batch_size=batch_size)\n",
    "test_loader  = Iterator(dataset=test_data, batch_size=batch_size)"
   ]
  },
  {
   "cell_type": "code",
   "execution_count": 7,
   "id": "f4cbeb90",
   "metadata": {},
   "outputs": [
    {
     "name": "stdout",
     "output_type": "stream",
     "text": [
      "\n",
      "[torchtext.data.batch.Batch of size 1 from IMDB]\n",
      "\t[.text]:[torch.LongTensor of size 1x128]\n",
      "\t[.label]:[torch.LongTensor of size 1]\n",
      "tensor([[   2, 3343, 1062,   14,   47,    5,   10, 1441,    2, 2214,  159, 2731,\n",
      "          191,    2, 1588,   19,    3, 9622, 4532,    0,    2,    0,   11,   22,\n",
      "          109,  104, 1138, 2006,    2,  150,   17, 3639,    4, 7080,   14,  220,\n",
      "            2, 2985,    5,    2,  117,    2,  121,    8,    2, 5872,   19,    2,\n",
      "           97,  550, 3876,   66, 1996,   18,    2,   20,    7, 4350,   17,  112,\n",
      "           32,    0,    5, 1645,   34,    0,   13,   93,  131,   17,   44, 1552,\n",
      "            4,  455,   14, 6529,    4, 1334,    4,   25,  367,  337,   36,   14,\n",
      "           56,   40,   97,   40,   63,  589,   89,   66,  774,  108,   13,  742,\n",
      "           56,  318,    5, 1222,    4,  107,    0,    0,    2, 1362,    5,    2,\n",
      "           75,    7,  168, 1756,   16,    3,    0,   24,    5,   10,  840,    4,\n",
      "         4287,   25,    8, 1067,   78, 6674, 2273, 4694]])\n",
      "tensor([2])\n"
     ]
    }
   ],
   "source": [
    "for batch in train_loader:\n",
    "    print(batch)\n",
    "    print(batch.text)\n",
    "    print(batch.label)\n",
    "    break"
   ]
  },
  {
   "cell_type": "code",
   "execution_count": 13,
   "id": "9e404506",
   "metadata": {},
   "outputs": [
    {
     "name": "stdout",
     "output_type": "stream",
     "text": [
      "torch.Size([1, 210])\n",
      "torch.Size([1, 210, 300])\n"
     ]
    }
   ],
   "source": [
    "for batch in train_loader:\n",
    "#     print(embedding_layer(batch.text))\n",
    "    print(batch.text.shape)\n",
    "    print(embedding_layer(batch.text).shape)\n",
    "    break"
   ]
  }
 ],
 "metadata": {
  "kernelspec": {
   "display_name": "Python 3",
   "language": "python",
   "name": "python3"
  },
  "language_info": {
   "codemirror_mode": {
    "name": "ipython",
    "version": 3
   },
   "file_extension": ".py",
   "mimetype": "text/x-python",
   "name": "python",
   "nbconvert_exporter": "python",
   "pygments_lexer": "ipython3",
   "version": "3.8.8"
  }
 },
 "nbformat": 4,
 "nbformat_minor": 5
}

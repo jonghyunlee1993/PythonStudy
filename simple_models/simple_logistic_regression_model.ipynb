{
  "nbformat": 4,
  "nbformat_minor": 0,
  "metadata": {
    "colab": {
      "name": "simple_logistic_regression_model.ipynb",
      "provenance": []
    },
    "kernelspec": {
      "name": "python3",
      "display_name": "Python 3"
    }
  },
  "cells": [
    {
      "cell_type": "code",
      "metadata": {
        "id": "mt9e6od-Capf",
        "colab_type": "code",
        "colab": {
          "base_uri": "https://localhost:8080/",
          "height": 197
        },
        "outputId": "16168333-55dd-4984-a857-dd18d5fdd4fc"
      },
      "source": [
        "import numpy as np\n",
        "from sklearn.metrics import confusion_matrix\n",
        "\n",
        "def calc_logistic_regression_probabilities(X, intercept, slope):\n",
        "  probabilies = [0] * len(X)\n",
        "  \n",
        "  for idx, x in enumerate(X):\n",
        "    p = np.exp(intercept + slope * x) / (1 + np.exp(intercept + slope * x))\n",
        "    probabilies[idx] = p\n",
        "\n",
        "  return probabilies\n",
        "\n",
        "X = [5, 4.5, 2.2, 1.7, 4.3, 2.2, 4.8, 2, 1.3]\n",
        "y = [1, 1, 0, 0, 1, 0, 1, 0, 0]\n",
        "\n",
        "predicted = np.array([0] * len(y))\n",
        "\n",
        "SLOPE     = -2\n",
        "INTERCEPT = 0.5\n",
        "THRESHOLD = 0.5\n",
        "\n",
        "probabilities = np.array(calc_logistic_regression_probabilities(X, SLOPE, INTERCEPT))\n",
        "print(f\"Probabilities: \\n{probabilities}\\n\")\n",
        "\n",
        "predicted[probabilities >= THRESHOLD] = 1\n",
        "print(f\"Predicted: \\n{predicted}\\n\")\n",
        "\n",
        "print(f\"Confusion Matrix: \\n{confusion_matrix(y, predicted)}\")"
      ],
      "execution_count": 1,
      "outputs": [
        {
          "output_type": "stream",
          "text": [
            "Probabilities: \n",
            "[0.62245933 0.5621765  0.2890505  0.24048908 0.53742985 0.2890505\n",
            " 0.59868766 0.26894142 0.20587037]\n",
            "\n",
            "Predicted: \n",
            "[1 1 0 0 1 0 1 0 0]\n",
            "\n",
            "Confusion Matrix: \n",
            "[[5 0]\n",
            " [0 4]]\n"
          ],
          "name": "stdout"
        }
      ]
    }
  ]
}
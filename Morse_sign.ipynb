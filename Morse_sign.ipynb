{
 "cells": [
  {
   "cell_type": "code",
   "execution_count": 7,
   "metadata": {},
   "outputs": [
    {
     "name": "stdout",
     "output_type": "stream",
     "text": [
      "['.-', '-...', '-.-.', '-..', '.', '..-.', '--.', '....', '..', '.---', '-.-', '.-..', '--', '-.', '---', '.--.', '--.-', '.-.', '...', '-', '..-', '...-', '.--', '-..-', '-.--', '--..']\n"
     ]
    }
   ],
   "source": [
    "import string\n",
    "import csv\n",
    "\n",
    "alpha = string.ascii_lowercase\n",
    "\n",
    "morse = []\n",
    "with open('morse.csv') as f:\n",
    "    rdr = csv.reader(f, delimiter = \",\")\n",
    "    for line in rdr:\n",
    "        morse.extend(line)\n",
    "\n",
    "print(morse)"
   ]
  },
  {
   "cell_type": "code",
   "execution_count": 24,
   "metadata": {},
   "outputs": [
    {
     "name": "stdout",
     "output_type": "stream",
     "text": [
      ">>> hello world\n",
      "....\t.\t.-..\t.-..\t---\t.--\t---\t.-.\t.-..\t-..\n"
     ]
    }
   ],
   "source": [
    "my_string = input(\">>> \")\n",
    "\n",
    "my_string = my_string.lower().replace(\" \", \"\")\n",
    "\n",
    "res = []\n",
    "for s in my_string:\n",
    "    res.append(moss[alpha.index(s)])\n",
    "\n",
    "print(\"\\t\".join(res))"
   ]
  },
  {
   "cell_type": "code",
   "execution_count": 32,
   "metadata": {},
   "outputs": [],
   "source": [
    "def define_alpha():\n",
    "    import string\n",
    "    \n",
    "    alpha = string.ascii_lowercase\n",
    "\n",
    "    return alpha\n",
    "    \n",
    "def read_morse(path = \"morse.csv\"):\n",
    "    import csv\n",
    "    \n",
    "    morse = []\n",
    "    \n",
    "    with open(path) as f:\n",
    "        rdr = csv.reader(f, delimiter = \",\")\n",
    "        for line in rdr:\n",
    "            morse.extend(line)\n",
    "    return morse\n",
    "\n",
    "def make_morse(my_str, alpha, morse):\n",
    "    my_str = my_str.lower().replace(\" \", \"\")\n",
    "\n",
    "    res = []\n",
    "    \n",
    "    for s in my_str:\n",
    "        res.append(moss[alpha.index(s)])\n",
    "\n",
    "    print(\"\\t\".join(res))\n",
    "\n",
    "alpha = define_alpha()\n",
    "morse = read_morse()"
   ]
  },
  {
   "cell_type": "code",
   "execution_count": 34,
   "metadata": {},
   "outputs": [
    {
     "name": "stdout",
     "output_type": "stream",
     "text": [
      ">>> hello world\n",
      "....\t.\t.-..\t.-..\t---\t.--\t---\t.-.\t.-..\t-..\n"
     ]
    }
   ],
   "source": [
    "my_str = input(\">>> \")\n",
    "make_morse(my_str, alpha, morse)"
   ]
  }
 ],
 "metadata": {
  "kernelspec": {
   "display_name": "Python 3",
   "language": "python",
   "name": "python3"
  },
  "language_info": {
   "codemirror_mode": {
    "name": "ipython",
    "version": 3
   },
   "file_extension": ".py",
   "mimetype": "text/x-python",
   "name": "python",
   "nbconvert_exporter": "python",
   "pygments_lexer": "ipython3",
   "version": "3.7.4"
  }
 },
 "nbformat": 4,
 "nbformat_minor": 2
}

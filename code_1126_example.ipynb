{
 "cells": [
  {
   "cell_type": "code",
   "execution_count": 20,
   "metadata": {},
   "outputs": [],
   "source": [
    "ele = ['o','o','o','o','o']\n",
    "cords = []\n",
    "for i in range(5):\n",
    "    cords.append(ele.copy())\n",
    "    pass"
   ]
  },
  {
   "cell_type": "code",
   "execution_count": 21,
   "metadata": {},
   "outputs": [
    {
     "data": {
      "text/plain": [
       "[['o', 'o', 'o', 'o', 'o'],\n",
       " ['o', 'o', 'o', 'o', 'o'],\n",
       " ['o', 'o', 'o', 'o', 'o'],\n",
       " ['o', 'o', 'o', 'o', 'o'],\n",
       " ['o', 'o', 'o', 'o', 'o']]"
      ]
     },
     "execution_count": 21,
     "metadata": {},
     "output_type": "execute_result"
    }
   ],
   "source": [
    "cords"
   ]
  },
  {
   "cell_type": "code",
   "execution_count": 22,
   "metadata": {},
   "outputs": [],
   "source": [
    "def print_cord(a_list):\n",
    "    for i in a_list:\n",
    "        for j in i:\n",
    "            print(j,end=' ')\n",
    "        print()\n",
    "        pass"
   ]
  },
  {
   "cell_type": "code",
   "execution_count": 23,
   "metadata": {},
   "outputs": [
    {
     "name": "stdout",
     "output_type": "stream",
     "text": [
      "o o o o o \n",
      "o o o o o \n",
      "o o o o o \n",
      "o o o o o \n",
      "o o o o o \n"
     ]
    }
   ],
   "source": [
    "print_cord(cords)"
   ]
  },
  {
   "cell_type": "code",
   "execution_count": 27,
   "metadata": {},
   "outputs": [
    {
     "name": "stdout",
     "output_type": "stream",
     "text": [
      "o o o o o \n",
      "o x x x o \n",
      "o o o x o \n",
      "o o o x o \n",
      "o o o o o \n"
     ]
    }
   ],
   "source": [
    "cords[1][1] = 'x'\n",
    "cords[1][2] = 'x'\n",
    "cords[1][3] = 'x'\n",
    "cords[2][3] = 'x'\n",
    "cords[3][3] = 'x'\n",
    "print_cord(cords)"
   ]
  },
  {
   "cell_type": "code",
   "execution_count": 25,
   "metadata": {},
   "outputs": [
    {
     "name": "stdout",
     "output_type": "stream",
     "text": [
      "['o', 'o', 'o', 'o', 'o']\n"
     ]
    }
   ],
   "source": [
    "print(ele)"
   ]
  },
  {
   "cell_type": "code",
   "execution_count": 28,
   "metadata": {},
   "outputs": [
    {
     "name": "stdout",
     "output_type": "stream",
     "text": [
      "x o o o o \n",
      "o x x x o \n",
      "o o x x o \n",
      "o o o x o \n",
      "o o o o x \n"
     ]
    }
   ],
   "source": [
    "cords[0][0] = 'x'\n",
    "cords[2][2] = 'x'\n",
    "cords[4][4] = 'x'\n",
    "print_cord(cords)"
   ]
  },
  {
   "cell_type": "code",
   "execution_count": 32,
   "metadata": {},
   "outputs": [
    {
     "name": "stdout",
     "output_type": "stream",
     "text": [
      "0\n",
      "1\n",
      "2\n",
      "3\n",
      "4\n",
      "5\n",
      "6\n",
      "7\n",
      "8\n",
      "9\n",
      "10\n"
     ]
    }
   ],
   "source": [
    "flag = False\n",
    "count = 0\n",
    "while not flag:\n",
    "    print(count)\n",
    "    if count  == 10:\n",
    "        flag = True\n",
    "    count += 1\n",
    "    pass\n",
    "    "
   ]
  },
  {
   "cell_type": "code",
   "execution_count": 33,
   "metadata": {},
   "outputs": [],
   "source": [
    "def max_value(a,b):\n",
    "    max_v = a if a>b else b\n",
    "    return max_v"
   ]
  },
  {
   "cell_type": "code",
   "execution_count": 34,
   "metadata": {},
   "outputs": [
    {
     "name": "stdout",
     "output_type": "stream",
     "text": [
      "20\n"
     ]
    }
   ],
   "source": [
    "m_max = max_value(10,20)\n",
    "print(m_max)"
   ]
  },
  {
   "cell_type": "code",
   "execution_count": 35,
   "metadata": {},
   "outputs": [
    {
     "data": {
      "text/plain": [
       "20"
      ]
     },
     "execution_count": 35,
     "metadata": {},
     "output_type": "execute_result"
    }
   ],
   "source": [
    "max_value(10,20)"
   ]
  },
  {
   "cell_type": "code",
   "execution_count": 41,
   "metadata": {},
   "outputs": [],
   "source": [
    "m_list = []\n",
    "m_tuple = (1,2,3)\n",
    "m_dict = {}\n",
    "m_set = set([])\n"
   ]
  },
  {
   "cell_type": "code",
   "execution_count": 37,
   "metadata": {},
   "outputs": [
    {
     "name": "stdout",
     "output_type": "stream",
     "text": [
      "[1]\n"
     ]
    }
   ],
   "source": [
    "#엘러먼트(요소) 1을 추가하시오\n",
    "m_list.append(1)\n",
    "print(m_list)"
   ]
  },
  {
   "cell_type": "code",
   "execution_count": 42,
   "metadata": {},
   "outputs": [
    {
     "data": {
      "text/plain": [
       "1"
      ]
     },
     "execution_count": 42,
     "metadata": {},
     "output_type": "execute_result"
    }
   ],
   "source": [
    "m_tuple[0]"
   ]
  },
  {
   "cell_type": "code",
   "execution_count": 39,
   "metadata": {},
   "outputs": [
    {
     "name": "stdout",
     "output_type": "stream",
     "text": [
      "{'a': 1}\n"
     ]
    }
   ],
   "source": [
    "m_dict['a'] = 1\n",
    "print(m_dict)"
   ]
  },
  {
   "cell_type": "code",
   "execution_count": 40,
   "metadata": {},
   "outputs": [
    {
     "name": "stdout",
     "output_type": "stream",
     "text": [
      "{1}\n"
     ]
    }
   ],
   "source": [
    "m_set.add(1)\n",
    "print(m_set)"
   ]
  },
  {
   "cell_type": "code",
   "execution_count": 44,
   "metadata": {},
   "outputs": [],
   "source": [
    "import random as rnd"
   ]
  },
  {
   "cell_type": "code",
   "execution_count": 45,
   "metadata": {},
   "outputs": [
    {
     "name": "stdout",
     "output_type": "stream",
     "text": [
      "[53, 2, 39]\n",
      "[26, 96, 31]\n",
      "[87, 33, 12]\n"
     ]
    }
   ],
   "source": [
    "a = [rnd.randrange(1,101) for i in range(3)]\n",
    "b = [rnd.randrange(1,101) for i in range(3)]\n",
    "c = [rnd.randrange(1,101) for i in range(3)]\n",
    "print(a)\n",
    "print(b)\n",
    "print(c)\n",
    "d = []\n",
    "for i in range(3):\n",
    "    temp = rnd.randrange(1,101)\n",
    "    d.append(temp)\n",
    "    pass\n",
    "print(d)"
   ]
  },
  {
   "cell_type": "code",
   "execution_count": 46,
   "metadata": {},
   "outputs": [
    {
     "name": "stdout",
     "output_type": "stream",
     "text": [
      "[[53, 2, 39], [26, 96, 31], [87, 33, 12]]\n"
     ]
    }
   ],
   "source": [
    "students = [a,b,c]\n",
    "print(students)"
   ]
  },
  {
   "cell_type": "code",
   "execution_count": 47,
   "metadata": {},
   "outputs": [
    {
     "name": "stdout",
     "output_type": "stream",
     "text": [
      "94, 31.33\n",
      "153, 51.00\n",
      "132, 44.00\n"
     ]
    }
   ],
   "source": [
    "for student in students:\n",
    "    tot = sum(student)\n",
    "    avg = tot / 3\n",
    "    print(\"{}, {:.2f}\".format(tot,avg))\n",
    "    pass"
   ]
  },
  {
   "cell_type": "code",
   "execution_count": 48,
   "metadata": {},
   "outputs": [
    {
     "data": {
      "text/plain": [
       "[['kim', 53, 2, 39], ['lee', 26, 96, 31], ['park', 87, 33, 12]]"
      ]
     },
     "execution_count": 48,
     "metadata": {},
     "output_type": "execute_result"
    }
   ],
   "source": [
    "students[0].insert(0,'kim')\n",
    "students[1].insert(0,'lee')\n",
    "students[2].insert(0,'park')\n",
    "students"
   ]
  },
  {
   "cell_type": "code",
   "execution_count": 49,
   "metadata": {},
   "outputs": [
    {
     "name": "stdout",
     "output_type": "stream",
     "text": [
      "kim 53 2 39\n",
      "lee 26 96 31\n",
      "park 87 33 12\n"
     ]
    }
   ],
   "source": [
    "for student in students:\n",
    "    print(\"{} {} {} {}\".format(student[0],student[1],student[2],student[3]))"
   ]
  },
  {
   "cell_type": "code",
   "execution_count": 51,
   "metadata": {},
   "outputs": [],
   "source": [
    "file = open('./data/Abc1115.txt')\n",
    "lines = file.readlines()\n",
    "file.close()"
   ]
  },
  {
   "cell_type": "code",
   "execution_count": 55,
   "metadata": {},
   "outputs": [
    {
     "name": "stdout",
     "output_type": "stream",
     "text": [
      "990001addx 17 29 16 49 43154CAC\n",
      "\n"
     ]
    }
   ],
   "source": [
    "line = lines[0]\n",
    "print(line)"
   ]
  },
  {
   "cell_type": "code",
   "execution_count": 58,
   "metadata": {},
   "outputs": [],
   "source": [
    "student_data = []\n",
    "for line in lines:\n",
    "    std_no = line[0:6]\n",
    "    email = line[6:10]\n",
    "    kor = int(line[10:13])\n",
    "    eng = int(line[13:16])\n",
    "    math = int(line[16:19])\n",
    "    sci = int(line[19:22])\n",
    "    hist = int(line[22:25])\n",
    "    tot = int(line[25:28])\n",
    "    mcode = line[28:29]\n",
    "    acode = line[29:30]\n",
    "    lcode = line[30:31]\n",
    "    temp = [std_no,email,kor,eng,math,sci,hist,tot,mcode,acode,lcode]\n",
    "    student_data.append(temp)\n",
    "    pass\n",
    "\n",
    "# print(temp)"
   ]
  },
  {
   "cell_type": "code",
   "execution_count": 59,
   "metadata": {},
   "outputs": [
    {
     "data": {
      "text/plain": [
       "[['990001', 'addx', 17, 29, 16, 49, 43, 154, 'C', 'A', 'C'],\n",
       " ['990002', 'stch', 30, 9, 48, 25, 81, 193, 'C', 'A', 'A'],\n",
       " ['990003', 'gali', 93, 60, 6, 84, 36, 279, 'A', 'C', 'A'],\n",
       " ['990004', 'miat', 73, 22, 48, 24, 72, 239, 'B', 'C', 'C'],\n",
       " ['990005', 'oran', 33, 38, 59, 58, 28, 216, 'C', 'B', 'A']]"
      ]
     },
     "execution_count": 59,
     "metadata": {},
     "output_type": "execute_result"
    }
   ],
   "source": [
    "student_data[0:5]"
   ]
  },
  {
   "cell_type": "code",
   "execution_count": null,
   "metadata": {},
   "outputs": [],
   "source": []
  }
 ],
 "metadata": {
  "kernelspec": {
   "display_name": "Python 3",
   "language": "python",
   "name": "python3"
  },
  "language_info": {
   "codemirror_mode": {
    "name": "ipython",
    "version": 3
   },
   "file_extension": ".py",
   "mimetype": "text/x-python",
   "name": "python",
   "nbconvert_exporter": "python",
   "pygments_lexer": "ipython3",
   "version": "3.7.4"
  }
 },
 "nbformat": 4,
 "nbformat_minor": 2
}

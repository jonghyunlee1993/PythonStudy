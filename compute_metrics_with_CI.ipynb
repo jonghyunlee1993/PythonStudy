{
 "cells": [
  {
   "cell_type": "code",
   "execution_count": 7,
   "id": "cf3a8e70",
   "metadata": {
    "scrolled": false
   },
   "outputs": [
    {
     "data": {
      "text/html": [
       "<div>\n",
       "<style scoped>\n",
       "    .dataframe tbody tr th:only-of-type {\n",
       "        vertical-align: middle;\n",
       "    }\n",
       "\n",
       "    .dataframe tbody tr th {\n",
       "        vertical-align: top;\n",
       "    }\n",
       "\n",
       "    .dataframe thead th {\n",
       "        text-align: right;\n",
       "    }\n",
       "</style>\n",
       "<table border=\"1\" class=\"dataframe\">\n",
       "  <thead>\n",
       "    <tr style=\"text-align: right;\">\n",
       "      <th></th>\n",
       "      <th>pathologist_01</th>\n",
       "      <th>pathologist_02</th>\n",
       "      <th>pathologist_03</th>\n",
       "      <th>pathologist_04</th>\n",
       "      <th>target</th>\n",
       "    </tr>\n",
       "  </thead>\n",
       "  <tbody>\n",
       "    <tr>\n",
       "      <th>0</th>\n",
       "      <td>1</td>\n",
       "      <td>1</td>\n",
       "      <td>1</td>\n",
       "      <td>1</td>\n",
       "      <td>1</td>\n",
       "    </tr>\n",
       "    <tr>\n",
       "      <th>1</th>\n",
       "      <td>0</td>\n",
       "      <td>0</td>\n",
       "      <td>0</td>\n",
       "      <td>0</td>\n",
       "      <td>0</td>\n",
       "    </tr>\n",
       "    <tr>\n",
       "      <th>2</th>\n",
       "      <td>1</td>\n",
       "      <td>0</td>\n",
       "      <td>0</td>\n",
       "      <td>1</td>\n",
       "      <td>0</td>\n",
       "    </tr>\n",
       "    <tr>\n",
       "      <th>3</th>\n",
       "      <td>0</td>\n",
       "      <td>0</td>\n",
       "      <td>0</td>\n",
       "      <td>0</td>\n",
       "      <td>0</td>\n",
       "    </tr>\n",
       "    <tr>\n",
       "      <th>4</th>\n",
       "      <td>0</td>\n",
       "      <td>0</td>\n",
       "      <td>0</td>\n",
       "      <td>0</td>\n",
       "      <td>0</td>\n",
       "    </tr>\n",
       "  </tbody>\n",
       "</table>\n",
       "</div>"
      ],
      "text/plain": [
       "   pathologist_01  pathologist_02  pathologist_03  pathologist_04  target\n",
       "0               1               1               1               1       1\n",
       "1               0               0               0               0       0\n",
       "2               1               0               0               1       0\n",
       "3               0               0               0               0       0\n",
       "4               0               0               0               0       0"
      ]
     },
     "execution_count": 7,
     "metadata": {},
     "output_type": "execute_result"
    }
   ],
   "source": [
    "import numpy as np\n",
    "import pandas as pd\n",
    "from scipy.stats import sem\n",
    "from sklearn.metrics import roc_auc_score, average_precision_score\n",
    "from sklearn.metrics import accuracy_score, precision_score, recall_score, f1_score\n",
    "\n",
    "df = pd.read_excel(\"pathologistes_prediction_and_target.xlsx\", engine=\"openpyxl\", sheet_name=\"data\")\n",
    "df.head()"
   ]
  },
  {
   "cell_type": "code",
   "execution_count": 21,
   "id": "7c8d074b",
   "metadata": {},
   "outputs": [],
   "source": [
    "def compute_metrics(y_true, y_pred):\n",
    "    compute_metric_with_CI(accuracy_score, y_true, y_pred)\n",
    "    compute_metric_with_CI(precision_score, y_true, y_pred)\n",
    "    compute_metric_with_CI(recall_score, y_true, y_pred)\n",
    "    compute_metric_with_CI(f1_score, y_true, y_pred)\n",
    "    compute_metric_with_CI(roc_auc_score, y_true, y_pred)\n",
    "    compute_metric_with_CI(average_precision_score, y_true, y_pred)\n",
    "\n",
    "\n",
    "def compute_metric_with_CI(metric, y_true, y_pred):\n",
    "    n_bootstraps = 2000\n",
    "    rng_seed = 42\n",
    "    bootstrapped_scores = []\n",
    "    rng = np.random.RandomState(rng_seed)\n",
    "    \n",
    "    for i in range(n_bootstraps):\n",
    "        # bootstrap by sampling with replacement on the prediction indices\n",
    "        indices = rng.randint(0, len(y_pred), len(y_pred))\n",
    "        if len(np.unique(y_true[indices])) < 2:\n",
    "            # We need at least one positive and one negative sample for ROC AUC\n",
    "            # to be defined: reject the sample\n",
    "            continue\n",
    "\n",
    "        score = metric(y_true[indices], y_pred[indices])\n",
    "        bootstrapped_scores.append(score)\n",
    "\n",
    "    sorted_scores = np.array(bootstrapped_scores)\n",
    "    sorted_scores.sort()\n",
    "\n",
    "    # Computing the lower and upper bound of the 90% confidence interval\n",
    "    # You can change the bounds percentiles to 0.025 and 0.975 to get\n",
    "    # a 95% confidence interval instead.\n",
    "    score = metric(y_true, y_pred)\n",
    "    confidence_lower = sorted_scores[int(0.05 * len(sorted_scores))]\n",
    "    confidence_upper = sorted_scores[int(0.95 * len(sorted_scores))]\n",
    "\n",
    "    print(f\"{metric} {round(score, 4)}({round(confidence_lower, 4)}-{round(confidence_upper, 4)})\")"
   ]
  },
  {
   "cell_type": "code",
   "execution_count": 22,
   "id": "981ad5fa",
   "metadata": {
    "scrolled": true
   },
   "outputs": [
    {
     "name": "stdout",
     "output_type": "stream",
     "text": [
      "<function accuracy_score at 0x13c163ca0> 0.8466(0.8011-0.8864)\n",
      "<function precision_score at 0x13c16c9d0> 0.7059(0.5217-0.8824)\n",
      "<function recall_score at 0x13c16caf0> 0.3529(0.2195-0.4865)\n",
      "<function f1_score at 0x13c16c4c0> 0.4706(0.3214-0.6071)\n",
      "<function roc_auc_score at 0x13c160790> 0.6589(0.5929-0.7289)\n",
      "<function average_precision_score at 0x13c160550> 0.3741(0.2598-0.5074)\n"
     ]
    }
   ],
   "source": [
    "df_01 = df.loc[:, [\"pathologist_01\", \"target\"]]\n",
    "\n",
    "compute_metrics(df_01['pathologist_01'], df_01['target'])"
   ]
  },
  {
   "cell_type": "code",
   "execution_count": 23,
   "id": "6954fe1e",
   "metadata": {},
   "outputs": [
    {
     "name": "stdout",
     "output_type": "stream",
     "text": [
      "<function accuracy_score at 0x13c163ca0> 0.9375(0.9091-0.9659)\n",
      "<function precision_score at 0x13c16c9d0> 0.7059(0.5-0.8889)\n",
      "<function recall_score at 0x13c16caf0> 0.6667(0.4706-0.84)\n",
      "<function f1_score at 0x13c16c4c0> 0.6857(0.5161-0.8205)\n",
      "<function roc_auc_score at 0x13c160790> 0.8175(0.7196-0.904)\n",
      "<function average_precision_score at 0x13c160550> 0.5047(0.3108-0.7033)\n"
     ]
    }
   ],
   "source": [
    "df_02 = df.loc[:, [\"pathologist_02\", \"target\"]]\n",
    "\n",
    "compute_metrics(df_02['pathologist_02'], df_01['target'])"
   ]
  },
  {
   "cell_type": "code",
   "execution_count": 24,
   "id": "5f09fadf",
   "metadata": {},
   "outputs": [
    {
     "name": "stdout",
     "output_type": "stream",
     "text": [
      "<function accuracy_score at 0x13c163ca0> 0.9148(0.8807-0.9489)\n",
      "<function precision_score at 0x13c16c9d0> 0.6471(0.4444-0.8421)\n",
      "<function recall_score at 0x13c16caf0> 0.55(0.3684-0.7333)\n",
      "<function f1_score at 0x13c16c4c0> 0.5946(0.4138-0.7391)\n",
      "<function roc_auc_score at 0x13c160790> 0.7558(0.6619-0.8474)\n",
      "<function average_precision_score at 0x13c160550> 0.407(0.237-0.59)\n"
     ]
    }
   ],
   "source": [
    "df_03 = df.loc[:, [\"pathologist_03\", \"target\"]]\n",
    "\n",
    "compute_metrics(df_03['pathologist_03'], df_01['target'])"
   ]
  },
  {
   "cell_type": "code",
   "execution_count": 25,
   "id": "6a350266",
   "metadata": {},
   "outputs": [
    {
     "name": "stdout",
     "output_type": "stream",
     "text": [
      "<function accuracy_score at 0x13c163ca0> 0.9148(0.8807-0.9489)\n",
      "<function precision_score at 0x13c16c9d0> 0.5294(0.3333-0.7391)\n",
      "<function recall_score at 0x13c16caf0> 0.5625(0.3529-0.7692)\n",
      "<function f1_score at 0x13c16c4c0> 0.5455(0.3478-0.7027)\n",
      "<function roc_auc_score at 0x13c160790> 0.7562(0.6518-0.8622)\n",
      "<function average_precision_score at 0x13c160550> 0.3376(0.1735-0.5329)\n"
     ]
    }
   ],
   "source": [
    "df_04 = df.loc[:, [\"pathologist_04\", \"target\"]]\n",
    "\n",
    "compute_metrics(df_04['pathologist_04'], df_01['target'])"
   ]
  },
  {
   "cell_type": "code",
   "execution_count": null,
   "id": "c0e37cc9",
   "metadata": {},
   "outputs": [],
   "source": []
  }
 ],
 "metadata": {
  "kernelspec": {
   "display_name": "Python 3 (ipykernel)",
   "language": "python",
   "name": "python3"
  },
  "language_info": {
   "codemirror_mode": {
    "name": "ipython",
    "version": 3
   },
   "file_extension": ".py",
   "mimetype": "text/x-python",
   "name": "python",
   "nbconvert_exporter": "python",
   "pygments_lexer": "ipython3",
   "version": "3.9.6"
  }
 },
 "nbformat": 4,
 "nbformat_minor": 5
}

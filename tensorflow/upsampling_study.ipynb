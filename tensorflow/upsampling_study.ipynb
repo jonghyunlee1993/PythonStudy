{
 "cells": [
  {
   "cell_type": "code",
   "execution_count": 1,
   "id": "d207f71b",
   "metadata": {},
   "outputs": [],
   "source": [
    "import numpy as np \n",
    "import tensorflow as tf\n",
    "from tensorflow.keras.datasets import fashion_mnist\n",
    "from tensorflow.keras import Model, Sequential\n",
    "from tensorflow.keras.layers import Input, ZeroPadding2D, Conv2D, UpSampling2D, MaxPool2D, Concatenate, Dense, GlobalAveragePooling2D\n",
    "from sklearn.metrics import accuracy_score\n",
    "\n",
    "fashion_mnist = fashion_mnist\n",
    "\n",
    "(train_images, train_labels), (test_images, test_labels) = fashion_mnist.load_data()"
   ]
  },
  {
   "cell_type": "code",
   "execution_count": 2,
   "id": "d467291a",
   "metadata": {},
   "outputs": [
    {
     "name": "stdout",
     "output_type": "stream",
     "text": [
      "Model: \"model\"\n",
      "__________________________________________________________________________________________________\n",
      "Layer (type)                    Output Shape         Param #     Connected to                     \n",
      "==================================================================================================\n",
      "input_1 (InputLayer)            [(None, 28, 28, 1)]  0                                            \n",
      "__________________________________________________________________________________________________\n",
      "zero_padding2d (ZeroPadding2D)  (None, 32, 32, 1)    0           input_1[0][0]                    \n",
      "__________________________________________________________________________________________________\n",
      "conv2d (Conv2D)                 (None, 32, 32, 16)   80          zero_padding2d[0][0]             \n",
      "__________________________________________________________________________________________________\n",
      "max_pooling2d (MaxPooling2D)    (None, 16, 16, 16)   0           conv2d[0][0]                     \n",
      "__________________________________________________________________________________________________\n",
      "conv2d_1 (Conv2D)               (None, 16, 16, 32)   2080        max_pooling2d[0][0]              \n",
      "__________________________________________________________________________________________________\n",
      "max_pooling2d_1 (MaxPooling2D)  (None, 8, 8, 32)     0           conv2d_1[0][0]                   \n",
      "__________________________________________________________________________________________________\n",
      "up_sampling2d (UpSampling2D)    (None, 32, 32, 32)   0           max_pooling2d_1[0][0]            \n",
      "__________________________________________________________________________________________________\n",
      "up_sampling2d_1 (UpSampling2D)  (None, 32, 32, 16)   0           max_pooling2d[0][0]              \n",
      "__________________________________________________________________________________________________\n",
      "conv2d_3 (Conv2D)               (None, 32, 32, 64)   2112        up_sampling2d[0][0]              \n",
      "__________________________________________________________________________________________________\n",
      "conv2d_4 (Conv2D)               (None, 32, 32, 64)   1088        up_sampling2d_1[0][0]            \n",
      "__________________________________________________________________________________________________\n",
      "concatenate (Concatenate)       (None, 32, 32, 129)  0           zero_padding2d[0][0]             \n",
      "                                                                 conv2d_3[0][0]                   \n",
      "                                                                 conv2d_4[0][0]                   \n",
      "__________________________________________________________________________________________________\n",
      "global_average_pooling2d (Globa (None, 129)          0           concatenate[0][0]                \n",
      "__________________________________________________________________________________________________\n",
      "dense (Dense)                   (None, 10)           1300        global_average_pooling2d[0][0]   \n",
      "==================================================================================================\n",
      "Total params: 6,660\n",
      "Trainable params: 6,660\n",
      "Non-trainable params: 0\n",
      "__________________________________________________________________________________________________\n",
      "None\n",
      "Epoch 1/5\n",
      "235/235 [==============================] - 56s 235ms/step - loss: 5.3561 - accuracy: 0.2167\n",
      "Epoch 2/5\n",
      "235/235 [==============================] - 55s 235ms/step - loss: 0.9711 - accuracy: 0.6725\n",
      "Epoch 3/5\n",
      "235/235 [==============================] - 55s 235ms/step - loss: 0.7325 - accuracy: 0.7469\n",
      "Epoch 4/5\n",
      "235/235 [==============================] - 55s 236ms/step - loss: 0.6667 - accuracy: 0.7657\n",
      "Epoch 5/5\n",
      "235/235 [==============================] - 55s 235ms/step - loss: 0.6180 - accuracy: 0.7807\n"
     ]
    },
    {
     "data": {
      "text/plain": [
       "<tensorflow.python.keras.callbacks.History at 0x17626eb50>"
      ]
     },
     "execution_count": 2,
     "metadata": {},
     "output_type": "execute_result"
    }
   ],
   "source": [
    "inputs = Input(shape=(28, 28, 1))\n",
    "x = ZeroPadding2D(padding=2)(inputs)\n",
    "\n",
    "x1 = Conv2D(filters=16, kernel_size=(2, 2), strides=(1, 1), padding='same', activation='relu')(x)\n",
    "x1 = MaxPool2D(pool_size=(2, 2), padding='same')(x1)\n",
    "\n",
    "x2 = Conv2D(filters=32, kernel_size=(2, 2), strides=(1, 1), padding='same', activation='relu')(x1)\n",
    "x2 = MaxPool2D(pool_size=(2, 2), padding='same')(x2)\n",
    "\n",
    "x3 = Conv2D(filters=64, kernel_size=(2, 2), strides=(1, 1), padding='same', activation='relu')(x2)\n",
    "x3 = MaxPool2D(pool_size=(2, 2), padding='same')(x3)\n",
    "\n",
    "x2_up = UpSampling2D(size=(4, 4))(x2)\n",
    "x2_up = Conv2D(filters=64, kernel_size=(1, 1), strides=(1, 1), padding='same', activation='relu')(x2_up)\n",
    "\n",
    "x3_up = UpSampling2D(size=(2, 2))(x1)\n",
    "x3_up = Conv2D(filters=64, kernel_size=(1, 1), strides=(1, 1), padding='same', activation='relu')(x3_up)\n",
    "\n",
    "x = Concatenate(axis=-1)([x, x2_up, x3_up])\n",
    "x = GlobalAveragePooling2D()(x)\n",
    "output = Dense(10, activation='softmax')(x)\n",
    "\n",
    "model = Model(inputs=inputs, outputs=output)\n",
    "print(model.summary())\n",
    "\n",
    "model.compile(optimizer='adam',\n",
    "              loss='sparse_categorical_crossentropy',\n",
    "              metrics=['accuracy'])\n",
    "\n",
    "model.fit(train_images, \n",
    "          train_labels, \n",
    "          epochs=5,\n",
    "          batch_size=256)"
   ]
  },
  {
   "cell_type": "code",
   "execution_count": 4,
   "id": "028f1794",
   "metadata": {
    "scrolled": false
   },
   "outputs": [
    {
     "name": "stdout",
     "output_type": "stream",
     "text": [
      "Model: \"model_2\"\n",
      "_________________________________________________________________\n",
      "Layer (type)                 Output Shape              Param #   \n",
      "=================================================================\n",
      "input_3 (InputLayer)         [(None, 28, 28, 1)]       0         \n",
      "_________________________________________________________________\n",
      "zero_padding2d_2 (ZeroPaddin (None, 32, 32, 1)         0         \n",
      "_________________________________________________________________\n",
      "conv2d_8 (Conv2D)            (None, 32, 32, 16)        80        \n",
      "_________________________________________________________________\n",
      "max_pooling2d_6 (MaxPooling2 (None, 16, 16, 16)        0         \n",
      "_________________________________________________________________\n",
      "conv2d_9 (Conv2D)            (None, 16, 16, 32)        2080      \n",
      "_________________________________________________________________\n",
      "max_pooling2d_7 (MaxPooling2 (None, 8, 8, 32)          0         \n",
      "_________________________________________________________________\n",
      "conv2d_10 (Conv2D)           (None, 8, 8, 64)          8256      \n",
      "_________________________________________________________________\n",
      "max_pooling2d_8 (MaxPooling2 (None, 4, 4, 64)          0         \n",
      "_________________________________________________________________\n",
      "global_average_pooling2d_1 ( (None, 64)                0         \n",
      "_________________________________________________________________\n",
      "dense_2 (Dense)              (None, 10)                650       \n",
      "=================================================================\n",
      "Total params: 11,066\n",
      "Trainable params: 11,066\n",
      "Non-trainable params: 0\n",
      "_________________________________________________________________\n",
      "None\n",
      "Epoch 1/5\n",
      "235/235 [==============================] - 7s 27ms/step - loss: 4.0148 - accuracy: 0.4034\n",
      "Epoch 2/5\n",
      "235/235 [==============================] - 6s 27ms/step - loss: 0.6727 - accuracy: 0.7651\n",
      "Epoch 3/5\n",
      "235/235 [==============================] - 6s 28ms/step - loss: 0.5636 - accuracy: 0.8041\n",
      "Epoch 4/5\n",
      "235/235 [==============================] - 6s 27ms/step - loss: 0.5016 - accuracy: 0.8260\n",
      "Epoch 5/5\n",
      "235/235 [==============================] - 6s 27ms/step - loss: 0.4633 - accuracy: 0.8418\n"
     ]
    },
    {
     "data": {
      "text/plain": [
       "<tensorflow.python.keras.callbacks.History at 0x2f2d2ec40>"
      ]
     },
     "execution_count": 4,
     "metadata": {},
     "output_type": "execute_result"
    }
   ],
   "source": [
    "inputs = Input(shape=(28, 28, 1))\n",
    "x = ZeroPadding2D(padding=2)(inputs)\n",
    "\n",
    "x1 = Conv2D(filters=16, kernel_size=(2, 2), strides=(1, 1), padding='same', activation='relu')(x)\n",
    "x1 = MaxPool2D(pool_size=(2, 2), padding='same')(x1)\n",
    "\n",
    "x2 = Conv2D(filters=32, kernel_size=(2, 2), strides=(1, 1), padding='same', activation='relu')(x1)\n",
    "x2 = MaxPool2D(pool_size=(2, 2), padding='same')(x2)\n",
    "\n",
    "x3 = Conv2D(filters=64, kernel_size=(2, 2), strides=(1, 1), padding='same', activation='relu')(x2)\n",
    "x3 = MaxPool2D(pool_size=(2, 2), padding='same')(x3)\n",
    "\n",
    "output = GlobalAveragePooling2D()(x3)\n",
    "output = Dense(10, activation='softmax')(output)\n",
    "\n",
    "model = Model(inputs=inputs, outputs=output)\n",
    "print(model.summary())\n",
    "\n",
    "model.compile(optimizer='adam',\n",
    "              loss='sparse_categorical_crossentropy',\n",
    "              metrics=['accuracy'])\n",
    "\n",
    "model.fit(train_images, \n",
    "          train_labels, \n",
    "          epochs=5,\n",
    "          batch_size=256)"
   ]
  }
 ],
 "metadata": {
  "kernelspec": {
   "display_name": "Python 3",
   "language": "python",
   "name": "python3"
  },
  "language_info": {
   "codemirror_mode": {
    "name": "ipython",
    "version": 3
   },
   "file_extension": ".py",
   "mimetype": "text/x-python",
   "name": "python",
   "nbconvert_exporter": "python",
   "pygments_lexer": "ipython3",
   "version": "3.8.6"
  }
 },
 "nbformat": 4,
 "nbformat_minor": 5
}

{
  "nbformat": 4,
  "nbformat_minor": 0,
  "metadata": {
    "colab": {
      "name": "tf_gradient_tape.ipynb",
      "provenance": []
    },
    "kernelspec": {
      "name": "python3",
      "display_name": "Python 3"
    },
    "accelerator": "GPU"
  },
  "cells": [
    {
      "cell_type": "code",
      "metadata": {
        "id": "MjyUuH88Hw_S"
      },
      "source": [
        "import tensorflow as tf\n",
        "import numpy as np"
      ],
      "execution_count": 1,
      "outputs": []
    },
    {
      "cell_type": "code",
      "metadata": {
        "id": "jiIExfghH0aV",
        "outputId": "0e65e729-5993-480a-86d1-cd570964259d",
        "colab": {
          "base_uri": "https://localhost:8080/",
          "height": 53
        }
      },
      "source": [
        "mnist = tf.keras.datasets.mnist\n",
        "\n",
        "(x_train, y_train), (x_test, y_test) = mnist.load_data()\n",
        "x_train, x_test = x_train / 255.0, x_test / 255.0"
      ],
      "execution_count": 2,
      "outputs": [
        {
          "output_type": "stream",
          "text": [
            "Downloading data from https://storage.googleapis.com/tensorflow/tf-keras-datasets/mnist.npz\n",
            "11493376/11490434 [==============================] - 0s 0us/step\n"
          ],
          "name": "stdout"
        }
      ]
    },
    {
      "cell_type": "code",
      "metadata": {
        "id": "FHAJ5KXkIhVF",
        "outputId": "3b088e27-b272-4176-b781-f5ebb0f0b132",
        "colab": {
          "base_uri": "https://localhost:8080/",
          "height": 53
        }
      },
      "source": [
        "y_train, y_test"
      ],
      "execution_count": 9,
      "outputs": [
        {
          "output_type": "execute_result",
          "data": {
            "text/plain": [
              "(array([5, 0, 4, ..., 5, 6, 8], dtype=uint8),\n",
              " array([7, 2, 1, ..., 4, 5, 6], dtype=uint8))"
            ]
          },
          "metadata": {
            "tags": []
          },
          "execution_count": 9
        }
      ]
    },
    {
      "cell_type": "code",
      "metadata": {
        "id": "PKLkjI2HH3a2"
      },
      "source": [
        "# 차원을 1 늘려줍니다\n",
        "x_train = tf.expand_dims(x_train, -1)\n",
        "x_test = tf.expand_dims(x_test, -1)"
      ],
      "execution_count": 3,
      "outputs": []
    },
    {
      "cell_type": "code",
      "metadata": {
        "id": "kkUppSMWH5aC",
        "outputId": "111ce38d-fac7-41b2-8049-1f5267acaa11",
        "colab": {
          "base_uri": "https://localhost:8080/",
          "height": 35
        }
      },
      "source": [
        "x_train.shape, x_test.shape"
      ],
      "execution_count": 4,
      "outputs": [
        {
          "output_type": "execute_result",
          "data": {
            "text/plain": [
              "(TensorShape([60000, 28, 28, 1]), TensorShape([10000, 28, 28, 1]))"
            ]
          },
          "metadata": {
            "tags": []
          },
          "execution_count": 4
        }
      ]
    },
    {
      "cell_type": "code",
      "metadata": {
        "id": "MZ-aAZmQH7Zf"
      },
      "source": [
        "train_ds = tf.data.Dataset.from_tensor_slices((x_train, y_train)).shuffle(10000).batch(32)\n",
        "test_ds = tf.data.Dataset.from_tensor_slices((x_test, y_test)).batch(32)"
      ],
      "execution_count": 5,
      "outputs": []
    },
    {
      "cell_type": "code",
      "metadata": {
        "id": "IsMpo1y3H-h9"
      },
      "source": [
        "# layer 정의\n",
        "input_ = tf.keras.layers.Input(shape=(28, 28, 1))\n",
        "x = tf.keras.layers.Conv2D(32, 3, activation='relu')(input_)\n",
        "x = tf.keras.layers.Conv2D(64, 3, activation='relu')(x)\n",
        "x = tf.keras.layers.Flatten()(x)\n",
        "x = tf.keras.layers.Dense(128, activation='relu')(x)\n",
        "output_ = tf.keras.layers.Dense(10, activation='softmax')(x)\n",
        "\n",
        "# model을 정의\n",
        "model = tf.keras.models.Model(input_, output_)"
      ],
      "execution_count": 6,
      "outputs": []
    },
    {
      "cell_type": "code",
      "metadata": {
        "id": "E2nhr6oVIB8P",
        "outputId": "16f7db25-cb5a-4d6a-fe69-eab9075938ed",
        "colab": {
          "base_uri": "https://localhost:8080/",
          "height": 377
        }
      },
      "source": [
        "model.summary()"
      ],
      "execution_count": 7,
      "outputs": [
        {
          "output_type": "stream",
          "text": [
            "Model: \"functional_1\"\n",
            "_________________________________________________________________\n",
            "Layer (type)                 Output Shape              Param #   \n",
            "=================================================================\n",
            "input_1 (InputLayer)         [(None, 28, 28, 1)]       0         \n",
            "_________________________________________________________________\n",
            "conv2d (Conv2D)              (None, 26, 26, 32)        320       \n",
            "_________________________________________________________________\n",
            "conv2d_1 (Conv2D)            (None, 24, 24, 64)        18496     \n",
            "_________________________________________________________________\n",
            "flatten (Flatten)            (None, 36864)             0         \n",
            "_________________________________________________________________\n",
            "dense (Dense)                (None, 128)               4718720   \n",
            "_________________________________________________________________\n",
            "dense_1 (Dense)              (None, 10)                1290      \n",
            "=================================================================\n",
            "Total params: 4,738,826\n",
            "Trainable params: 4,738,826\n",
            "Non-trainable params: 0\n",
            "_________________________________________________________________\n"
          ],
          "name": "stdout"
        }
      ]
    },
    {
      "cell_type": "code",
      "metadata": {
        "id": "cNVTUM7tIEbB"
      },
      "source": [
        "loss_function = tf.keras.losses.SparseCategoricalCrossentropy()"
      ],
      "execution_count": 8,
      "outputs": []
    },
    {
      "cell_type": "code",
      "metadata": {
        "id": "LTf6QBOeIc8_"
      },
      "source": [
        "optimizer = tf.keras.optimizers.Adam()"
      ],
      "execution_count": 10,
      "outputs": []
    },
    {
      "cell_type": "code",
      "metadata": {
        "id": "6ibVJCqSIqid"
      },
      "source": [
        "train_loss = tf.keras.metrics.Mean()\n",
        "train_acc = tf.keras.metrics.SparseCategoricalAccuracy()\n",
        "\n",
        "test_loss = tf.keras.metrics.Mean()\n",
        "test_acc = tf.keras.metrics.SparseCategoricalAccuracy()"
      ],
      "execution_count": 12,
      "outputs": []
    },
    {
      "cell_type": "code",
      "metadata": {
        "id": "3Y-yu0MfJH7_"
      },
      "source": [
        "@tf.function\n",
        "def train_step(images, labels):\n",
        "    # 미분을 위한 GradientTape을 적용합니다.\n",
        "    with tf.GradientTape() as tape:\n",
        "        # 1. 예측 (prediction)\n",
        "        predictions = model(images)\n",
        "        # 2. Loss 계산\n",
        "        loss = loss_function(labels, predictions)\n",
        "    \n",
        "    # 3. 그라디언트(gradients) 계산\n",
        "    gradients = tape.gradient(loss, model.trainable_variables)\n",
        "    \n",
        "    # 4. 오차역전파(Backpropagation) - weight 업데이트\n",
        "    optimizer.apply_gradients(zip(gradients, model.trainable_variables))\n",
        "    \n",
        "    # loss와 accuracy를 업데이트 합니다.\n",
        "    train_loss(loss)\n",
        "    train_acc(labels, predictions)"
      ],
      "execution_count": 13,
      "outputs": []
    },
    {
      "cell_type": "code",
      "metadata": {
        "id": "jcjw3_pjJWGU"
      },
      "source": [
        "@tf.function\n",
        "def test_step(images, labels):\n",
        "    # 1. 예측 (prediction)\n",
        "    predictions = model(images)\n",
        "    # 2. Loss 계산\n",
        "    loss = loss_function(labels, predictions)\n",
        "    \n",
        "    # Test셋에 대해서는 gradient를 계산 및 backpropagation 하지 않습니다.\n",
        "    \n",
        "    # loss와 accuracy를 업데이트 합니다.\n",
        "    test_loss(loss)\n",
        "    test_acc(labels, predictions)"
      ],
      "execution_count": 14,
      "outputs": []
    },
    {
      "cell_type": "code",
      "metadata": {
        "id": "lZACWDCIJWn8",
        "outputId": "ad1e1e7e-f50d-4c14-f6ee-c54b88000048",
        "colab": {
          "base_uri": "https://localhost:8080/",
          "height": 107
        }
      },
      "source": [
        "EPOCHS = 5\n",
        "\n",
        "for epoch in range(EPOCHS):\n",
        "    for images, labels in train_ds:\n",
        "        train_step(images, labels)\n",
        "        \n",
        "    for test_images, test_labels in test_ds:\n",
        "        test_step(test_images, test_labels)\n",
        "\n",
        "    template = '에포크: {}, 손실: {:.5f}, 정확도: {:.2f}%, 테스트 손실: {:.5f}, 테스트 정확도: {:.2f}%'\n",
        "    print (template.format(epoch+1,\n",
        "                           train_loss.result(),\n",
        "                           train_acc.result()*100,\n",
        "                           test_loss.result(),\n",
        "                           test_acc.result()*100))"
      ],
      "execution_count": 15,
      "outputs": [
        {
          "output_type": "stream",
          "text": [
            "에포크: 1, 손실: 0.11090, 정확도: 96.57%, 테스트 손실: 0.05154, 테스트 정확도: 98.31%\n",
            "에포크: 2, 손실: 0.07306, 정확도: 97.76%, 테스트 손실: 0.04987, 테스트 정확도: 98.40%\n",
            "에포크: 3, 손실: 0.05537, 정확도: 98.29%, 테스트 손실: 0.04661, 테스트 정확도: 98.51%\n",
            "에포크: 4, 손실: 0.04452, 정확도: 98.62%, 테스트 손실: 0.04713, 테스트 정확도: 98.55%\n",
            "에포크: 5, 손실: 0.03745, 정확도: 98.83%, 테스트 손실: 0.04810, 테스트 정확도: 98.58%\n"
          ],
          "name": "stdout"
        }
      ]
    },
    {
      "cell_type": "code",
      "metadata": {
        "id": "14ecldeCJdRi"
      },
      "source": [
        ""
      ],
      "execution_count": null,
      "outputs": []
    }
  ]
}
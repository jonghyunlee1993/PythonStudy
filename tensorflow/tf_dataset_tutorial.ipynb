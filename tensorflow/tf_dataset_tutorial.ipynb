{
  "nbformat": 4,
  "nbformat_minor": 0,
  "metadata": {
    "colab": {
      "name": "tf_dataset_tutorial.ipynb",
      "provenance": [],
      "collapsed_sections": []
    },
    "kernelspec": {
      "name": "python3",
      "display_name": "Python 3"
    },
    "accelerator": "GPU"
  },
  "cells": [
    {
      "cell_type": "code",
      "metadata": {
        "id": "7n-TX4nyft97"
      },
      "source": [
        "import os\n",
        "import numpy as np\n",
        "import tensorflow as tf\n",
        "import matplotlib.pyplot as plt\n",
        "\n",
        "from tensorflow import keras\n",
        "from tensorflow.keras.models import Sequential\n",
        "from tensorflow.keras.layers import Conv2D, MaxPooling2D, Flatten, Dense, Activation\n",
        "from tensorflow.keras.utils import to_categorical"
      ],
      "execution_count": 1,
      "outputs": []
    },
    {
      "cell_type": "code",
      "metadata": {
        "id": "kO6EJaoWhAnV",
        "outputId": "9c0b7ee3-dec7-4b17-ab4c-059756cd9d20",
        "colab": {
          "base_uri": "https://localhost:8080/",
          "height": 53
        }
      },
      "source": [
        "# dataset 을 로드합니다.\n",
        "mnist = keras.datasets.mnist\n",
        "\n",
        "# X_train, y_train, X_test, y_test 의 형식\n",
        "(train_images, train_labels), (test_images, test_labels) = mnist.load_data()\n",
        "\n",
        "train_images = np.expand_dims(train_images, axis=-1)\n",
        "test_images = np.expand_dims(test_images, axis=-1)\n",
        "\n",
        "train_labels = to_categorical(train_labels, 10)\n",
        "test_labels = to_categorical(test_labels, 10)"
      ],
      "execution_count": 2,
      "outputs": [
        {
          "output_type": "stream",
          "text": [
            "Downloading data from https://storage.googleapis.com/tensorflow/tf-keras-datasets/mnist.npz\n",
            "11493376/11490434 [==============================] - 0s 0us/step\n"
          ],
          "name": "stdout"
        }
      ]
    },
    {
      "cell_type": "code",
      "metadata": {
        "id": "DF050o9apOP2"
      },
      "source": [
        "# 간단한 모델을 하나 만들어봅니다.\n",
        "\n",
        "def make_my_simple_model(input_shape=(28, 28, 1)):\n",
        "    model = Sequential([\n",
        "    Conv2D(32, (2, 2), input_shape=input_shape),\n",
        "    Activation('relu'),\n",
        "    MaxPooling2D(pool_size=(2, 2), strides=(2, 2)),\n",
        "    Flatten(),\n",
        "    Dense(10),\n",
        "    Activation('softmax')\n",
        "    ])\n",
        "\n",
        "    model.compile(loss='categorical_crossentropy', optimizer='adam', metrics=['accuracy'])\n",
        "    print(model.summary())    \n",
        "\n",
        "    return model"
      ],
      "execution_count": 3,
      "outputs": []
    },
    {
      "cell_type": "code",
      "metadata": {
        "id": "wCXLjP2Shei0",
        "outputId": "7a636fa9-427a-47df-89a1-020a277f3b30",
        "colab": {
          "base_uri": "https://localhost:8080/",
          "height": 118
        }
      },
      "source": [
        "# tf dataset을 이용하는 방법\n",
        "batch_size = 32\n",
        "\n",
        "train_dataset = tf.data.Dataset.from_tensor_slices((train_images, train_labels)).shuffle(buffer_size=100000).batch(batch_size)\n",
        "test_dataset = tf.data.Dataset.from_tensor_slices((test_images, test_labels)).batch(batch_size)\n",
        "\n",
        "for batch_data, batch_label in train_dataset.take(1):\n",
        "    print(f\"X_train first batch size: {batch_data.shape}\")\n",
        "    print(f\"y_train first batch size: {batch_label.shape}\")\n",
        "\n",
        "    plt.figure(figsize=(10,5))\n",
        "    for i in range(10):\n",
        "        plt.subplot(1, 10, i+1)\n",
        "        plt.xticks([])\n",
        "        plt.yticks([])\n",
        "        plt.grid(False)\n",
        "        plt.imshow(np.squeeze(batch_data[i], axis=2), cmap=plt.cm.binary)\n",
        "    plt.show()"
      ],
      "execution_count": 4,
      "outputs": [
        {
          "output_type": "stream",
          "text": [
            "X_train first batch size: (10, 28, 28, 1)\n",
            "y_train first batch size: (10, 10)\n"
          ],
          "name": "stdout"
        },
        {
          "output_type": "display_data",
          "data": {
            "image/png": "[encoded data removed]",
            "text/plain": [
              "<Figure size 720x360 with 10 Axes>"
            ]
          },
          "metadata": {
            "tags": []
          }
        }
      ]
    },
    {
      "cell_type": "code",
      "metadata": {
        "id": "G9FakFtqqUAM",
        "outputId": "d8b35e67-7a72-4ab7-81e4-b5b5d16bc2fd",
        "colab": {
          "base_uri": "https://localhost:8080/",
          "height": 503
        }
      },
      "source": [
        "model = make_my_simple_model((28, 28, 1))\n",
        "history = model.fit(train_dataset, \n",
        "                    validation_data=test_dataset,\n",
        "                    epochs=3, \n",
        "                    verbose=1)"
      ],
      "execution_count": 10,
      "outputs": [
        {
          "output_type": "stream",
          "text": [
            "Model: \"sequential_4\"\n",
            "_________________________________________________________________\n",
            "Layer (type)                 Output Shape              Param #   \n",
            "=================================================================\n",
            "conv2d_4 (Conv2D)            (None, 27, 27, 32)        160       \n",
            "_________________________________________________________________\n",
            "activation_8 (Activation)    (None, 27, 27, 32)        0         \n",
            "_________________________________________________________________\n",
            "max_pooling2d_4 (MaxPooling2 (None, 13, 13, 32)        0         \n",
            "_________________________________________________________________\n",
            "flatten_4 (Flatten)          (None, 5408)              0         \n",
            "_________________________________________________________________\n",
            "dense_4 (Dense)              (None, 10)                54090     \n",
            "_________________________________________________________________\n",
            "activation_9 (Activation)    (None, 10)                0         \n",
            "=================================================================\n",
            "Total params: 54,250\n",
            "Trainable params: 54,250\n",
            "Non-trainable params: 0\n",
            "_________________________________________________________________\n",
            "None\n",
            "Epoch 1/3\n",
            "6000/6000 [==============================] - 16s 3ms/step - loss: 0.4938 - accuracy: 0.9388 - val_loss: 0.1397 - val_accuracy: 0.9560\n",
            "Epoch 2/3\n",
            "6000/6000 [==============================] - 16s 3ms/step - loss: 0.1162 - accuracy: 0.9652 - val_loss: 0.1271 - val_accuracy: 0.9640\n",
            "Epoch 3/3\n",
            "6000/6000 [==============================] - 16s 3ms/step - loss: 0.0979 - accuracy: 0.9712 - val_loss: 0.0969 - val_accuracy: 0.9720\n"
          ],
          "name": "stdout"
        }
      ]
    },
    {
      "cell_type": "code",
      "metadata": {
        "id": "igNlhl7wlvUO",
        "outputId": "59578082-ebf9-4a94-86c1-1c27e938a488",
        "colab": {
          "base_uri": "https://localhost:8080/",
          "height": 118
        }
      },
      "source": [
        "# custom dataset 만들기\n",
        "\n",
        "def custom_pader(images):\n",
        "    output_list = []\n",
        "\n",
        "    padding_size = ((2, 2), (2, 2), (0, 0))\n",
        "    for i, image in enumerate(images):\n",
        "        image = np.pad(image, padding_size, 'constant', constant_values=0)\n",
        "        image = tf.cast(image, tf.float32)\n",
        "        output_list.append(image)\n",
        "    \n",
        "    return tf.stack(output_list)\n",
        "\n",
        "def tf_custom_pader_wrapper(images, labels):\n",
        "    [output_images, ] = tf.py_function(custom_pader, [images], [tf.float32])\n",
        "    output_images.set_shape(tf.TensorShape([None, None, None, None]))\n",
        "\n",
        "    return output_images, labels\n",
        "\n",
        "batch_size = 32\n",
        "\n",
        "train_dataset = tf.data.Dataset.from_tensor_slices((train_images, train_labels)).shuffle(buffer_size=100000).batch(batch_size).map(tf_custom_pader_wrapper)\n",
        "test_dataset = tf.data.Dataset.from_tensor_slices((test_images, test_labels)).batch(batch_size).map(tf_custom_pader_wrapper)\n",
        "\n",
        "for batch_data, batch_label in train_dataset.take(1):\n",
        "    print(f\"X_train first batch size: {batch_data.shape}\")\n",
        "    print(f\"y_train first batch size: {batch_label.shape}\")\n",
        "\n",
        "    plt.figure(figsize=(10,5))\n",
        "    for i in range(10):\n",
        "        plt.subplot(1, 10, i+1)\n",
        "        plt.xticks([])\n",
        "        plt.yticks([])\n",
        "        plt.grid(False)\n",
        "        plt.imshow(np.squeeze(batch_data[i], axis=2), cmap=plt.cm.binary)\n",
        "    plt.show()"
      ],
      "execution_count": 13,
      "outputs": [
        {
          "output_type": "stream",
          "text": [
            "X_train first batch size: (32, 32, 32, 1)\n",
            "y_train first batch size: (32, 10)\n"
          ],
          "name": "stdout"
        },
        {
          "output_type": "display_data",
          "data": {
            "image/png": "[encoded data removed]",
            "text/plain": [
              "<Figure size 720x360 with 10 Axes>"
            ]
          },
          "metadata": {
            "tags": []
          }
        }
      ]
    },
    {
      "cell_type": "code",
      "metadata": {
        "id": "1Nj4BkuwrR_r",
        "outputId": "76482155-fa33-45ed-af75-607b781fcde8",
        "colab": {
          "base_uri": "https://localhost:8080/",
          "height": 503
        }
      },
      "source": [
        "model_2 = make_my_simple_model((32, 32, 1))\n",
        "history_2 = model_2.fit(train_dataset, \n",
        "                        validation_data=test_dataset,\n",
        "                        epochs=3, \n",
        "                        verbose=1)"
      ],
      "execution_count": 14,
      "outputs": [
        {
          "output_type": "stream",
          "text": [
            "Model: \"sequential_6\"\n",
            "_________________________________________________________________\n",
            "Layer (type)                 Output Shape              Param #   \n",
            "=================================================================\n",
            "conv2d_6 (Conv2D)            (None, 31, 31, 32)        160       \n",
            "_________________________________________________________________\n",
            "activation_12 (Activation)   (None, 31, 31, 32)        0         \n",
            "_________________________________________________________________\n",
            "max_pooling2d_6 (MaxPooling2 (None, 15, 15, 32)        0         \n",
            "_________________________________________________________________\n",
            "flatten_6 (Flatten)          (None, 7200)              0         \n",
            "_________________________________________________________________\n",
            "dense_6 (Dense)              (None, 10)                72010     \n",
            "_________________________________________________________________\n",
            "activation_13 (Activation)   (None, 10)                0         \n",
            "=================================================================\n",
            "Total params: 72,170\n",
            "Trainable params: 72,170\n",
            "Non-trainable params: 0\n",
            "_________________________________________________________________\n",
            "None\n",
            "Epoch 1/3\n",
            "1875/1875 [==============================] - 40s 22ms/step - loss: 0.6565 - accuracy: 0.9350 - val_loss: 0.1065 - val_accuracy: 0.9692\n",
            "Epoch 2/3\n",
            "1875/1875 [==============================] - 40s 21ms/step - loss: 0.1015 - accuracy: 0.9697 - val_loss: 0.0961 - val_accuracy: 0.9715\n",
            "Epoch 3/3\n",
            "1875/1875 [==============================] - 40s 21ms/step - loss: 0.0874 - accuracy: 0.9729 - val_loss: 0.1025 - val_accuracy: 0.9706\n"
          ],
          "name": "stdout"
        }
      ]
    },
    {
      "cell_type": "code",
      "metadata": {
        "id": "3VyrDTIwiWFq",
        "outputId": "92bfbb33-e670-4441-b41f-5078cdee95ff",
        "colab": {
          "base_uri": "https://localhost:8080/",
          "height": 118
        }
      },
      "source": [
        "# image data generator 를 이용한 방법\n",
        "\n",
        "from tensorflow.keras.preprocessing.image import ImageDataGenerator\n",
        "\n",
        "batch_size = 32\n",
        "\n",
        "train_datagen = ImageDataGenerator(\n",
        "        rescale=1./255,\n",
        "        shear_range=0.2,\n",
        "        zoom_range=0.2,\n",
        "        horizontal_flip=True)\n",
        "\n",
        "train_dataset = train_datagen.flow(\n",
        "    x=train_images, y=train_labels, batch_size=batch_size, shuffle=True\n",
        ")\n",
        "\n",
        "test_datagen = ImageDataGenerator(\n",
        "        rescale=1./255\n",
        "        )\n",
        "\n",
        "test_dataset = test_datagen.flow(\n",
        "    x=test_images, y=test_labels, batch_size=batch_size, shuffle=False\n",
        ")\n",
        "\n",
        "batch_data, batch_label = train_dataset.next()\n",
        "\n",
        "print(f\"X_train first batch size: {batch_data.shape}\")\n",
        "print(f\"y_train first batch size: {batch_label.shape}\")\n",
        "\n",
        "plt.figure(figsize=(10,5))\n",
        "for i in range(10):\n",
        "    plt.subplot(1, 10, i+1)\n",
        "    plt.xticks([])\n",
        "    plt.yticks([])\n",
        "    plt.grid(False)\n",
        "    plt.imshow(np.squeeze(batch_data[i], axis=2), cmap=plt.cm.binary)\n",
        "plt.show()"
      ],
      "execution_count": 15,
      "outputs": [
        {
          "output_type": "stream",
          "text": [
            "X_train first batch size: (32, 28, 28, 1)\n",
            "y_train first batch size: (32, 10)\n"
          ],
          "name": "stdout"
        },
        {
          "output_type": "display_data",
          "data": {
            "image/png": "[encoded data removed]",
            "text/plain": [
              "<Figure size 720x360 with 10 Axes>"
            ]
          },
          "metadata": {
            "tags": []
          }
        }
      ]
    },
    {
      "cell_type": "code",
      "metadata": {
        "id": "IgfhFcQusTrr",
        "outputId": "d5b5640f-e2dc-40c1-9665-caedfbd76c4a",
        "colab": {
          "base_uri": "https://localhost:8080/",
          "height": 503
        }
      },
      "source": [
        "model_3 = make_my_simple_model((28, 28, 1))\n",
        "history_3 = model_3.fit_generator(train_dataset,\n",
        "                        validation_data=test_dataset,\n",
        "                        steps_per_epoch=len(train_images) // batch_size,\n",
        "                        validation_steps=len(test_images) // batch_size,\n",
        "                        epochs=3, \n",
        "                        verbose=1)"
      ],
      "execution_count": 21,
      "outputs": [
        {
          "output_type": "stream",
          "text": [
            "Model: \"sequential_11\"\n",
            "_________________________________________________________________\n",
            "Layer (type)                 Output Shape              Param #   \n",
            "=================================================================\n",
            "conv2d_11 (Conv2D)           (None, 27, 27, 32)        160       \n",
            "_________________________________________________________________\n",
            "activation_22 (Activation)   (None, 27, 27, 32)        0         \n",
            "_________________________________________________________________\n",
            "max_pooling2d_11 (MaxPooling (None, 13, 13, 32)        0         \n",
            "_________________________________________________________________\n",
            "flatten_11 (Flatten)         (None, 5408)              0         \n",
            "_________________________________________________________________\n",
            "dense_11 (Dense)             (None, 10)                54090     \n",
            "_________________________________________________________________\n",
            "activation_23 (Activation)   (None, 10)                0         \n",
            "=================================================================\n",
            "Total params: 54,250\n",
            "Trainable params: 54,250\n",
            "Non-trainable params: 0\n",
            "_________________________________________________________________\n",
            "None\n",
            "Epoch 1/3\n",
            "1875/1875 [==============================] - 15s 8ms/step - loss: 0.5315 - accuracy: 0.8354 - val_loss: 0.2852 - val_accuracy: 0.9150\n",
            "Epoch 2/3\n",
            "1875/1875 [==============================] - 15s 8ms/step - loss: 0.3123 - accuracy: 0.9019 - val_loss: 0.2381 - val_accuracy: 0.9247\n",
            "Epoch 3/3\n",
            "1875/1875 [==============================] - 15s 8ms/step - loss: 0.2676 - accuracy: 0.9128 - val_loss: 0.2188 - val_accuracy: 0.9288\n"
          ],
          "name": "stdout"
        }
      ]
    },
    {
      "cell_type": "code",
      "metadata": {
        "id": "q5mWaN_5lMEp",
        "outputId": "7b8603bf-782e-4c18-9b84-7ca1e9c06b14",
        "colab": {
          "base_uri": "https://localhost:8080/",
          "height": 503
        }
      },
      "source": [
        "# 물론 직접 넣어도 됩니다.\n",
        "\n",
        "model_4 = make_my_simple_model((28, 28, 1))\n",
        "history_4 = model_4.fit(x=train_images, \n",
        "                        y=train_labels,\n",
        "                        epochs=3,\n",
        "                        validation_data=(test_images, test_labels),\n",
        "                        verbose=1)"
      ],
      "execution_count": 22,
      "outputs": [
        {
          "output_type": "stream",
          "text": [
            "Model: \"sequential_12\"\n",
            "_________________________________________________________________\n",
            "Layer (type)                 Output Shape              Param #   \n",
            "=================================================================\n",
            "conv2d_12 (Conv2D)           (None, 27, 27, 32)        160       \n",
            "_________________________________________________________________\n",
            "activation_24 (Activation)   (None, 27, 27, 32)        0         \n",
            "_________________________________________________________________\n",
            "max_pooling2d_12 (MaxPooling (None, 13, 13, 32)        0         \n",
            "_________________________________________________________________\n",
            "flatten_12 (Flatten)         (None, 5408)              0         \n",
            "_________________________________________________________________\n",
            "dense_12 (Dense)             (None, 10)                54090     \n",
            "_________________________________________________________________\n",
            "activation_25 (Activation)   (None, 10)                0         \n",
            "=================================================================\n",
            "Total params: 54,250\n",
            "Trainable params: 54,250\n",
            "Non-trainable params: 0\n",
            "_________________________________________________________________\n",
            "None\n",
            "Epoch 1/3\n",
            "1875/1875 [==============================] - 5s 3ms/step - loss: 0.8647 - accuracy: 0.9317 - val_loss: 0.1218 - val_accuracy: 0.9653\n",
            "Epoch 2/3\n",
            "1875/1875 [==============================] - 5s 3ms/step - loss: 0.1027 - accuracy: 0.9693 - val_loss: 0.0958 - val_accuracy: 0.9707\n",
            "Epoch 3/3\n",
            "1875/1875 [==============================] - 5s 3ms/step - loss: 0.0853 - accuracy: 0.9737 - val_loss: 0.0947 - val_accuracy: 0.9722\n"
          ],
          "name": "stdout"
        }
      ]
    },
    {
      "cell_type": "code",
      "metadata": {
        "id": "uw4Z5imwuaRu"
      },
      "source": [
        ""
      ],
      "execution_count": null,
      "outputs": []
    }
  ]
}
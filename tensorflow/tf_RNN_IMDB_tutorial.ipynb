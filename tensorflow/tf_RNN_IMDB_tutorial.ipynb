{
  "nbformat": 4,
  "nbformat_minor": 0,
  "metadata": {
    "colab": {
      "name": "IMDB_RNN_tutorial.ipynb",
      "provenance": []
    },
    "kernelspec": {
      "name": "python3",
      "display_name": "Python 3"
    },
    "accelerator": "GPU"
  },
  "cells": [
    {
      "cell_type": "code",
      "metadata": {
        "id": "QYqWjFsNvxs3",
        "colab_type": "code",
        "colab": {
          "base_uri": "https://localhost:8080/",
          "height": 309
        },
        "outputId": "e6041bdf-541e-4150-f120-6a5c86d6935a"
      },
      "source": [
        "# import data\n",
        "!wget https://github.com/rickiepark/python-machine-learning-book-2nd-edition/raw/master/code/ch16/movie_data.csv.gz\n",
        "import gzip\n",
        "\n",
        "with gzip.open('movie_data.csv.gz') as f_in, open('movie_data.csv', 'wb') as f_out:\n",
        "    f_out.writelines(f_in)"
      ],
      "execution_count": 1,
      "outputs": [
        {
          "output_type": "stream",
          "text": [
            "--2020-03-28 01:27:31--  https://github.com/rickiepark/python-machine-learning-book-2nd-edition/raw/master/code/ch16/movie_data.csv.gz\n",
            "Resolving github.com (github.com)... 13.250.177.223\n",
            "Connecting to github.com (github.com)|13.250.177.223|:443... connected.\n",
            "HTTP request sent, awaiting response... 302 Found\n",
            "Location: https://raw.githubusercontent.com/rickiepark/python-machine-learning-book-2nd-edition/master/code/ch16/movie_data.csv.gz [following]\n",
            "--2020-03-28 01:27:31--  https://raw.githubusercontent.com/rickiepark/python-machine-learning-book-2nd-edition/master/code/ch16/movie_data.csv.gz\n",
            "Resolving raw.githubusercontent.com (raw.githubusercontent.com)... 151.101.0.133, 151.101.64.133, 151.101.128.133, ...\n",
            "Connecting to raw.githubusercontent.com (raw.githubusercontent.com)|151.101.0.133|:443... connected.\n",
            "HTTP request sent, awaiting response... 200 OK\n",
            "Length: 26521894 (25M) [application/octet-stream]\n",
            "Saving to: ‘movie_data.csv.gz’\n",
            "\n",
            "movie_data.csv.gz   100%[===================>]  25.29M  --.-KB/s    in 0.09s   \n",
            "\n",
            "2020-03-28 01:27:33 (287 MB/s) - ‘movie_data.csv.gz’ saved [26521894/26521894]\n",
            "\n"
          ],
          "name": "stdout"
        }
      ]
    },
    {
      "cell_type": "code",
      "metadata": {
        "id": "Uw9JMGVzwQr5",
        "colab_type": "code",
        "colab": {
          "base_uri": "https://localhost:8080/",
          "height": 105
        },
        "outputId": "73470b65-2e45-4ec7-fecd-b6a47e2ab5c5"
      },
      "source": [
        "!pip install pyprind"
      ],
      "execution_count": 3,
      "outputs": [
        {
          "output_type": "stream",
          "text": [
            "Collecting pyprind\n",
            "  Downloading https://files.pythonhosted.org/packages/1e/30/e76fb0c45da8aef49ea8d2a90d4e7a6877b45894c25f12fb961f009a891e/PyPrind-2.11.2-py3-none-any.whl\n",
            "Installing collected packages: pyprind\n",
            "Successfully installed pyprind-2.11.2\n"
          ],
          "name": "stdout"
        }
      ]
    },
    {
      "cell_type": "code",
      "metadata": {
        "id": "vqy4WeidwAmu",
        "colab_type": "code",
        "colab": {
          "base_uri": "https://localhost:8080/",
          "height": 204
        },
        "outputId": "c91b95a9-c3cd-411f-a86f-c6bbfc7d153a"
      },
      "source": [
        "import re\n",
        "import pyprind\n",
        "import tensorflow\n",
        "import numpy as np\n",
        "import pandas as pd\n",
        "from string import punctuation\n",
        "\n",
        "df = pd.read_csv('movie_data.csv', encoding='utf-8')\n",
        "df.head()"
      ],
      "execution_count": 4,
      "outputs": [
        {
          "output_type": "execute_result",
          "data": {
            "text/html": [
              "<div>\n",
              "<style scoped>\n",
              "    .dataframe tbody tr th:only-of-type {\n",
              "        vertical-align: middle;\n",
              "    }\n",
              "\n",
              "    .dataframe tbody tr th {\n",
              "        vertical-align: top;\n",
              "    }\n",
              "\n",
              "    .dataframe thead th {\n",
              "        text-align: right;\n",
              "    }\n",
              "</style>\n",
              "<table border=\"1\" class=\"dataframe\">\n",
              "  <thead>\n",
              "    <tr style=\"text-align: right;\">\n",
              "      <th></th>\n",
              "      <th>review</th>\n",
              "      <th>sentiment</th>\n",
              "    </tr>\n",
              "  </thead>\n",
              "  <tbody>\n",
              "    <tr>\n",
              "      <th>0</th>\n",
              "      <td>In 1974, the teenager Martha Moxley (Maggie Gr...</td>\n",
              "      <td>1</td>\n",
              "    </tr>\n",
              "    <tr>\n",
              "      <th>1</th>\n",
              "      <td>OK... so... I really like Kris Kristofferson a...</td>\n",
              "      <td>0</td>\n",
              "    </tr>\n",
              "    <tr>\n",
              "      <th>2</th>\n",
              "      <td>***SPOILER*** Do not read this, if you think a...</td>\n",
              "      <td>0</td>\n",
              "    </tr>\n",
              "    <tr>\n",
              "      <th>3</th>\n",
              "      <td>hi for all the people who have seen this wonde...</td>\n",
              "      <td>1</td>\n",
              "    </tr>\n",
              "    <tr>\n",
              "      <th>4</th>\n",
              "      <td>I recently bought the DVD, forgetting just how...</td>\n",
              "      <td>0</td>\n",
              "    </tr>\n",
              "  </tbody>\n",
              "</table>\n",
              "</div>"
            ],
            "text/plain": [
              "                                              review  sentiment\n",
              "0  In 1974, the teenager Martha Moxley (Maggie Gr...          1\n",
              "1  OK... so... I really like Kris Kristofferson a...          0\n",
              "2  ***SPOILER*** Do not read this, if you think a...          0\n",
              "3  hi for all the people who have seen this wonde...          1\n",
              "4  I recently bought the DVD, forgetting just how...          0"
            ]
          },
          "metadata": {
            "tags": []
          },
          "execution_count": 4
        }
      ]
    },
    {
      "cell_type": "code",
      "metadata": {
        "id": "256wdNeMz7j-",
        "colab_type": "code",
        "colab": {
          "base_uri": "https://localhost:8080/",
          "height": 34
        },
        "outputId": "80653f3b-21ab-4b4d-dd49-e93f6dbee1d7"
      },
      "source": [
        "df.shape"
      ],
      "execution_count": 10,
      "outputs": [
        {
          "output_type": "execute_result",
          "data": {
            "text/plain": [
              "(50000, 2)"
            ]
          },
          "metadata": {
            "tags": []
          },
          "execution_count": 10
        }
      ]
    },
    {
      "cell_type": "code",
      "metadata": {
        "id": "e_0j-TOPwUIu",
        "colab_type": "code",
        "colab": {
          "base_uri": "https://localhost:8080/",
          "height": 68
        },
        "outputId": "8cbcede2-1d91-43bb-b701-712a466ee92b"
      },
      "source": [
        "# 단어 단위 분할 및 카운팅\n",
        "\n",
        "from collections import Counter\n",
        "\n",
        "counts = Counter()\n",
        "pbar = pyprind.ProgBar(len(df['review']),\n",
        "                       title='단어의 등장 횟수를 카운트합니다.')\n",
        "\n",
        "for i,review in enumerate(df['review']):\n",
        "    text = ''.join([c if c not in punctuation else ' '+c+' ' \\\n",
        "                    for c in review]).lower()\n",
        "\n",
        "    df.loc[i,'review'] = text\n",
        "    pbar.update()\n",
        "    counts.update(text.split())"
      ],
      "execution_count": 5,
      "outputs": [
        {
          "output_type": "stream",
          "text": [
            "단어의 등장 횟수를 카운트합니다.\n",
            "0% [##############################] 100% | ETA: 00:00:00\n",
            "Total time elapsed: 00:02:51\n"
          ],
          "name": "stderr"
        }
      ]
    },
    {
      "cell_type": "code",
      "metadata": {
        "id": "r9X-fVwzwg2l",
        "colab_type": "code",
        "colab": {
          "base_uri": "https://localhost:8080/",
          "height": 105
        },
        "outputId": "d74e2f65-549f-4df4-c5d8-3a7541fd9e0a"
      },
      "source": [
        "# 정수 매핑 딕셔너리\n",
        "\n",
        "word_counts = sorted(counts, key=counts.get, reverse=True)\n",
        "print(word_counts[:30])\n",
        "word_to_int = {word: ii for ii, word in enumerate(word_counts, 1)}\n",
        "\n",
        "\n",
        "mapped_reviews = []\n",
        "pbar = pyprind.ProgBar(len(df['review']),\n",
        "                       title='리뷰를 정수로 매핑합니다.')\n",
        "for review in df['review']:\n",
        "    mapped_reviews.append([word_to_int[word] for word in review.split()])\n",
        "    pbar.update()"
      ],
      "execution_count": 7,
      "outputs": [
        {
          "output_type": "stream",
          "text": [
            "리뷰를 정수로 매핑합니다.\n"
          ],
          "name": "stderr"
        },
        {
          "output_type": "stream",
          "text": [
            "['the', '.', ',', 'and', 'a', 'of', 'to', \"'\", '/', 'is', '>', '<', 'br', 'it', 'in', 'i', 'this', 'that', '-', '\"', 's', 'was', 'as', 'movie', 'for', 'with', 'but', 'film', ')', '(']\n"
          ],
          "name": "stdout"
        },
        {
          "output_type": "stream",
          "text": [
            "0% [##############################] 100% | ETA: 00:00:00\n",
            "Total time elapsed: 00:00:02\n"
          ],
          "name": "stderr"
        }
      ]
    },
    {
      "cell_type": "code",
      "metadata": {
        "id": "6O3t5b_uyuey",
        "colab_type": "code",
        "colab": {}
      },
      "source": [
        "# 동일 길이의 시퀀스\n",
        "# len < 200: left zero padding\n",
        "# len >= 200: cut off\n",
        "\n",
        "sequence_length = 200 # generally used RNN sequence length\n",
        "sequences = np.zeros((len(mapped_reviews), sequence_length), dtype=int)\n",
        "\n",
        "for i, row in enumerate(mapped_reviews):\n",
        "    review_arr = np.array(row)\n",
        "    sequences[i, -len(row):] = review_arr[-sequence_length:]\n",
        "\n",
        "X_train = sequences[:37500, :]\n",
        "y_train = df.loc[:37499, 'sentiment'].values\n",
        "\n",
        "X_test = sequences[37500:, :]\n",
        "y_test = df.loc[37500:, 'sentiment'].values"
      ],
      "execution_count": 0,
      "outputs": []
    },
    {
      "cell_type": "code",
      "metadata": {
        "id": "aNRS8PL50VXT",
        "colab_type": "code",
        "colab": {
          "base_uri": "https://localhost:8080/",
          "height": 34
        },
        "outputId": "478cf78e-3451-4e47-ad80-0d1f318aadf3"
      },
      "source": [
        "n_words = len(word_to_int) + 1\n",
        "print(X_train.shape, y_train.shape, X_test.shape, y_test.shape)"
      ],
      "execution_count": 12,
      "outputs": [
        {
          "output_type": "stream",
          "text": [
            "(37500, 200) (37500,) (12500, 200) (12500,)\n"
          ],
          "name": "stdout"
        }
      ]
    },
    {
      "cell_type": "code",
      "metadata": {
        "id": "9NXKd0IP0arC",
        "colab_type": "code",
        "colab": {
          "base_uri": "https://localhost:8080/",
          "height": 289
        },
        "outputId": "bf752001-d711-4bbf-8477-12eb8fbac3f4"
      },
      "source": [
        "# define embedding layer\n",
        "\n",
        "from tensorflow.keras import models, layers\n",
        "\n",
        "model = models.Sequential()\n",
        "\n",
        "model.add(layers.Embedding(n_words, 200, \n",
        "                           embeddings_regularizer='l2'))\n",
        "model.add(layers.LSTM(16))\n",
        "model.add(layers.Flatten())\n",
        "model.add(layers.Dense(1, activation='sigmoid'))\n",
        "\n",
        "model.summary()"
      ],
      "execution_count": 14,
      "outputs": [
        {
          "output_type": "stream",
          "text": [
            "Model: \"sequential_1\"\n",
            "_________________________________________________________________\n",
            "Layer (type)                 Output Shape              Param #   \n",
            "=================================================================\n",
            "embedding_1 (Embedding)      (None, None, 200)         20593400  \n",
            "_________________________________________________________________\n",
            "lstm (LSTM)                  (None, 16)                13888     \n",
            "_________________________________________________________________\n",
            "flatten (Flatten)            (None, 16)                0         \n",
            "_________________________________________________________________\n",
            "dense (Dense)                (None, 1)                 17        \n",
            "=================================================================\n",
            "Total params: 20,607,305\n",
            "Trainable params: 20,607,305\n",
            "Non-trainable params: 0\n",
            "_________________________________________________________________\n"
          ],
          "name": "stdout"
        }
      ]
    },
    {
      "cell_type": "code",
      "metadata": {
        "id": "q3P70JKS0myf",
        "colab_type": "code",
        "colab": {
          "base_uri": "https://localhost:8080/",
          "height": 411
        },
        "outputId": "3cf91ec2-8635-40cd-bb0d-08572d6801ff"
      },
      "source": [
        "# train model\n",
        "\n",
        "model.compile(loss='binary_crossentropy', \n",
        "              optimizer='adam', metrics=['acc'])\n",
        "\n",
        "import time\n",
        "from tensorflow.keras.callbacks import ModelCheckpoint, TensorBoard\n",
        "\n",
        "callback_list = [ModelCheckpoint(filepath='sentiment_rnn_checkpoint.h5',\n",
        "                                 monitor='val_loss', \n",
        "                                 save_best_only=True), \n",
        "                 TensorBoard(log_dir=\"sentiment_rnn_logs/{}\".format(\n",
        "                     time.asctime()))]\n",
        "\n",
        "history = model.fit(X_train, y_train, \n",
        "                    batch_size=64, epochs=10, \n",
        "                    validation_split=0.3, callbacks=callback_list)"
      ],
      "execution_count": 15,
      "outputs": [
        {
          "output_type": "stream",
          "text": [
            "Epoch 1/10\n"
          ],
          "name": "stdout"
        },
        {
          "output_type": "stream",
          "text": [
            "/usr/local/lib/python3.6/dist-packages/tensorflow/python/framework/indexed_slices.py:434: UserWarning: Converting sparse IndexedSlices to a dense Tensor of unknown shape. This may consume a large amount of memory.\n",
            "  \"Converting sparse IndexedSlices to a dense Tensor of unknown shape. \"\n"
          ],
          "name": "stderr"
        },
        {
          "output_type": "stream",
          "text": [
            "411/411 [==============================] - 65s 158ms/step - loss: 6.4885 - acc: 0.7512 - val_loss: 0.6201 - val_acc: 0.8412\n",
            "Epoch 2/10\n",
            "411/411 [==============================] - 65s 157ms/step - loss: 0.5861 - acc: 0.8393 - val_loss: 0.5586 - val_acc: 0.8474\n",
            "Epoch 3/10\n",
            "411/411 [==============================] - 65s 157ms/step - loss: 0.5448 - acc: 0.8504 - val_loss: 0.5327 - val_acc: 0.8598\n",
            "Epoch 4/10\n",
            "411/411 [==============================] - 64s 157ms/step - loss: 0.5127 - acc: 0.8615 - val_loss: 0.5199 - val_acc: 0.8596\n",
            "Epoch 5/10\n",
            "411/411 [==============================] - 64s 157ms/step - loss: 0.4988 - acc: 0.8688 - val_loss: 0.5104 - val_acc: 0.8617\n",
            "Epoch 6/10\n",
            "411/411 [==============================] - 64s 156ms/step - loss: 0.4846 - acc: 0.8758 - val_loss: 0.4917 - val_acc: 0.8642\n",
            "Epoch 7/10\n",
            "411/411 [==============================] - 64s 157ms/step - loss: 0.4677 - acc: 0.8835 - val_loss: 0.4821 - val_acc: 0.8733\n",
            "Epoch 8/10\n",
            "411/411 [==============================] - 64s 155ms/step - loss: 0.4557 - acc: 0.8890 - val_loss: 0.4945 - val_acc: 0.8588\n",
            "Epoch 9/10\n",
            "411/411 [==============================] - 64s 156ms/step - loss: 0.4490 - acc: 0.8913 - val_loss: 0.4756 - val_acc: 0.8745\n",
            "Epoch 10/10\n",
            "411/411 [==============================] - 64s 155ms/step - loss: 0.4274 - acc: 0.8983 - val_loss: 0.4786 - val_acc: 0.8752\n"
          ],
          "name": "stdout"
        }
      ]
    },
    {
      "cell_type": "code",
      "metadata": {
        "id": "RzZbaU8q02qI",
        "colab_type": "code",
        "colab": {
          "base_uri": "https://localhost:8080/",
          "height": 541
        },
        "outputId": "5ffb90dd-7138-488b-b7b3-6d5852fc958f"
      },
      "source": [
        "import matplotlib.pyplot as plt\n",
        "\n",
        "epochs = np.arange(1, 11)\n",
        "plt.plot(epochs, history.history['loss'])\n",
        "plt.plot(epochs, history.history['val_loss'])\n",
        "plt.xlabel('epochs')\n",
        "plt.ylabel('loss')\n",
        "plt.legend(['loss', 'val_loss'])\n",
        "plt.show()\n",
        "\n",
        "epochs = np.arange(1, 11)\n",
        "plt.plot(epochs, history.history['acc'])\n",
        "plt.plot(epochs, history.history['val_acc'])\n",
        "plt.xlabel('epochs')\n",
        "plt.ylabel('loss')\n",
        "plt.legend(['acc', 'val_acc'])\n",
        "plt.show()"
      ],
      "execution_count": 17,
      "outputs": [
        {
          "output_type": "display_data",
          "data": {
            "image/png": "[encoded data removed]",
            "text/plain": [
              "<Figure size 432x288 with 1 Axes>"
            ]
          },
          "metadata": {
            "tags": []
          }
        },
        {
          "output_type": "display_data",
          "data": {
            "image/png": "[encoded data removed]",
            "text/plain": [
              "<Figure size 432x288 with 1 Axes>"
            ]
          },
          "metadata": {
            "tags": []
          }
        }
      ]
    },
    {
      "cell_type": "code",
      "metadata": {
        "id": "hQkkQfFs6byM",
        "colab_type": "code",
        "colab": {
          "base_uri": "https://localhost:8080/",
          "height": 275
        },
        "outputId": "2c267045-e546-42cf-d79c-4732dd895ad5"
      },
      "source": [
        "# model evaluation\n",
        "\n",
        "model.load_weights('sentiment_rnn_checkpoint.h5')\n",
        "model.evaluate(X_test, y_test)\n",
        "\n"
      ],
      "execution_count": 18,
      "outputs": [
        {
          "output_type": "stream",
          "text": [
            "391/391 [==============================] - 20s 52ms/step - loss: 0.4828 - acc: 0.8667\n",
            "WARNING:tensorflow:From <ipython-input-18-917b7a088345>:4: Sequential.predict_proba (from tensorflow.python.keras.engine.sequential) is deprecated and will be removed after 2021-01-01.\n",
            "Instructions for updating:\n",
            "Please use `model.predict()` instead.\n"
          ],
          "name": "stdout"
        },
        {
          "output_type": "execute_result",
          "data": {
            "text/plain": [
              "array([[0.00678457],\n",
              "       [0.02304524],\n",
              "       [0.00364674],\n",
              "       [0.89930683],\n",
              "       [0.95709056],\n",
              "       [0.93537277],\n",
              "       [0.02910507],\n",
              "       [0.8620765 ],\n",
              "       [0.00853764],\n",
              "       [0.72555774]], dtype=float32)"
            ]
          },
          "metadata": {
            "tags": []
          },
          "execution_count": 18
        }
      ]
    },
    {
      "cell_type": "code",
      "metadata": {
        "id": "T8MQzMyo6qm1",
        "colab_type": "code",
        "colab": {
          "base_uri": "https://localhost:8080/",
          "height": 428
        },
        "outputId": "621591c0-0db8-43dc-a5a2-e772f3ab2c3b"
      },
      "source": [
        "print(model.predict_proba(X_test[:10]))\n",
        "# pred_onehot = [1 if line > 0.5 else 0 for line in pred_res]\n",
        "\n",
        "print(model.predict_classes(X_test[:10]))"
      ],
      "execution_count": 21,
      "outputs": [
        {
          "output_type": "stream",
          "text": [
            "[[0.00678457]\n",
            " [0.02304524]\n",
            " [0.00364674]\n",
            " [0.89930683]\n",
            " [0.95709056]\n",
            " [0.93537277]\n",
            " [0.02910507]\n",
            " [0.8620765 ]\n",
            " [0.00853764]\n",
            " [0.72555774]]\n",
            "WARNING:tensorflow:From <ipython-input-21-1dc498b33c8a>:4: Sequential.predict_classes (from tensorflow.python.keras.engine.sequential) is deprecated and will be removed after 2021-01-01.\n",
            "Instructions for updating:\n",
            "Please use instead:* `np.argmax(model.predict(x), axis=-1)`,   if your model does multi-class classification   (e.g. if it uses a `softmax` last-layer activation).* `(model.predict(x) > 0.5).astype(\"int32\")`,   if your model does binary classification   (e.g. if it uses a `sigmoid` last-layer activation).\n",
            "[[0]\n",
            " [0]\n",
            " [0]\n",
            " [1]\n",
            " [1]\n",
            " [1]\n",
            " [0]\n",
            " [1]\n",
            " [0]\n",
            " [1]]\n"
          ],
          "name": "stdout"
        }
      ]
    },
    {
      "cell_type": "code",
      "metadata": {
        "id": "Z17-aCgm7KXx",
        "colab_type": "code",
        "colab": {
          "base_uri": "https://localhost:8080/",
          "height": 979
        },
        "outputId": "8f0fc14c-058b-49ed-9e59-666711daba0a"
      },
      "source": [
        "res_df = pd.DataFrame([map(int, model.predict_classes(X_test[:30])), map(int, y_test[:30])]).T\n",
        "res_df.columns = ['real', 'pred']\n",
        "# res_df['Correct'] = df.apply(lambda x : True if x['real'].values == x['pred'].values else False, axis=1)\n",
        "\n",
        "res_df['correct'] = res_df['real'] == res_df['pred']\n",
        "res_df"
      ],
      "execution_count": 40,
      "outputs": [
        {
          "output_type": "execute_result",
          "data": {
            "text/html": [
              "<div>\n",
              "<style scoped>\n",
              "    .dataframe tbody tr th:only-of-type {\n",
              "        vertical-align: middle;\n",
              "    }\n",
              "\n",
              "    .dataframe tbody tr th {\n",
              "        vertical-align: top;\n",
              "    }\n",
              "\n",
              "    .dataframe thead th {\n",
              "        text-align: right;\n",
              "    }\n",
              "</style>\n",
              "<table border=\"1\" class=\"dataframe\">\n",
              "  <thead>\n",
              "    <tr style=\"text-align: right;\">\n",
              "      <th></th>\n",
              "      <th>real</th>\n",
              "      <th>pred</th>\n",
              "      <th>correct</th>\n",
              "    </tr>\n",
              "  </thead>\n",
              "  <tbody>\n",
              "    <tr>\n",
              "      <th>0</th>\n",
              "      <td>0</td>\n",
              "      <td>0</td>\n",
              "      <td>True</td>\n",
              "    </tr>\n",
              "    <tr>\n",
              "      <th>1</th>\n",
              "      <td>0</td>\n",
              "      <td>0</td>\n",
              "      <td>True</td>\n",
              "    </tr>\n",
              "    <tr>\n",
              "      <th>2</th>\n",
              "      <td>0</td>\n",
              "      <td>0</td>\n",
              "      <td>True</td>\n",
              "    </tr>\n",
              "    <tr>\n",
              "      <th>3</th>\n",
              "      <td>1</td>\n",
              "      <td>1</td>\n",
              "      <td>True</td>\n",
              "    </tr>\n",
              "    <tr>\n",
              "      <th>4</th>\n",
              "      <td>1</td>\n",
              "      <td>1</td>\n",
              "      <td>True</td>\n",
              "    </tr>\n",
              "    <tr>\n",
              "      <th>5</th>\n",
              "      <td>1</td>\n",
              "      <td>1</td>\n",
              "      <td>True</td>\n",
              "    </tr>\n",
              "    <tr>\n",
              "      <th>6</th>\n",
              "      <td>0</td>\n",
              "      <td>0</td>\n",
              "      <td>True</td>\n",
              "    </tr>\n",
              "    <tr>\n",
              "      <th>7</th>\n",
              "      <td>1</td>\n",
              "      <td>1</td>\n",
              "      <td>True</td>\n",
              "    </tr>\n",
              "    <tr>\n",
              "      <th>8</th>\n",
              "      <td>0</td>\n",
              "      <td>0</td>\n",
              "      <td>True</td>\n",
              "    </tr>\n",
              "    <tr>\n",
              "      <th>9</th>\n",
              "      <td>1</td>\n",
              "      <td>1</td>\n",
              "      <td>True</td>\n",
              "    </tr>\n",
              "    <tr>\n",
              "      <th>10</th>\n",
              "      <td>0</td>\n",
              "      <td>0</td>\n",
              "      <td>True</td>\n",
              "    </tr>\n",
              "    <tr>\n",
              "      <th>11</th>\n",
              "      <td>0</td>\n",
              "      <td>0</td>\n",
              "      <td>True</td>\n",
              "    </tr>\n",
              "    <tr>\n",
              "      <th>12</th>\n",
              "      <td>0</td>\n",
              "      <td>1</td>\n",
              "      <td>False</td>\n",
              "    </tr>\n",
              "    <tr>\n",
              "      <th>13</th>\n",
              "      <td>1</td>\n",
              "      <td>1</td>\n",
              "      <td>True</td>\n",
              "    </tr>\n",
              "    <tr>\n",
              "      <th>14</th>\n",
              "      <td>1</td>\n",
              "      <td>1</td>\n",
              "      <td>True</td>\n",
              "    </tr>\n",
              "    <tr>\n",
              "      <th>15</th>\n",
              "      <td>1</td>\n",
              "      <td>1</td>\n",
              "      <td>True</td>\n",
              "    </tr>\n",
              "    <tr>\n",
              "      <th>16</th>\n",
              "      <td>0</td>\n",
              "      <td>0</td>\n",
              "      <td>True</td>\n",
              "    </tr>\n",
              "    <tr>\n",
              "      <th>17</th>\n",
              "      <td>0</td>\n",
              "      <td>0</td>\n",
              "      <td>True</td>\n",
              "    </tr>\n",
              "    <tr>\n",
              "      <th>18</th>\n",
              "      <td>0</td>\n",
              "      <td>0</td>\n",
              "      <td>True</td>\n",
              "    </tr>\n",
              "    <tr>\n",
              "      <th>19</th>\n",
              "      <td>0</td>\n",
              "      <td>0</td>\n",
              "      <td>True</td>\n",
              "    </tr>\n",
              "    <tr>\n",
              "      <th>20</th>\n",
              "      <td>0</td>\n",
              "      <td>0</td>\n",
              "      <td>True</td>\n",
              "    </tr>\n",
              "    <tr>\n",
              "      <th>21</th>\n",
              "      <td>1</td>\n",
              "      <td>1</td>\n",
              "      <td>True</td>\n",
              "    </tr>\n",
              "    <tr>\n",
              "      <th>22</th>\n",
              "      <td>0</td>\n",
              "      <td>0</td>\n",
              "      <td>True</td>\n",
              "    </tr>\n",
              "    <tr>\n",
              "      <th>23</th>\n",
              "      <td>1</td>\n",
              "      <td>1</td>\n",
              "      <td>True</td>\n",
              "    </tr>\n",
              "    <tr>\n",
              "      <th>24</th>\n",
              "      <td>1</td>\n",
              "      <td>1</td>\n",
              "      <td>True</td>\n",
              "    </tr>\n",
              "    <tr>\n",
              "      <th>25</th>\n",
              "      <td>0</td>\n",
              "      <td>0</td>\n",
              "      <td>True</td>\n",
              "    </tr>\n",
              "    <tr>\n",
              "      <th>26</th>\n",
              "      <td>0</td>\n",
              "      <td>0</td>\n",
              "      <td>True</td>\n",
              "    </tr>\n",
              "    <tr>\n",
              "      <th>27</th>\n",
              "      <td>0</td>\n",
              "      <td>0</td>\n",
              "      <td>True</td>\n",
              "    </tr>\n",
              "    <tr>\n",
              "      <th>28</th>\n",
              "      <td>0</td>\n",
              "      <td>0</td>\n",
              "      <td>True</td>\n",
              "    </tr>\n",
              "    <tr>\n",
              "      <th>29</th>\n",
              "      <td>1</td>\n",
              "      <td>1</td>\n",
              "      <td>True</td>\n",
              "    </tr>\n",
              "  </tbody>\n",
              "</table>\n",
              "</div>"
            ],
            "text/plain": [
              "    real  pred  correct\n",
              "0      0     0     True\n",
              "1      0     0     True\n",
              "2      0     0     True\n",
              "3      1     1     True\n",
              "4      1     1     True\n",
              "5      1     1     True\n",
              "6      0     0     True\n",
              "7      1     1     True\n",
              "8      0     0     True\n",
              "9      1     1     True\n",
              "10     0     0     True\n",
              "11     0     0     True\n",
              "12     0     1    False\n",
              "13     1     1     True\n",
              "14     1     1     True\n",
              "15     1     1     True\n",
              "16     0     0     True\n",
              "17     0     0     True\n",
              "18     0     0     True\n",
              "19     0     0     True\n",
              "20     0     0     True\n",
              "21     1     1     True\n",
              "22     0     0     True\n",
              "23     1     1     True\n",
              "24     1     1     True\n",
              "25     0     0     True\n",
              "26     0     0     True\n",
              "27     0     0     True\n",
              "28     0     0     True\n",
              "29     1     1     True"
            ]
          },
          "metadata": {
            "tags": []
          },
          "execution_count": 40
        }
      ]
    },
    {
      "cell_type": "code",
      "metadata": {
        "id": "htnBbzb199Wi",
        "colab_type": "code",
        "colab": {}
      },
      "source": [
        ""
      ],
      "execution_count": 0,
      "outputs": []
    }
  ]
}
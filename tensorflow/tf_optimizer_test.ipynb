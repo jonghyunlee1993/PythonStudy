{
 "cells": [
  {
   "cell_type": "code",
   "execution_count": 1,
   "metadata": {},
   "outputs": [],
   "source": [
    "import numpy as np\n",
    "import pandas as pd\n",
    "import tensorflow as tf\n",
    "from tensorflow.keras.models import Sequential\n",
    "from tensorflow.keras.layers import Dense\n",
    "from sklearn.model_selection import train_test_split\n",
    "\n",
    "df = pd.read_csv('house_price.csv', delim_whitespace=True, header=None)\n",
    "\n",
    "data_set = df.values\n",
    "X = data_set[:, 0:13]\n",
    "y = data_set[:, 13]\n",
    "\n",
    "X_train, X_test, y_train, y_test = train_test_split(X, y, test_size=0.2)"
   ]
  },
  {
   "cell_type": "code",
   "execution_count": 2,
   "metadata": {
    "scrolled": true
   },
   "outputs": [
    {
     "name": "stdout",
     "output_type": "stream",
     "text": [
      "WARNING:tensorflow:From /Users/jonghyunlee/anaconda3/lib/python3.7/site-packages/tensorflow_core/python/ops/resource_variable_ops.py:1630: calling BaseResourceVariable.__init__ (from tensorflow.python.ops.resource_variable_ops) with constraint is deprecated and will be removed in a future version.\n",
      "Instructions for updating:\n",
      "If using Keras pass *_constraint arguments to layers.\n",
      "Train on 323 samples, validate on 81 samples\n",
      "Epoch 1/10\n",
      "323/323 [==============================] - 0s 503us/sample - loss: 450.6899 - mean_absolute_percentage_error: 90.6037 - val_loss: 178.0615 - val_mean_absolute_percentage_error: 49.4477\n",
      "Epoch 2/10\n",
      "323/323 [==============================] - 0s 35us/sample - loss: 180.9401 - mean_absolute_percentage_error: 47.9108 - val_loss: 111.6593 - val_mean_absolute_percentage_error: 38.1352\n",
      "Epoch 3/10\n",
      "323/323 [==============================] - 0s 81us/sample - loss: 143.4190 - mean_absolute_percentage_error: 49.8841 - val_loss: 130.8162 - val_mean_absolute_percentage_error: 50.4100\n",
      "Epoch 4/10\n",
      "323/323 [==============================] - 0s 77us/sample - loss: 111.2686 - mean_absolute_percentage_error: 38.9006 - val_loss: 85.7607 - val_mean_absolute_percentage_error: 29.1253\n",
      "Epoch 5/10\n",
      "323/323 [==============================] - 0s 93us/sample - loss: 94.3514 - mean_absolute_percentage_error: 29.9980 - val_loss: 100.4409 - val_mean_absolute_percentage_error: 48.3236\n",
      "Epoch 6/10\n",
      "323/323 [==============================] - 0s 169us/sample - loss: 113.6662 - mean_absolute_percentage_error: 52.4434 - val_loss: 58.7202 - val_mean_absolute_percentage_error: 22.3370\n",
      "Epoch 7/10\n",
      "323/323 [==============================] - 0s 101us/sample - loss: 85.6015 - mean_absolute_percentage_error: 23.6666 - val_loss: 50.0084 - val_mean_absolute_percentage_error: 25.6443\n",
      "Epoch 8/10\n",
      "323/323 [==============================] - 0s 55us/sample - loss: 73.4851 - mean_absolute_percentage_error: 34.5092 - val_loss: 59.8073 - val_mean_absolute_percentage_error: 32.1146\n",
      "Epoch 9/10\n",
      "323/323 [==============================] - 0s 52us/sample - loss: 77.2180 - mean_absolute_percentage_error: 29.2795 - val_loss: 44.2370 - val_mean_absolute_percentage_error: 18.9333\n",
      "Epoch 10/10\n",
      "323/323 [==============================] - 0s 40us/sample - loss: 67.9340 - mean_absolute_percentage_error: 25.0340 - val_loss: 61.7154 - val_mean_absolute_percentage_error: 34.4623\n"
     ]
    },
    {
     "data": {
      "text/plain": [
       "54.84887924285091"
      ]
     },
     "execution_count": 2,
     "metadata": {},
     "output_type": "execute_result"
    }
   ],
   "source": [
    "model = Sequential()\n",
    "model.add(Dense(100, input_dim=13, activation='relu'))\n",
    "model.add(Dense(50, activation='relu'))\n",
    "model.add(Dense(1))\n",
    "\n",
    "model.compile(loss='mse', optimizer='adam', metrics=['mape'])\n",
    "model.fit(X_train, y_train, epochs=10, batch_size=100, validation_split=0.2)\n",
    "y_pred = model.predict(X_test)\n",
    "\n",
    "100. * np.mean(np.abs((y_test - y_pred) / y_test))"
   ]
  },
  {
   "cell_type": "code",
   "execution_count": 3,
   "metadata": {
    "scrolled": true
   },
   "outputs": [
    {
     "name": "stdout",
     "output_type": "stream",
     "text": [
      "Train on 323 samples, validate on 81 samples\n",
      "Epoch 1/10\n",
      "323/323 [==============================] - 0s 919us/sample - loss: 103.1218 - mean_absolute_percentage_error: 541.2216 - val_loss: 47.1276 - val_mean_absolute_percentage_error: 229.8602\n",
      "Epoch 2/10\n",
      "323/323 [==============================] - 0s 85us/sample - loss: 30.9421 - mean_absolute_percentage_error: 152.9796 - val_loss: 18.2337 - val_mean_absolute_percentage_error: 103.4789\n",
      "Epoch 3/10\n",
      "323/323 [==============================] - 0s 103us/sample - loss: 25.0854 - mean_absolute_percentage_error: 158.9749 - val_loss: 27.7455 - val_mean_absolute_percentage_error: 154.5662\n",
      "Epoch 4/10\n",
      "323/323 [==============================] - 0s 112us/sample - loss: 23.9443 - mean_absolute_percentage_error: 151.6501 - val_loss: 9.1097 - val_mean_absolute_percentage_error: 50.9621\n",
      "Epoch 5/10\n",
      "323/323 [==============================] - 0s 108us/sample - loss: 8.6011 - mean_absolute_percentage_error: 43.8183 - val_loss: 12.3527 - val_mean_absolute_percentage_error: 54.9936\n",
      "Epoch 6/10\n",
      "323/323 [==============================] - 0s 110us/sample - loss: 13.6584 - mean_absolute_percentage_error: 61.6918 - val_loss: 6.0404 - val_mean_absolute_percentage_error: 25.4719\n",
      "Epoch 7/10\n",
      "323/323 [==============================] - 0s 92us/sample - loss: 7.5294 - mean_absolute_percentage_error: 39.3439 - val_loss: 10.1791 - val_mean_absolute_percentage_error: 57.4080\n",
      "Epoch 8/10\n",
      "323/323 [==============================] - 0s 206us/sample - loss: 10.4669 - mean_absolute_percentage_error: 63.5358 - val_loss: 6.5608 - val_mean_absolute_percentage_error: 35.0189\n",
      "Epoch 9/10\n",
      "323/323 [==============================] - 0s 38us/sample - loss: 6.9718 - mean_absolute_percentage_error: 34.2216 - val_loss: 6.8489 - val_mean_absolute_percentage_error: 29.6831\n",
      "Epoch 10/10\n",
      "323/323 [==============================] - 0s 47us/sample - loss: 8.4088 - mean_absolute_percentage_error: 35.8189 - val_loss: 4.9384 - val_mean_absolute_percentage_error: 22.0260\n"
     ]
    },
    {
     "data": {
      "text/plain": [
       "40.50599016441097"
      ]
     },
     "execution_count": 3,
     "metadata": {},
     "output_type": "execute_result"
    }
   ],
   "source": [
    "tf.keras.backend.clear_session()\n",
    "\n",
    "model = Sequential()\n",
    "model.add(Dense(100, input_dim=13, activation='relu'))\n",
    "model.add(Dense(50, activation='relu'))\n",
    "model.add(Dense(1))\n",
    "\n",
    "model.compile(loss='mae', optimizer='adam', metrics=['mape'])\n",
    "model.fit(X_train, y_train, epochs=10, batch_size=100, validation_split=0.2)\n",
    "y_pred = model.predict(X_test)\n",
    "\n",
    "100. * np.mean(np.abs((y_test - y_pred) / y_test))"
   ]
  },
  {
   "cell_type": "code",
   "execution_count": 4,
   "metadata": {
    "scrolled": true
   },
   "outputs": [
    {
     "name": "stdout",
     "output_type": "stream",
     "text": [
      "Train on 323 samples, validate on 81 samples\n",
      "Epoch 1/10\n",
      "323/323 [==============================] - 0s 330us/sample - loss: 2248.1548 - mean_absolute_percentage_error: 12139.6211 - val_loss: 127129.0469 - val_mean_absolute_percentage_error: 647625.0625\n",
      "Epoch 2/10\n",
      "323/323 [==============================] - 0s 30us/sample - loss: 40135.9242 - mean_absolute_percentage_error: 221665.5781 - val_loss: 22.6504 - val_mean_absolute_percentage_error: 99.7099\n",
      "Epoch 3/10\n",
      "323/323 [==============================] - 0s 72us/sample - loss: 22.6738 - mean_absolute_percentage_error: 99.6010 - val_loss: 22.5870 - val_mean_absolute_percentage_error: 99.3944\n",
      "Epoch 4/10\n",
      "323/323 [==============================] - 0s 162us/sample - loss: 22.6103 - mean_absolute_percentage_error: 99.2645 - val_loss: 22.5234 - val_mean_absolute_percentage_error: 99.0777\n",
      "Epoch 5/10\n",
      "323/323 [==============================] - 0s 69us/sample - loss: 22.5466 - mean_absolute_percentage_error: 98.9320 - val_loss: 22.4593 - val_mean_absolute_percentage_error: 98.7590\n",
      "Epoch 6/10\n",
      "323/323 [==============================] - 0s 52us/sample - loss: 22.4825 - mean_absolute_percentage_error: 98.5913 - val_loss: 22.3948 - val_mean_absolute_percentage_error: 98.4375\n",
      "Epoch 7/10\n",
      "323/323 [==============================] - 0s 89us/sample - loss: 22.4177 - mean_absolute_percentage_error: 98.2507 - val_loss: 22.3295 - val_mean_absolute_percentage_error: 98.1125\n",
      "Epoch 8/10\n",
      "323/323 [==============================] - 0s 157us/sample - loss: 22.3522 - mean_absolute_percentage_error: 97.9055 - val_loss: 22.2633 - val_mean_absolute_percentage_error: 97.7832\n",
      "Epoch 9/10\n",
      "323/323 [==============================] - 0s 72us/sample - loss: 22.2857 - mean_absolute_percentage_error: 97.5547 - val_loss: 22.1961 - val_mean_absolute_percentage_error: 97.4487\n",
      "Epoch 10/10\n",
      "323/323 [==============================] - 0s 70us/sample - loss: 22.2182 - mean_absolute_percentage_error: 97.1997 - val_loss: 22.1277 - val_mean_absolute_percentage_error: 97.1082\n"
     ]
    },
    {
     "data": {
      "text/plain": [
       "96.84503523371154"
      ]
     },
     "execution_count": 4,
     "metadata": {},
     "output_type": "execute_result"
    }
   ],
   "source": [
    "tf.keras.backend.clear_session()\n",
    "\n",
    "model = Sequential()\n",
    "model.add(Dense(100, input_dim=13, activation='relu'))\n",
    "model.add(Dense(50, activation='relu'))\n",
    "model.add(Dense(1))\n",
    "\n",
    "model.compile(loss='mae', optimizer='sgd', metrics=['mape'])\n",
    "model.fit(X_train, y_train, epochs=10, batch_size=100, validation_split=0.2)\n",
    "y_pred = model.predict(X_test)\n",
    "\n",
    "100. * np.mean(np.abs((y_test - y_pred) / y_test))"
   ]
  },
  {
   "cell_type": "code",
   "execution_count": 5,
   "metadata": {
    "scrolled": true
   },
   "outputs": [
    {
     "name": "stdout",
     "output_type": "stream",
     "text": [
      "Train on 323 samples, validate on 81 samples\n",
      "Epoch 1/10\n",
      "323/323 [==============================] - 0s 506us/sample - loss: 864.0083 - mean_absolute_percentage_error: 114.2318 - val_loss: 72.5931 - val_mean_absolute_percentage_error: 29.7181\n",
      "Epoch 2/10\n",
      "323/323 [==============================] - 0s 67us/sample - loss: 111.5247 - mean_absolute_percentage_error: 41.4590 - val_loss: 214.8498 - val_mean_absolute_percentage_error: 72.3090\n",
      "Epoch 3/10\n",
      "323/323 [==============================] - 0s 103us/sample - loss: 207.4794 - mean_absolute_percentage_error: 67.3289 - val_loss: 113.8809 - val_mean_absolute_percentage_error: 50.8623\n",
      "Epoch 4/10\n",
      "323/323 [==============================] - 0s 151us/sample - loss: 106.5345 - mean_absolute_percentage_error: 44.4346 - val_loss: 157.9020 - val_mean_absolute_percentage_error: 62.9258\n",
      "Epoch 5/10\n",
      "323/323 [==============================] - 0s 138us/sample - loss: 152.1775 - mean_absolute_percentage_error: 57.1628 - val_loss: 65.9533 - val_mean_absolute_percentage_error: 37.5293\n",
      "Epoch 6/10\n",
      "323/323 [==============================] - 0s 134us/sample - loss: 127.5195 - mean_absolute_percentage_error: 49.8111 - val_loss: 209.4835 - val_mean_absolute_percentage_error: 74.0579\n",
      "Epoch 7/10\n",
      "323/323 [==============================] - 0s 119us/sample - loss: 206.1489 - mean_absolute_percentage_error: 69.9332 - val_loss: 137.7474 - val_mean_absolute_percentage_error: 58.9941\n",
      "Epoch 8/10\n",
      "323/323 [==============================] - 0s 67us/sample - loss: 111.9988 - mean_absolute_percentage_error: 43.7431 - val_loss: 141.9565 - val_mean_absolute_percentage_error: 59.7732\n",
      "Epoch 9/10\n",
      "323/323 [==============================] - 0s 89us/sample - loss: 129.4921 - mean_absolute_percentage_error: 49.7807 - val_loss: 158.1434 - val_mean_absolute_percentage_error: 64.0088\n",
      "Epoch 10/10\n",
      "323/323 [==============================] - 0s 94us/sample - loss: 149.3584 - mean_absolute_percentage_error: 52.9222 - val_loss: 137.0536 - val_mean_absolute_percentage_error: 58.9439\n"
     ]
    },
    {
     "data": {
      "text/plain": [
       "74.26029938288494"
      ]
     },
     "execution_count": 5,
     "metadata": {},
     "output_type": "execute_result"
    }
   ],
   "source": [
    "tf.keras.backend.clear_session()\n",
    "\n",
    "model = Sequential()\n",
    "model.add(Dense(100, input_dim=13, activation='relu'))\n",
    "model.add(Dense(50, activation='relu'))\n",
    "model.add(Dense(1))\n",
    "\n",
    "model.compile(loss='mse', optimizer='rmsprop', metrics=['mape'])\n",
    "model.fit(X_train, y_train, epochs=10, batch_size=100, validation_split=0.2)\n",
    "y_pred = model.predict(X_test)\n",
    "\n",
    "100. * np.mean(np.abs((y_test - y_pred) / y_test))"
   ]
  },
  {
   "cell_type": "code",
   "execution_count": 6,
   "metadata": {
    "scrolled": true
   },
   "outputs": [
    {
     "name": "stdout",
     "output_type": "stream",
     "text": [
      "WARNING:tensorflow:From /Users/jonghyunlee/anaconda3/lib/python3.7/site-packages/tensorflow_core/python/keras/optimizer_v2/adagrad.py:107: calling Constant.__init__ (from tensorflow.python.ops.init_ops) with dtype is deprecated and will be removed in a future version.\n",
      "Instructions for updating:\n",
      "Call initializer instance with the dtype argument instead of passing it to the constructor\n",
      "Train on 323 samples, validate on 81 samples\n",
      "Epoch 1/10\n",
      "323/323 [==============================] - 0s 358us/sample - loss: 1611.0061 - mean_absolute_percentage_error: 161.3454 - val_loss: 579.8240 - val_mean_absolute_percentage_error: 86.2594\n",
      "Epoch 2/10\n",
      "323/323 [==============================] - 0s 34us/sample - loss: 472.9654 - mean_absolute_percentage_error: 85.5685 - val_loss: 353.8406 - val_mean_absolute_percentage_error: 67.4301\n",
      "Epoch 3/10\n",
      "323/323 [==============================] - 0s 104us/sample - loss: 330.9078 - mean_absolute_percentage_error: 75.2437 - val_loss: 259.3776 - val_mean_absolute_percentage_error: 57.5908\n",
      "Epoch 4/10\n",
      "323/323 [==============================] - 0s 102us/sample - loss: 263.8773 - mean_absolute_percentage_error: 69.2697 - val_loss: 211.2888 - val_mean_absolute_percentage_error: 50.6668\n",
      "Epoch 5/10\n",
      "323/323 [==============================] - 0s 63us/sample - loss: 216.9198 - mean_absolute_percentage_error: 61.3950 - val_loss: 170.6474 - val_mean_absolute_percentage_error: 46.5382\n",
      "Epoch 6/10\n",
      "323/323 [==============================] - 0s 148us/sample - loss: 180.9546 - mean_absolute_percentage_error: 55.7013 - val_loss: 146.8819 - val_mean_absolute_percentage_error: 43.5024\n",
      "Epoch 7/10\n",
      "323/323 [==============================] - 0s 126us/sample - loss: 158.9764 - mean_absolute_percentage_error: 51.6168 - val_loss: 132.7177 - val_mean_absolute_percentage_error: 41.7227\n",
      "Epoch 8/10\n",
      "323/323 [==============================] - 0s 117us/sample - loss: 144.4876 - mean_absolute_percentage_error: 49.2828 - val_loss: 120.4617 - val_mean_absolute_percentage_error: 39.6875\n",
      "Epoch 9/10\n",
      "323/323 [==============================] - 0s 45us/sample - loss: 132.6553 - mean_absolute_percentage_error: 46.7785 - val_loss: 110.5307 - val_mean_absolute_percentage_error: 37.6139\n",
      "Epoch 10/10\n",
      "323/323 [==============================] - 0s 137us/sample - loss: 123.4766 - mean_absolute_percentage_error: 44.1797 - val_loss: 105.5970 - val_mean_absolute_percentage_error: 37.7080\n"
     ]
    },
    {
     "data": {
      "text/plain": [
       "45.234433897084045"
      ]
     },
     "execution_count": 6,
     "metadata": {},
     "output_type": "execute_result"
    }
   ],
   "source": [
    "tf.keras.backend.clear_session()\n",
    "\n",
    "model = Sequential()\n",
    "model.add(Dense(100, input_dim=13, activation='relu'))\n",
    "model.add(Dense(50, activation='relu'))\n",
    "model.add(Dense(1))\n",
    "\n",
    "model.compile(loss='mse', optimizer='adagrad', metrics=['mape'])\n",
    "model.fit(X_train, y_train, epochs=10, batch_size=100, validation_split=0.2)\n",
    "y_pred = model.predict(X_test)\n",
    "\n",
    "100. * np.mean(np.abs((y_test - y_pred) / y_test))"
   ]
  },
  {
   "cell_type": "code",
   "execution_count": null,
   "metadata": {},
   "outputs": [],
   "source": []
  }
 ],
 "metadata": {
  "kernelspec": {
   "display_name": "Python 3",
   "language": "python",
   "name": "python3"
  },
  "language_info": {
   "codemirror_mode": {
    "name": "ipython",
    "version": 3
   },
   "file_extension": ".py",
   "mimetype": "text/x-python",
   "name": "python",
   "nbconvert_exporter": "python",
   "pygments_lexer": "ipython3",
   "version": "3.7.1"
  }
 },
 "nbformat": 4,
 "nbformat_minor": 2
}

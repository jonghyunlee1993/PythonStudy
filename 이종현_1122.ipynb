{
 "cells": [
  {
   "cell_type": "code",
   "execution_count": 52,
   "metadata": {},
   "outputs": [
    {
     "name": "stdout",
     "output_type": "stream",
     "text": [
      "/ operator result: 2.0\n",
      "// operator result: 2\n",
      "% operator result: 0\n",
      "and == operator result: True\n",
      "or == operator result: 10\n",
      "and != operator result: False\n",
      "or != operator result: False\n",
      "in operator result: False\n",
      "not in operator result: True\n"
     ]
    }
   ],
   "source": [
    "# operator\n",
    "def example_operator():\n",
    "    a = 10\n",
    "    b = 5\n",
    "    \n",
    "    print(f\"/ operator result: {a/b}\")\n",
    "    print(f\"// operator result: {a//b}\")\n",
    "    print(f\"% operator result: {a%b}\")\n",
    "\n",
    "    print(f\"and == operator result: {a and b == 5}\")\n",
    "    print(f\"or == operator result: {a or b == 5}\")\n",
    "    \n",
    "    print(f\"and != operator result: {a and b != 5}\")\n",
    "    print(f\"or != operator result: {a and b != 5}\")\n",
    "    \n",
    "    print(f\"in operator result: {a in [1,2,3,4,5]}\")\n",
    "    print(f\"not in operator result: {a not in [1,2,3,4,5]}\")\n",
    "    \n",
    "example_operator()"
   ]
  },
  {
   "cell_type": "code",
   "execution_count": 10,
   "metadata": {},
   "outputs": [
    {
     "name": "stdout",
     "output_type": "stream",
     "text": [
      "[1, 2, 3, 4, 5, 6, 7, 8, 9, 10]는 <class 'list'>입니다.\n",
      "{1, 2, 3}는 <class 'set'>입니다.\n",
      "{'b': 1, 'c': 2, 'd': 3}는 <class 'dict'>입니다.\n"
     ]
    }
   ],
   "source": [
    "# literal\n",
    "def python_literal():\n",
    "    a = list(range(1,11))\n",
    "    b = set([1, 2, 3])\n",
    "    c = {'b': 1, \"c\": 2, \"d\": 3}\n",
    "    \n",
    "    print(f\"{a}는 {type(a)}입니다.\")\n",
    "    print(f\"{b}는 {type(b)}입니다.\")\n",
    "    print(f\"{c}는 {type(c)}입니다.\")\n",
    "    \n",
    "python_literal()    "
   ]
  },
  {
   "cell_type": "code",
   "execution_count": null,
   "metadata": {},
   "outputs": [],
   "source": [
    "'''\n",
    "파이썬 자료형\n",
    "\n",
    "1. list\n",
    "2. dictionary\n",
    "3. tuple\n",
    "4. set\n",
    "5. string\n",
    "6. boolean\n",
    "\n",
    "'''"
   ]
  },
  {
   "cell_type": "code",
   "execution_count": 26,
   "metadata": {
    "scrolled": true
   },
   "outputs": [
    {
     "name": "stdout",
     "output_type": "stream",
     "text": [
      "81\n",
      "index: 0 and number: 10\n",
      "index: 1 and number: 21\n",
      "index: 2 and number: 66\n",
      "index: 3 and number: 76\n",
      "index: 4 and number: 5\n",
      "index: 5 and number: 76\n",
      "index: 6 and number: 42\n",
      "index: 7 and number: 84\n",
      "index: 8 and number: 55\n",
      "index: 9 and number: 99\n",
      "index: 10 and number: 1\n",
      "index: 11 and number: 81\n",
      "index: 12 and number: 95\n",
      "index: 13 and number: 72\n",
      "index: 14 and number: 6\n",
      "index: 15 and number: 74\n",
      "index: 16 and number: 95\n",
      "index: 17 and number: 3\n",
      "index: 18 and number: 100\n",
      "index: 19 and number: 24\n",
      "index: 20 and number: 90\n",
      "index: 21 and number: 27\n",
      "index: 22 and number: 91\n",
      "index: 23 and number: 82\n",
      "index: 24 and number: 6\n",
      "index: 25 and number: 65\n",
      "index: 26 and number: 94\n",
      "index: 27 and number: 35\n",
      "index: 28 and number: 2\n",
      "index: 29 and number: 93\n",
      "index: 30 and number: 36\n",
      "index: 31 and number: 46\n",
      "index: 32 and number: 58\n",
      "index: 33 and number: 26\n",
      "index: 34 and number: 95\n",
      "index: 35 and number: 22\n",
      "index: 36 and number: 37\n",
      "index: 37 and number: 47\n",
      "index: 38 and number: 56\n",
      "index: 39 and number: 3\n",
      "index: 40 and number: 11\n",
      "index: 41 and number: 96\n",
      "index: 42 and number: 57\n",
      "index: 43 and number: 22\n",
      "index: 44 and number: 20\n",
      "index: 45 and number: 85\n",
      "index: 46 and number: 85\n",
      "index: 47 and number: 63\n",
      "index: 48 and number: 38\n",
      "index: 49 and number: 26\n",
      "index: 50 and number: 71\n",
      "index: 51 and number: 59\n",
      "index: 52 and number: 66\n",
      "index: 53 and number: 7\n",
      "index: 54 and number: 31\n",
      "index: 55 and number: 22\n",
      "index: 56 and number: 65\n",
      "index: 57 and number: 40\n",
      "index: 58 and number: 67\n",
      "index: 59 and number: 89\n",
      "index: 60 and number: 57\n",
      "index: 61 and number: 62\n",
      "index: 62 and number: 98\n",
      "index: 63 and number: 56\n",
      "index: 64 and number: 19\n",
      "index: 65 and number: 18\n",
      "index: 66 and number: 57\n",
      "index: 67 and number: 55\n",
      "index: 68 and number: 29\n",
      "index: 69 and number: 43\n",
      "index: 70 and number: 3\n",
      "index: 71 and number: 32\n",
      "index: 72 and number: 79\n",
      "index: 73 and number: 59\n",
      "index: 74 and number: 73\n",
      "index: 75 and number: 95\n",
      "index: 76 and number: 61\n",
      "index: 77 and number: 86\n",
      "index: 78 and number: 3\n",
      "index: 79 and number: 70\n",
      "index: 80 and number: 46\n",
      "index: 81 and number: 101\n",
      "index: 82 and number: 100\n",
      "index: 83 and number: 34\n",
      "index: 84 and number: 31\n",
      "index: 85 and number: 65\n",
      "index: 86 and number: 40\n",
      "index: 87 and number: 43\n",
      "index: 88 and number: 77\n",
      "index: 89 and number: 90\n",
      "index: 90 and number: 34\n",
      "index: 91 and number: 32\n",
      "index: 92 and number: 37\n",
      "index: 93 and number: 4\n",
      "index: 94 and number: 93\n",
      "index: 95 and number: 30\n",
      "index: 96 and number: 64\n",
      "index: 97 and number: 17\n",
      "index: 98 and number: 46\n",
      "index: 99 and number: 87\n"
     ]
    }
   ],
   "source": [
    "# random number generation and hadling list\n",
    "def random_number_generator():\n",
    "    import random as rnd\n",
    "    \n",
    "    res = []\n",
    "    for i in range(100):\n",
    "        res.append(rnd.randint(1,101))\n",
    "        \n",
    "    print(res[11])\n",
    "    \n",
    "    del res[51]\n",
    "    print(\"deleting data was successfully done!\")\n",
    "    \n",
    "    res.append(87)\n",
    "    \n",
    "    for idx, num in enumerate(res):\n",
    "        print(f\"index: {idx} and number: {num}\")\n",
    "        \n",
    "random_number_generator()"
   ]
  },
  {
   "cell_type": "code",
   "execution_count": 16,
   "metadata": {},
   "outputs": [
    {
     "name": "stdout",
     "output_type": "stream",
     "text": [
      "['a', 'b', 'c', 'd', 'e']\n",
      "World\n",
      "Hello\n",
      "3는 <class 'str'>입니다.\n",
      "3는 <class 'str'>입니다.\n",
      "2.17는 <class 'str'>입니다.\n"
     ]
    }
   ],
   "source": [
    "# A = \"abc\" \n",
    "# 따옴표, 쌍따옴표를 사용한다.\n",
    "\n",
    "# string type hadling\n",
    "def my_string():\n",
    "    str1 = \"a,b,c,d,e\"\n",
    "    print(str1.split(\",\"))\n",
    "    \n",
    "    str2 = \" Hello World \"\n",
    "    proced = str2.lstrip().rstrip().split(\" \")\n",
    "    \n",
    "    for word in reversed(proced):\n",
    "        print(word)\n",
    "    \n",
    "    str3 = 3\n",
    "    str3 = str(str3)\n",
    "    print(f\"{str3}는 {type(str3)}입니다.\")\n",
    "    \n",
    "    str4 = \"3.14\"\n",
    "    str4 = str(int(float(str4)))\n",
    "    print(f\"{str4}는 {type(str4)}입니다.\")\n",
    "    \n",
    "    str5 = 2.17\n",
    "    str5 = str(str5)\n",
    "    print(f\"{str5}는 {type(str5)}입니다.\")\n",
    "    \n",
    "my_string()"
   ]
  },
  {
   "cell_type": "code",
   "execution_count": 17,
   "metadata": {},
   "outputs": [
    {
     "name": "stdout",
     "output_type": "stream",
     "text": [
      "2\n",
      "4\n",
      "6\n",
      "8\n",
      "10\n"
     ]
    }
   ],
   "source": [
    "# for loop \n",
    "def for_loop_tester(cond = 1):\n",
    "    res = 0\n",
    "    \n",
    "    for i in range(1, 11):\n",
    "        if cond == 1 and i % 2 == 0:\n",
    "            print(i)\n",
    "        elif cond == 2 and i % 2 == 1:\n",
    "            print(i)\n",
    "        else:\n",
    "            res += i\n",
    "    \n",
    "    if cond == 3:\n",
    "        print(res)\n",
    "        \n",
    "for_loop_tester()"
   ]
  },
  {
   "cell_type": "code",
   "execution_count": 21,
   "metadata": {},
   "outputs": [
    {
     "name": "stdout",
     "output_type": "stream",
     "text": [
      "[68, 64, 32, 99, 92, 25, 64, 24, 90, 42]\n"
     ]
    }
   ],
   "source": [
    "# random number generation and list append method\n",
    "def random_number_generator2(num = 10):\n",
    "    import random as rnd\n",
    "    \n",
    "    res = []\n",
    "    \n",
    "    for i in range(num):\n",
    "        res.append(rnd.randint(1, 101))\n",
    "        \n",
    "    print(res)\n",
    "    \n",
    "random_number_generator2()"
   ]
  },
  {
   "cell_type": "code",
   "execution_count": 35,
   "metadata": {},
   "outputs": [
    {
     "name": "stdout",
     "output_type": "stream",
     "text": [
      "6\n",
      "5\n",
      "4\n",
      "3\n",
      "2\n",
      "1\n",
      "21\n"
     ]
    }
   ],
   "source": [
    "def sum_my_num(my_num = 123456):\n",
    "    res = 0\n",
    "    idx = 0\n",
    "    \n",
    "    while idx < len(str(my_num)):\n",
    "        each_num = my_num % 10**(idx+1) // 10**(idx)\n",
    "#         print(each_num)\n",
    "        res += each_num\n",
    "        idx += 1\n",
    "        \n",
    "    print(res)\n",
    "    \n",
    "sum_my_num()"
   ]
  },
  {
   "cell_type": "code",
   "execution_count": 37,
   "metadata": {},
   "outputs": [
    {
     "name": "stdout",
     "output_type": "stream",
     "text": [
      "[2, 20, 41, 40, 14, 1, 43, 24, 38, 6, 44, 7, 31, 10, 33, 16, 39, 26, 22, 21, 28, 9, 32, 23, 37, 17, 15, 4, 25, 3, 27]\n"
     ]
    }
   ],
   "source": [
    "# sorting\n",
    "def unique_random_number_generator(num = 30):\n",
    "    import random as rnd\n",
    "    \n",
    "    res = []\n",
    "    while len(res) <= num:\n",
    "        temp = rnd.randrange(1, 46)\n",
    "\n",
    "        if not temp in res:\n",
    "            res.append(temp)\n",
    "\n",
    "    print(res)\n",
    "    \n",
    "unique_random_number_generator()"
   ]
  },
  {
   "cell_type": "code",
   "execution_count": 42,
   "metadata": {},
   "outputs": [
    {
     "name": "stdout",
     "output_type": "stream",
     "text": [
      "\t\t11월의 달력\n",
      "\n",
      "일\t월\t화\t수\t목\t금\t토\n",
      "\t\t\t\t\t1\t2\n",
      "3\t4\t5\t6\t7\t8\t9\n",
      "10\t11\t12\t13\t14\t15\t16\n",
      "17\t18\t19\t20\t21\t22\t23\n",
      "24\t25\t26\t27\t28\t29\t30\n",
      "\n"
     ]
    }
   ],
   "source": [
    "# 달력 만들기\n",
    "def make_calendar(month = 11):\n",
    "    \n",
    "    import numpy as np\n",
    "    \n",
    "    days = [2, 31, 28, 31, 30, 31, 30, 31, 31, 30, 31, 30, 31]\n",
    "    dow = [\"일\", \"월\", \"화\", \"수\", \"목\", \"금\", \"토\"]\n",
    "    \n",
    "    padding = (sum(days[0:month])) % 7\n",
    "    \n",
    "    my_day = list(range(1, days[month] + 1))\n",
    "    res = list(np.repeat(99, padding))\n",
    "    \n",
    "    res.extend(my_day)\n",
    "    \n",
    "    print(f\"\\t\\t{month}월의 달력\\n\")\n",
    "    print(\"\\t\".join(map(str, dow)))\n",
    "\n",
    "    for line in range(1, (len(res) // 7) + 2):\n",
    "        temp = res[(line-1)*7:line*7]\n",
    "        temp_str = '\\t'.join(map(str,temp)).replace(\"99\", \"\")\n",
    "        print(temp_str)\n",
    "\n",
    "make_calendar()"
   ]
  },
  {
   "cell_type": "code",
   "execution_count": 56,
   "metadata": {},
   "outputs": [
    {
     "name": "stdout",
     "output_type": "stream",
     "text": [
      "101은 소수입니다.\n",
      "103은 소수입니다.\n",
      "107은 소수입니다.\n",
      "109은 소수입니다.\n",
      "113은 소수입니다.\n",
      "127은 소수입니다.\n",
      "131은 소수입니다.\n",
      "137은 소수입니다.\n",
      "139은 소수입니다.\n",
      "149은 소수입니다.\n",
      "151은 소수입니다.\n",
      "157은 소수입니다.\n",
      "163은 소수입니다.\n",
      "167은 소수입니다.\n",
      "173은 소수입니다.\n",
      "179은 소수입니다.\n",
      "181은 소수입니다.\n",
      "191은 소수입니다.\n",
      "193은 소수입니다.\n",
      "197은 소수입니다.\n",
      "199은 소수입니다.\n"
     ]
    }
   ],
   "source": [
    "def is_prime(num):\n",
    "    prime = True\n",
    "    \n",
    "    for idx in range(2, num):\n",
    "        if num % idx == 0:\n",
    "            prime = False\n",
    "            break\n",
    "    \n",
    "    if prime:\n",
    "        print(f\"{num}은 소수입니다.\")\n",
    "        \n",
    "for i in range(100,201):\n",
    "    is_prime(i)"
   ]
  },
  {
   "cell_type": "code",
   "execution_count": null,
   "metadata": {},
   "outputs": [],
   "source": [
    "def is_prime2(num):\n",
    "    import numpy as np\n",
    "    \n",
    "    holder = np.array(list(range(2, num)))\n",
    "    res = num / holder\n",
    "    \n",
    "    # 하나라도 같은 값이 있다 -> 나누어 떨어진다 -> 소수가 아니다\n",
    "    # 이를 sum 연산했기 때문에 만약 같은 값이 있으면 결과는 1 이상이 될 것\n",
    "    if not sum(list(map(int, res)) == res):\n",
    "        print(f\"{num:-2}은 소수입니다.\")\n",
    "        \n",
    "for i in range(100,201):\n",
    "    is_prime2(i)"
   ]
  },
  {
   "cell_type": "code",
   "execution_count": 45,
   "metadata": {
    "scrolled": true
   },
   "outputs": [
    {
     "name": "stdout",
     "output_type": "stream",
     "text": [
      "2000년은 윤년입니다.\n",
      "2004년은 윤년입니다.\n",
      "2008년은 윤년입니다.\n",
      "2012년은 윤년입니다.\n",
      "2016년은 윤년입니다.\n",
      "2020년은 윤년입니다.\n"
     ]
    }
   ],
   "source": [
    "def is_leap_year(year):\n",
    "    if (year % 400 == 0) or (year % 4 == 0 and year % 100 != 0):\n",
    "        print(f\"{year}년은 윤년입니다.\")\n",
    "\n",
    "for i in range(2000, 2021):\n",
    "    is_leap_year(i)"
   ]
  },
  {
   "cell_type": "code",
   "execution_count": 48,
   "metadata": {},
   "outputs": [
    {
     "name": "stdout",
     "output_type": "stream",
     "text": [
      "[4, 7, 18, 21, 30, 39, 45]\n"
     ]
    }
   ],
   "source": [
    "def sort_my_data(num = 6): \n",
    "    import random as rnd\n",
    "    \n",
    "    data = []\n",
    "    while len(data) <= num:\n",
    "        temp = rnd.randrange(1, 46)\n",
    "\n",
    "        if not temp in data:\n",
    "            data.append(temp)\n",
    "            \n",
    "    for i in range(len(data)):\n",
    "        for j in range(i+1, len(data)):\n",
    "            if data[i] > data[j]:\n",
    "                data[i], data[j] = data[j], data[i]\n",
    "                \n",
    "    print(data)\n",
    "    \n",
    "sort_my_data()"
   ]
  },
  {
   "cell_type": "code",
   "execution_count": null,
   "metadata": {},
   "outputs": [],
   "source": []
  }
 ],
 "metadata": {
  "kernelspec": {
   "display_name": "Python 3",
   "language": "python",
   "name": "python3"
  },
  "language_info": {
   "codemirror_mode": {
    "name": "ipython",
    "version": 3
   },
   "file_extension": ".py",
   "mimetype": "text/x-python",
   "name": "python",
   "nbconvert_exporter": "python",
   "pygments_lexer": "ipython3",
   "version": "3.7.4"
  }
 },
 "nbformat": 4,
 "nbformat_minor": 2
}

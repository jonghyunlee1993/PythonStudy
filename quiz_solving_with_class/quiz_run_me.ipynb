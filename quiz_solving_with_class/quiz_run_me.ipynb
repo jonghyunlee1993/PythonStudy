{
 "cells": [
  {
   "cell_type": "code",
   "execution_count": 1,
   "metadata": {},
   "outputs": [],
   "source": [
    "from Quiz import quiz"
   ]
  },
  {
   "cell_type": "code",
   "execution_count": 2,
   "metadata": {},
   "outputs": [
    {
     "name": "stdout",
     "output_type": "stream",
     "text": [
      "[['990001', 'addx', 17, 29, 16, 49, 43, 154, 'C', 'A', 'C'], ['990002', 'stch', 30, 9, 48, 25, 81, 193, 'C', 'A', 'A'], ['990003', 'gali', 93, 60, 6, 84, 36, 279, 'A', 'C', 'A'], ['990004', 'miat', 73, 22, 48, 24, 72, 239, 'B', 'C', 'C'], ['990005', 'oran', 33, 38, 59, 58, 28, 216, 'C', 'B', 'A'], ['990006', 'sj24', 27, 65, 54, 77, 33, 256, 'B', 'A', 'A'], ['990007', 'kor2', 33, 85, 98, 60, 66, 342, 'A', 'B', 'A'], ['990008', 'vsky', 41, 5, 99, 14, 67, 226, 'C', 'A', 'C'], ['990009', 'kimd', 74, 4, 1, 33, 53, 165, 'B', 'C', 'A'], ['990010', 'blue', 55, 84, 50, 89, 37, 315, 'A', 'B', 'A']]\n"
     ]
    }
   ],
   "source": [
    "quiz = quiz(\"Abc1115.txt\")"
   ]
  },
  {
   "cell_type": "code",
   "execution_count": 3,
   "metadata": {},
   "outputs": [
    {
     "data": {
      "text/plain": [
       "990916"
      ]
     },
     "execution_count": 3,
     "metadata": {},
     "output_type": "execute_result"
    }
   ],
   "source": [
    "quiz.quiz_1()"
   ]
  },
  {
   "cell_type": "code",
   "execution_count": 4,
   "metadata": {},
   "outputs": [
    {
     "data": {
      "text/plain": [
       "192"
      ]
     },
     "execution_count": 4,
     "metadata": {},
     "output_type": "execute_result"
    }
   ],
   "source": [
    "quiz.quiz_2()"
   ]
  },
  {
   "cell_type": "code",
   "execution_count": 5,
   "metadata": {
    "scrolled": true
   },
   "outputs": [
    {
     "data": {
      "text/plain": [
       "99754"
      ]
     },
     "execution_count": 5,
     "metadata": {},
     "output_type": "execute_result"
    }
   ],
   "source": [
    "quiz.quiz_3()"
   ]
  },
  {
   "cell_type": "code",
   "execution_count": 6,
   "metadata": {
    "scrolled": true
   },
   "outputs": [
    {
     "data": {
      "text/plain": [
       "574"
      ]
     },
     "execution_count": 6,
     "metadata": {},
     "output_type": "execute_result"
    }
   ],
   "source": [
    "quiz.quiz_4()"
   ]
  },
  {
   "cell_type": "code",
   "execution_count": 7,
   "metadata": {},
   "outputs": [],
   "source": [
    "quiz.save()"
   ]
  },
  {
   "cell_type": "code",
   "execution_count": null,
   "metadata": {},
   "outputs": [],
   "source": []
  }
 ],
 "metadata": {
  "kernelspec": {
   "display_name": "Python 3",
   "language": "python",
   "name": "python3"
  },
  "language_info": {
   "codemirror_mode": {
    "name": "ipython",
    "version": 3
   },
   "file_extension": ".py",
   "mimetype": "text/x-python",
   "name": "python",
   "nbconvert_exporter": "python",
   "pygments_lexer": "ipython3",
   "version": "3.7.4"
  }
 },
 "nbformat": 4,
 "nbformat_minor": 2
}

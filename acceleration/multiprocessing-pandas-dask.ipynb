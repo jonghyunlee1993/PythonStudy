{
 "cells": [
  {
   "cell_type": "markdown",
   "metadata": {},
   "source": [
    "# Multiprocessing Pool\n",
    "- 프로세스를 미리 할당하고, 해당 프로세스에 각각의 데이터를 병렬적으로 나눠주어 연산을 진행"
   ]
  },
  {
   "cell_type": "code",
   "execution_count": 1,
   "metadata": {},
   "outputs": [
    {
     "name": "stdout",
     "output_type": "stream",
     "text": [
      "값 1 에 대한 작업 Pid =  11687\n",
      "값 2 에 대한 작업 Pid =  11688\n",
      "값 0 에 대한 작업 Pid =  11686\n",
      "값 3 에 대한 작업 Pid =  11687\n",
      "값 4 에 대한 작업 Pid =  11688\n",
      "값 5 에 대한 작업 Pid =  11686\n",
      "값 6 에 대한 작업 Pid =  11688\n",
      "값 7 에 대한 작업 Pid =  11687\n",
      "값 8 에 대한 작업 Pid =  11686\n",
      "값 9 에 대한 작업 Pid =  11688\n",
      "[0, 1, 4, 9, 16, 25, 36, 49, 64, 81]\n",
      "총 작업 시간 0.012486934661865234\n"
     ]
    }
   ],
   "source": [
    "from multiprocessing import Pool\n",
    "import time\n",
    "import os\n",
    "import math\n",
    "\n",
    "def f(x):\n",
    "    print(\"값\", x, \"에 대한 작업 Pid = \",os.getpid())\n",
    "#     time.sleep(1)\n",
    "    return x*x\n",
    "\n",
    "if __name__ == '__main__':\n",
    "    p = Pool(3)\n",
    "    startTime = float(time.time())\n",
    "    print(p.map(f, range(0,10)))  # 함수와 인자값을 맵핑하면서 데이터를 분배한다\n",
    "    endTime = float(time.time())\n",
    "    print(\"총 작업 시간\", (endTime - startTime))"
   ]
  },
  {
   "cell_type": "markdown",
   "metadata": {},
   "source": [
    "# Multiprocessing Process \n",
    "- 하나의 프로세스에 하나의 함수를 할당"
   ]
  },
  {
   "cell_type": "code",
   "execution_count": 2,
   "metadata": {
    "scrolled": true
   },
   "outputs": [
    {
     "name": "stdout",
     "output_type": "stream",
     "text": [
      "0 doubled to 0 by process id: 11689\n",
      "1 doubled to 1 by process id: 11690\n",
      "2 doubled to 4 by process id: 11691\n",
      "3 doubled to 9 by process id: 11692\n",
      "4 doubled to 16 by process id: 11693\n",
      "5 doubled to 25 by process id: 11694\n",
      "6 doubled to 36 by process id: 11695\n",
      "7 doubled to 49 by process id: 11696\n",
      "8 doubled to 64 by process id: 11697\n",
      "9 doubled to 81 by process id: 11698\n",
      "총 작업 시간 0.09257125854492188\n"
     ]
    }
   ],
   "source": [
    "import os\n",
    "from multiprocessing import Process\n",
    "\n",
    "def doubler(number):\n",
    "    # A doubling function that can be used by a process\n",
    "    \n",
    "    result = number ** 2\n",
    "    proc = os.getpid()\n",
    "    print('{0} doubled to {1} by process id: {2}'.format(\n",
    "        number, result, proc))\n",
    "\n",
    "if __name__ == '__main__':\n",
    "    startTime = float(time.time())\n",
    "#     numbers = [5, 10, 15, 20, 25]\n",
    "    numbers = range(0, 10)\n",
    "    procs = []\n",
    "\n",
    "    for index, number in enumerate(numbers):\n",
    "        proc = Process(target=doubler, args=(number,))\n",
    "        procs.append(proc)\n",
    "        proc.start()\n",
    "\n",
    "    for proc in procs:\n",
    "        proc.join()\n",
    "    \n",
    "    endTime = float(time.time())\n",
    "    print(\"총 작업 시간\", (endTime - startTime))"
   ]
  },
  {
   "cell_type": "markdown",
   "metadata": {},
   "source": [
    "# Pandas DataFrame 에 적용\n",
    "- 아래의 parallelize_dataframe 함수를 이용해서 pool 방식으로 나눠준다. \n",
    "- 거기에 map 함수를 이용해 적용한다"
   ]
  },
  {
   "cell_type": "code",
   "execution_count": 3,
   "metadata": {},
   "outputs": [
    {
     "name": "stdout",
     "output_type": "stream",
     "text": [
      "whitout parallelize\n",
      "CPU times: user 778 µs, sys: 100 µs, total: 878 µs\n",
      "Wall time: 814 µs\n",
      "\n",
      "with parallelize\n",
      "CPU times: user 14 ms, sys: 17.8 ms, total: 31.9 ms\n",
      "Wall time: 145 ms\n"
     ]
    }
   ],
   "source": [
    "import pandas as pd\n",
    "import numpy as np\n",
    "import seaborn as sns\n",
    "from multiprocessing import Pool\n",
    "\n",
    "num_cores = 4\n",
    "iris = pd.DataFrame(sns.load_dataset('iris'))\n",
    "\n",
    "def parallelize_dataframe(df, func):\n",
    "    df_split = np.array_split(df, num_cores)\n",
    "    pool = Pool(num_cores)\n",
    "    df = pd.concat(pool.map(func, df_split))\n",
    "    pool.close()\n",
    "    pool.join()\n",
    "    return df\n",
    "\n",
    "def multiply_columns(data):\n",
    "    data['length_of_word'] = data['species'].apply(lambda x: len(x))\n",
    "    return data\n",
    "\n",
    "print(\"whitout parallelize\")\n",
    "%time _ = multiply_columns(iris)\n",
    "print(\"\\nwith parallelize\")\n",
    "%time _ = parallelize_dataframe(iris, multiply_columns)"
   ]
  },
  {
   "cell_type": "markdown",
   "metadata": {},
   "source": [
    "# Dask DataFrame 이용\n",
    "- 빅데이터를 처리하기 위한 라이브러리\n",
    "- pandas, numpy 등을 지원함"
   ]
  },
  {
   "cell_type": "markdown",
   "metadata": {},
   "source": [
    "## apply 함수 이용"
   ]
  },
  {
   "cell_type": "code",
   "execution_count": 4,
   "metadata": {},
   "outputs": [
    {
     "name": "stderr",
     "output_type": "stream",
     "text": [
      "/Users/jonghyun/opt/anaconda3/lib/python3.7/site-packages/dask/dataframe/core.py:4123: UserWarning: \n",
      "You did not provide metadata, so Dask is running your function on a small dataset to guess output types. It is possible that Dask will guess incorrectly.\n",
      "To provide an explicit output types or to silence this message, please provide the `meta=` keyword, as described in the map or apply function that you are using.\n",
      "  Before: .apply(func)\n",
      "  After:  .apply(func, meta=(None, 'int64'))\n",
      "\n",
      "  warnings.warn(meta_warning(meta))\n"
     ]
    },
    {
     "name": "stdout",
     "output_type": "stream",
     "text": [
      "CPU times: user 39.5 ms, sys: 29.5 ms, total: 69.1 ms\n",
      "Wall time: 103 ms\n"
     ]
    }
   ],
   "source": [
    "import dask.dataframe as dd\n",
    "\n",
    "# npartitions 로 분할 할당\n",
    "iris_dd = dd.from_pandas(iris, npartitions=8)\n",
    "iris_dd['length_of_word'] = iris_dd.apply(lambda x: len(x['species']), axis=1)\n",
    "# compute() 하기 이전에는 작업이 진행되지 않음\n",
    "# 전체 코어를 다 쓰기 위해서는 --> scheduler='processes'\n",
    "%time _ = iris_dd.compute(scheduler='processes')"
   ]
  },
  {
   "cell_type": "markdown",
   "metadata": {},
   "source": [
    "## map partitions 함수\n",
    "- partition 별로 map 함수 적용\n",
    "- 병렬 처리가 아닌 메모리 이득을 위한 함수이므로 속도는 apply 함수에 비해 느릴 수밖에 없음"
   ]
  },
  {
   "cell_type": "code",
   "execution_count": 5,
   "metadata": {},
   "outputs": [
    {
     "name": "stdout",
     "output_type": "stream",
     "text": [
      "CPU times: user 52.5 ms, sys: 38.6 ms, total: 91.2 ms\n",
      "Wall time: 131 ms\n"
     ]
    }
   ],
   "source": [
    "%time _ = iris_dd.map_partitions(multiply_columns).compute(scheduler='processes')"
   ]
  },
  {
   "cell_type": "markdown",
   "metadata": {},
   "source": [
    "# 추가확인사항\n",
    "- numba 라이브러리"
   ]
  },
  {
   "cell_type": "code",
   "execution_count": null,
   "metadata": {},
   "outputs": [],
   "source": []
  }
 ],
 "metadata": {
  "kernelspec": {
   "display_name": "Python 3",
   "language": "python",
   "name": "python3"
  },
  "language_info": {
   "codemirror_mode": {
    "name": "ipython",
    "version": 3
   },
   "file_extension": ".py",
   "mimetype": "text/x-python",
   "name": "python",
   "nbconvert_exporter": "python",
   "pygments_lexer": "ipython3",
   "version": "3.7.6"
  }
 },
 "nbformat": 4,
 "nbformat_minor": 4
}

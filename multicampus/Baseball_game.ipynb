{
 "cells": [
  {
   "cell_type": "code",
   "execution_count": 2,
   "metadata": {},
   "outputs": [
    {
     "name": "stdout",
     "output_type": "stream",
     "text": [
      "Let's start baseball game! \n",
      "Guess FOUR digits correctly!\n",
      "To stop game, plz type 'stop'\n",
      "\n",
      "Guess? >>> stop\n"
     ]
    }
   ],
   "source": [
    "def baseball_game():\n",
    "\n",
    "    import random as rnd\n",
    "    import numpy as np\n",
    "    from itertools import compress\n",
    "    import operator\n",
    "\n",
    "    ans = [rnd.randint(1, 9)]\n",
    "    ans.extend([rnd.randint(0, 9) for i in range(3)])\n",
    "\n",
    "    # print(ans)\n",
    "    print(\"Let's start baseball game! \\nGuess FOUR digits correctly!\")\n",
    "    print(\"To stop game, plz type 'stop'\")\n",
    "\n",
    "\n",
    "    while True:\n",
    "        try:\n",
    "            my_num = input(\"\\nGuess? >>> \")\n",
    "            \n",
    "            if my_num == \"stop\":\n",
    "                break\n",
    "            \n",
    "            my_num = list(map(int, list(my_num)))\n",
    "\n",
    "            comp = list(np.equal(ans, my_num))\n",
    "            reverse_comp = list(map(operator.not_, comp))\n",
    "\n",
    "            strike = sum(comp)\n",
    "\n",
    "            not_strike_guess = list(compress(my_num, reverse_comp))\n",
    "            not_strike_ans = list(compress(ans, reverse_comp))\n",
    "\n",
    "            ball = 0\n",
    "\n",
    "            for guess in not_strike_guess:\n",
    "                if guess in not_strike_ans:\n",
    "                    ball += 1\n",
    "\n",
    "            print(f\"\\nYour guess result \\nNumber of Strike: {strike} \\nNumber of Ball: {ball}\")\n",
    "\n",
    "            if strike == 4:\n",
    "                print(\"\\nCongratulations! You win!\")\n",
    "                break\n",
    "            else:\n",
    "                print(\"Try one more time!\")\n",
    "\n",
    "        except:\n",
    "            print(\"Plz type 4 digits\")\n",
    "            \n",
    "baseball_game()"
   ]
  }
 ],
 "metadata": {
  "kernelspec": {
   "display_name": "Python 3",
   "language": "python",
   "name": "python3"
  },
  "language_info": {
   "codemirror_mode": {
    "name": "ipython",
    "version": 3
   },
   "file_extension": ".py",
   "mimetype": "text/x-python",
   "name": "python",
   "nbconvert_exporter": "python",
   "pygments_lexer": "ipython3",
   "version": "3.7.4"
  }
 },
 "nbformat": 4,
 "nbformat_minor": 2
}

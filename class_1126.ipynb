{
 "cells": [
  {
   "cell_type": "code",
   "execution_count": 10,
   "metadata": {},
   "outputs": [],
   "source": [
    "class Calculator:\n",
    "    def __init__(self):\n",
    "        self.result= 0\n",
    "    \n",
    "    def add(self, num):\n",
    "        self.result += num\n",
    "#         return self.result\n",
    "    "
   ]
  },
  {
   "cell_type": "code",
   "execution_count": 12,
   "metadata": {},
   "outputs": [
    {
     "name": "stdout",
     "output_type": "stream",
     "text": [
      "10\n"
     ]
    }
   ],
   "source": [
    "cal1 = Calculator()\n",
    "cal1.add(3)\n",
    "cal1.add(7)\n",
    "print(cal1.result)"
   ]
  },
  {
   "cell_type": "code",
   "execution_count": 24,
   "metadata": {},
   "outputs": [],
   "source": [
    "class FourCal:\n",
    "    def __init__(self):\n",
    "        self.res = 0\n",
    "        self.a = 0\n",
    "        self.b = 0\n",
    "    \n",
    "    def setdata(self, a, b):\n",
    "        self.a = a\n",
    "        self.b = b\n",
    "        return 0\n",
    "    \n",
    "    def add(self):\n",
    "        self.res = self.a + self.b\n",
    "        return self.res\n",
    "    \n",
    "    def sub(self):\n",
    "        self.res = self.a - self.b\n",
    "        return self.res\n",
    "    \n",
    "    def mul(self):\n",
    "        self.res = self.a * self.b\n",
    "        return self.res\n",
    "    \n",
    "    def div(self):\n",
    "        self.res = self.a / self.b\n",
    "        return self.res"
   ]
  },
  {
   "cell_type": "code",
   "execution_count": 25,
   "metadata": {},
   "outputs": [
    {
     "name": "stdout",
     "output_type": "stream",
     "text": [
      "15\n"
     ]
    }
   ],
   "source": [
    "fourcal = FourCal()\n",
    "fourcal.setdata(5,10)\n",
    "res = fourcal.add()\n",
    "print(res)"
   ]
  },
  {
   "cell_type": "code",
   "execution_count": 26,
   "metadata": {},
   "outputs": [
    {
     "data": {
      "text/plain": [
       "0.5"
      ]
     },
     "execution_count": 26,
     "metadata": {},
     "output_type": "execute_result"
    }
   ],
   "source": [
    "fourcal.div()"
   ]
  },
  {
   "cell_type": "code",
   "execution_count": 27,
   "metadata": {},
   "outputs": [
    {
     "name": "stdout",
     "output_type": "stream",
     "text": [
      "[37, 86, 50]\n",
      "[87, 60, 70]\n",
      "[8, 85, 40]\n"
     ]
    }
   ],
   "source": [
    "import random as rnd\n",
    "\n",
    "a = [rnd.randint(1, 101) for i in range(3)]\n",
    "b = [rnd.randint(1, 101) for i in range(3)]\n",
    "c = [rnd.randint(1, 101) for i in range(3)]\n",
    "\n",
    "print(a)\n",
    "print(b)\n",
    "print(c)"
   ]
  },
  {
   "cell_type": "code",
   "execution_count": 38,
   "metadata": {},
   "outputs": [
    {
     "name": "stdout",
     "output_type": "stream",
     "text": [
      "[37, 86, 50]\n",
      "[87, 60, 70]\n",
      "[8, 85, 40]\n",
      "57.67\n",
      "72.33\n",
      "44.33\n"
     ]
    }
   ],
   "source": [
    "import numpy as np\n",
    "\n",
    "class Student():\n",
    "    def __init__(self, a, b, c):\n",
    "        self.a = a\n",
    "        self.b = b\n",
    "        self.c = c\n",
    "    \n",
    "    def print_score(self, x):\n",
    "        if x == \"a\":\n",
    "            print(self.a)\n",
    "        elif x == \"b\":\n",
    "            print(self.b)\n",
    "        else:\n",
    "            print(self.c)\n",
    "    \n",
    "    def print_avg(self, x):\n",
    "        if x == \"a\":\n",
    "            print(f\"{np.mean(self.a):3.2f}\")\n",
    "        elif x == \"b\":\n",
    "            print(f\"{np.mean(self.b):3.2f}\")\n",
    "        else:\n",
    "            print(f\"{np.mean(self.c):3.2f}\")\n",
    "    \n",
    "student = Student(a,b,c)\n",
    "student.print_score('a')\n",
    "student.print_score('b')\n",
    "student.print_score('C')\n",
    "student.print_avg('a')\n",
    "student.print_avg('b')\n",
    "student.print_avg('C')"
   ]
  },
  {
   "cell_type": "code",
   "execution_count": 48,
   "metadata": {},
   "outputs": [
    {
     "name": "stdout",
     "output_type": "stream",
     "text": [
      "천사\n",
      "허용되지 않는 별명\n"
     ]
    },
    {
     "ename": "MyError",
     "evalue": "허용되지 않는 별명",
     "output_type": "error",
     "traceback": [
      "\u001b[1;31m---------------------------------------------------------------------------\u001b[0m",
      "\u001b[1;31mMyError\u001b[0m                                   Traceback (most recent call last)",
      "\u001b[1;32m<ipython-input-48-baff0cb10f50>\u001b[0m in \u001b[0;36m<module>\u001b[1;34m\u001b[0m\n\u001b[0;32m     15\u001b[0m     \u001b[0mprint\u001b[0m\u001b[1;33m(\u001b[0m\u001b[0me\u001b[0m\u001b[1;33m)\u001b[0m\u001b[1;33m\u001b[0m\u001b[1;33m\u001b[0m\u001b[0m\n\u001b[0;32m     16\u001b[0m \u001b[1;33m\u001b[0m\u001b[0m\n\u001b[1;32m---> 17\u001b[1;33m \u001b[0msay_nick\u001b[0m\u001b[1;33m(\u001b[0m\u001b[1;34m\"바보\"\u001b[0m\u001b[1;33m)\u001b[0m\u001b[1;33m\u001b[0m\u001b[1;33m\u001b[0m\u001b[0m\n\u001b[0m",
      "\u001b[1;32m<ipython-input-48-baff0cb10f50>\u001b[0m in \u001b[0;36msay_nick\u001b[1;34m(nick)\u001b[0m\n\u001b[0;32m      6\u001b[0m \u001b[1;32mdef\u001b[0m \u001b[0msay_nick\u001b[0m\u001b[1;33m(\u001b[0m\u001b[0mnick\u001b[0m\u001b[1;33m)\u001b[0m\u001b[1;33m:\u001b[0m\u001b[1;33m\u001b[0m\u001b[1;33m\u001b[0m\u001b[0m\n\u001b[0;32m      7\u001b[0m     \u001b[1;32mif\u001b[0m \u001b[0mnick\u001b[0m \u001b[1;33m==\u001b[0m \u001b[1;34m'바보'\u001b[0m\u001b[1;33m:\u001b[0m\u001b[1;33m\u001b[0m\u001b[1;33m\u001b[0m\u001b[0m\n\u001b[1;32m----> 8\u001b[1;33m         \u001b[1;32mraise\u001b[0m \u001b[0mMyError\u001b[0m\u001b[1;33m(\u001b[0m\u001b[1;33m)\u001b[0m\u001b[1;33m\u001b[0m\u001b[1;33m\u001b[0m\u001b[0m\n\u001b[0m\u001b[0;32m      9\u001b[0m     \u001b[0mprint\u001b[0m\u001b[1;33m(\u001b[0m\u001b[0mnick\u001b[0m\u001b[1;33m)\u001b[0m\u001b[1;33m\u001b[0m\u001b[1;33m\u001b[0m\u001b[0m\n\u001b[0;32m     10\u001b[0m \u001b[1;33m\u001b[0m\u001b[0m\n",
      "\u001b[1;31mMyError\u001b[0m: 허용되지 않는 별명"
     ]
    }
   ],
   "source": [
    "class MyError(Exception):\n",
    "    def __str__(self):\n",
    "        return \"허용되지 않는 별명\"\n",
    "#     pass\n",
    "\n",
    "def say_nick(nick):\n",
    "    if nick == '바보':\n",
    "        raise MyError()\n",
    "    print(nick)\n",
    "\n",
    "try:\n",
    "    say_nick(\"천사\")\n",
    "    say_nick(\"바보\")\n",
    "except MyError as e:\n",
    "    print(e)\n",
    "    \n",
    "say_nick(\"바보\")"
   ]
  },
  {
   "cell_type": "code",
   "execution_count": 55,
   "metadata": {},
   "outputs": [
    {
     "data": {
      "text/plain": [
       "[94, 67, 79, 39, 99, 77, 18, 64, 32, 71, 16, 56, 3, 88, 9, 93, 85, 75, 48, 30]"
      ]
     },
     "execution_count": 55,
     "metadata": {},
     "output_type": "execute_result"
    }
   ],
   "source": [
    "class Util():   \n",
    "    def __init__(self, a):\n",
    "        self.res = None\n",
    "        self.a = a\n",
    "        \n",
    "    def random_generator(self):\n",
    "        import random as rnd\n",
    "        self.res = [rnd.randint(1, 101) for i in range(self.a)]\n",
    "        return self.res\n",
    "    \n",
    "util = Util(20)\n",
    "util.random_generator()"
   ]
  }
 ],
 "metadata": {
  "kernelspec": {
   "display_name": "Python 3",
   "language": "python",
   "name": "python3"
  },
  "language_info": {
   "codemirror_mode": {
    "name": "ipython",
    "version": 3
   },
   "file_extension": ".py",
   "mimetype": "text/x-python",
   "name": "python",
   "nbconvert_exporter": "python",
   "pygments_lexer": "ipython3",
   "version": "3.7.4"
  }
 },
 "nbformat": 4,
 "nbformat_minor": 2
}

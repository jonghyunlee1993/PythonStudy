{
 "cells": [
  {
   "cell_type": "code",
   "execution_count": 10,
   "metadata": {},
   "outputs": [],
   "source": [
    "class Calculator:\n",
    "    def __init__(self):\n",
    "        self.result= 0\n",
    "    \n",
    "    def add(self, num):\n",
    "        self.result += num\n",
    "#         return self.result\n",
    "    "
   ]
  },
  {
   "cell_type": "code",
   "execution_count": 12,
   "metadata": {},
   "outputs": [
    {
     "name": "stdout",
     "output_type": "stream",
     "text": [
      "10\n"
     ]
    }
   ],
   "source": [
    "cal1 = Calculator()\n",
    "cal1.add(3)\n",
    "cal1.add(7)\n",
    "print(cal1.result)"
   ]
  },
  {
   "cell_type": "code",
   "execution_count": 18,
   "metadata": {},
   "outputs": [],
   "source": [
    "class FourCal:\n",
    "    def __init__(self):\n",
    "        self.res = 0\n",
    "        self.a = 0\n",
    "        self.b = 0\n",
    "    \n",
    "    def setdata(self, a, b):\n",
    "        self.a = a\n",
    "        self.b = b\n",
    "        return 0\n",
    "    \n",
    "    def add(self):\n",
    "        self.res = self.a + self.b\n",
    "        return self.res\n",
    "    \n",
    "    def sub(self):\n",
    "        self.res = self.a - self.b\n",
    "        return self.res\n",
    "    \n",
    "    def mul(self):\n",
    "        self.res = self.a * self.b\n",
    "        return self.res\n",
    "    \n",
    "    def div(self):\n",
    "        self.res = self.a / self.b\n",
    "        return self.res"
   ]
  },
  {
   "cell_type": "code",
   "execution_count": 23,
   "metadata": {},
   "outputs": [
    {
     "name": "stdout",
     "output_type": "stream",
     "text": [
      "0\n"
     ]
    }
   ],
   "source": [
    "fourcal = FourCal()\n",
    "fourcal.setdata(5,10)\n",
    "res = fourcal.add()\n",
    "print(res)"
   ]
  },
  {
   "cell_type": "code",
   "execution_count": 17,
   "metadata": {},
   "outputs": [
    {
     "data": {
      "text/plain": [
       "0.5"
      ]
     },
     "execution_count": 17,
     "metadata": {},
     "output_type": "execute_result"
    }
   ],
   "source": [
    "fourcal.div()"
   ]
  }
 ],
 "metadata": {
  "kernelspec": {
   "display_name": "Python 3",
   "language": "python",
   "name": "python3"
  },
  "language_info": {
   "codemirror_mode": {
    "name": "ipython",
    "version": 3
   },
   "file_extension": ".py",
   "mimetype": "text/x-python",
   "name": "python",
   "nbconvert_exporter": "python",
   "pygments_lexer": "ipython3",
   "version": "3.7.4"
  }
 },
 "nbformat": 4,
 "nbformat_minor": 2
}

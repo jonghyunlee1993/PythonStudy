{
 "cells": [
  {
   "cell_type": "code",
   "execution_count": 7,
   "metadata": {},
   "outputs": [],
   "source": [
    "def word_game(word_num):\n",
    "\n",
    "    import numpy as np\n",
    "    \n",
    "    word_list = ['welcome', 'internationalization']\n",
    "    \n",
    "    if word_num < len(word_list):\n",
    "        string = word_list[word_num]\n",
    "    else:\n",
    "        print(f\"해당 게임은 총 {len(word_list)}개의 단어를 가지고 있습니다.\")\n",
    "        return()\n",
    "    \n",
    "    my_string = list(string)\n",
    "\n",
    "    n_blank = len(my_string)//3\n",
    "    rand_idx = list(np.random.permutation(len(my_string))[:-n_blank])\n",
    "    rand_idx.sort()\n",
    "\n",
    "    ans = my_string.copy()\n",
    "\n",
    "    for idx in rand_idx:\n",
    "        ans[idx] = \"_\"\n",
    "\n",
    "    print(\"단어 맞추기 게임을 시작합니다. 다음 빈칸에 들어갈 글자를 맞춰보세요!\")\n",
    "\n",
    "    round = 1\n",
    "\n",
    "    for idx in rand_idx:\n",
    "        while True:\n",
    "            print(f\"{round}번째 라운드입니다.\")\n",
    "            print(ans)\n",
    "            print(\"\\n\")\n",
    "            s = input(\"Guess >>> \")\n",
    "\n",
    "            if s == my_string[idx]:\n",
    "                if idx != rand_idx[-1]:\n",
    "                    print(\"맞았습니다! 다음 글자를 맞춰 보세요.\\n\")\n",
    "                ans[idx] = my_string[idx]\n",
    "                round += 1\n",
    "                break\n",
    "            else:\n",
    "                print(f\"입력하신 {s}가 아닙니다. 다시 입력하세요.\")\n",
    "\n",
    "    print(\"\")\n",
    "    print(\"정답입니다!\")\n",
    "    print(string)"
   ]
  },
  {
   "cell_type": "code",
   "execution_count": null,
   "metadata": {},
   "outputs": [],
   "source": [
    "word_game(1)"
   ]
  },
  {
   "cell_type": "code",
   "execution_count": 8,
   "metadata": {},
   "outputs": [
    {
     "name": "stdout",
     "output_type": "stream",
     "text": [
      "해당 게임은 총 2개의 단어를 가지고 있습니다.\n"
     ]
    },
    {
     "data": {
      "text/plain": [
       "()"
      ]
     },
     "execution_count": 8,
     "metadata": {},
     "output_type": "execute_result"
    }
   ],
   "source": [
    "word_game(2)"
   ]
  }
 ],
 "metadata": {
  "kernelspec": {
   "display_name": "Python 3",
   "language": "python",
   "name": "python3"
  },
  "language_info": {
   "codemirror_mode": {
    "name": "ipython",
    "version": 3
   },
   "file_extension": ".py",
   "mimetype": "text/x-python",
   "name": "python",
   "nbconvert_exporter": "python",
   "pygments_lexer": "ipython3",
   "version": "3.7.4"
  }
 },
 "nbformat": 4,
 "nbformat_minor": 2
}
